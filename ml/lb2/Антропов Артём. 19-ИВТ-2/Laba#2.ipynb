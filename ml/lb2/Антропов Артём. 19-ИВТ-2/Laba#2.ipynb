{
 "cells": [
  {
   "cell_type": "markdown",
   "id": "equivalent-bankruptcy",
   "metadata": {},
   "source": [
    "### Лабораторная работа № 2. \n",
    "\n",
    "### Антропов Артем Эдуардович 19-ИВТ-2\n",
    "### Вариант 2\n",
    "#### 1. Подсчитайте количество отменённых рейсов.\n",
    "#### 2. Определите аэропорт, рейсы для которого отменяются наиболее часто.\n",
    "#### 3. Определите коэффициент корреляции Пирсона и Спирмена между отменой рейса и днём недели, месяцем, авиакомпанией, аэропортом. Оцените значение p-value. Постройте плотность распределения признаков.\n",
    "#### 4. Подсчитайте для трёх выбранных авиакомпаний: количество рейсов, количество отменённых рейсов, количество перенаправленных рейсов.\n",
    "#### 5. Определите скорость полёта для каждого рейса, скорость полёта среднюю для трёх выбранных авиакомпаний.\n",
    "#### 6. Визуализируйте тепловую карту частоты отмены рейсов. По одной оси – дни, по другой оси – рейс (для двух аэропортов).\n",
    "#### 7. Посчитайте и визуализируйте время задержки отправки и прибытия по трём аэропортам.\n",
    "#### 8. Определите для трёх выбранных аэропортов и визуализируйте задержки по каждой причине.\n",
    "#### 9. Определите авиакомпанию с максимальными задержками рейсов по отправке и прибытию."
   ]
  },
  {
   "cell_type": "markdown",
   "id": "floral-composer",
   "metadata": {},
   "source": [
    "import pandas as pd\n",
    "import matplotlib.pyplot as plt\n",
    "import seaborn as sns\n",
    "%matplotlib inline"
   ]
  },
  {
   "cell_type": "code",
   "execution_count": 121,
   "id": "monetary-amsterdam",
   "metadata": {},
   "outputs": [
    {
     "data": {
      "text/html": [
       "<div>\n",
       "<style scoped>\n",
       "    .dataframe tbody tr th:only-of-type {\n",
       "        vertical-align: middle;\n",
       "    }\n",
       "\n",
       "    .dataframe tbody tr th {\n",
       "        vertical-align: top;\n",
       "    }\n",
       "\n",
       "    .dataframe thead th {\n",
       "        text-align: right;\n",
       "    }\n",
       "</style>\n",
       "<table border=\"1\" class=\"dataframe\">\n",
       "  <thead>\n",
       "    <tr style=\"text-align: right;\">\n",
       "      <th></th>\n",
       "      <th>YEAR</th>\n",
       "      <th>MONTH</th>\n",
       "      <th>DAY</th>\n",
       "      <th>DAY_OF_WEEK</th>\n",
       "      <th>AIRLINE</th>\n",
       "      <th>FLIGHT_NUMBER</th>\n",
       "      <th>TAIL_NUMBER</th>\n",
       "      <th>ORIGIN_AIRPORT</th>\n",
       "      <th>DESTINATION_AIRPORT</th>\n",
       "      <th>SCHEDULED_DEPARTURE</th>\n",
       "      <th>...</th>\n",
       "      <th>ARRIVAL_TIME</th>\n",
       "      <th>ARRIVAL_DELAY</th>\n",
       "      <th>DIVERTED</th>\n",
       "      <th>CANCELLED</th>\n",
       "      <th>CANCELLATION_REASON</th>\n",
       "      <th>AIR_SYSTEM_DELAY</th>\n",
       "      <th>SECURITY_DELAY</th>\n",
       "      <th>AIRLINE_DELAY</th>\n",
       "      <th>LATE_AIRCRAFT_DELAY</th>\n",
       "      <th>WEATHER_DELAY</th>\n",
       "    </tr>\n",
       "  </thead>\n",
       "  <tbody>\n",
       "    <tr>\n",
       "      <th>0</th>\n",
       "      <td>2015</td>\n",
       "      <td>1</td>\n",
       "      <td>1</td>\n",
       "      <td>4</td>\n",
       "      <td>AS</td>\n",
       "      <td>98</td>\n",
       "      <td>N407AS</td>\n",
       "      <td>ANC</td>\n",
       "      <td>SEA</td>\n",
       "      <td>5</td>\n",
       "      <td>...</td>\n",
       "      <td>408.0</td>\n",
       "      <td>-22.0</td>\n",
       "      <td>0</td>\n",
       "      <td>0</td>\n",
       "      <td>NaN</td>\n",
       "      <td>NaN</td>\n",
       "      <td>NaN</td>\n",
       "      <td>NaN</td>\n",
       "      <td>NaN</td>\n",
       "      <td>NaN</td>\n",
       "    </tr>\n",
       "    <tr>\n",
       "      <th>1</th>\n",
       "      <td>2015</td>\n",
       "      <td>1</td>\n",
       "      <td>1</td>\n",
       "      <td>4</td>\n",
       "      <td>AA</td>\n",
       "      <td>2336</td>\n",
       "      <td>N3KUAA</td>\n",
       "      <td>LAX</td>\n",
       "      <td>PBI</td>\n",
       "      <td>10</td>\n",
       "      <td>...</td>\n",
       "      <td>741.0</td>\n",
       "      <td>-9.0</td>\n",
       "      <td>0</td>\n",
       "      <td>0</td>\n",
       "      <td>NaN</td>\n",
       "      <td>NaN</td>\n",
       "      <td>NaN</td>\n",
       "      <td>NaN</td>\n",
       "      <td>NaN</td>\n",
       "      <td>NaN</td>\n",
       "    </tr>\n",
       "    <tr>\n",
       "      <th>2</th>\n",
       "      <td>2015</td>\n",
       "      <td>1</td>\n",
       "      <td>1</td>\n",
       "      <td>4</td>\n",
       "      <td>US</td>\n",
       "      <td>840</td>\n",
       "      <td>N171US</td>\n",
       "      <td>SFO</td>\n",
       "      <td>CLT</td>\n",
       "      <td>20</td>\n",
       "      <td>...</td>\n",
       "      <td>811.0</td>\n",
       "      <td>5.0</td>\n",
       "      <td>0</td>\n",
       "      <td>0</td>\n",
       "      <td>NaN</td>\n",
       "      <td>NaN</td>\n",
       "      <td>NaN</td>\n",
       "      <td>NaN</td>\n",
       "      <td>NaN</td>\n",
       "      <td>NaN</td>\n",
       "    </tr>\n",
       "    <tr>\n",
       "      <th>3</th>\n",
       "      <td>2015</td>\n",
       "      <td>1</td>\n",
       "      <td>1</td>\n",
       "      <td>4</td>\n",
       "      <td>AA</td>\n",
       "      <td>258</td>\n",
       "      <td>N3HYAA</td>\n",
       "      <td>LAX</td>\n",
       "      <td>MIA</td>\n",
       "      <td>20</td>\n",
       "      <td>...</td>\n",
       "      <td>756.0</td>\n",
       "      <td>-9.0</td>\n",
       "      <td>0</td>\n",
       "      <td>0</td>\n",
       "      <td>NaN</td>\n",
       "      <td>NaN</td>\n",
       "      <td>NaN</td>\n",
       "      <td>NaN</td>\n",
       "      <td>NaN</td>\n",
       "      <td>NaN</td>\n",
       "    </tr>\n",
       "    <tr>\n",
       "      <th>4</th>\n",
       "      <td>2015</td>\n",
       "      <td>1</td>\n",
       "      <td>1</td>\n",
       "      <td>4</td>\n",
       "      <td>AS</td>\n",
       "      <td>135</td>\n",
       "      <td>N527AS</td>\n",
       "      <td>SEA</td>\n",
       "      <td>ANC</td>\n",
       "      <td>25</td>\n",
       "      <td>...</td>\n",
       "      <td>259.0</td>\n",
       "      <td>-21.0</td>\n",
       "      <td>0</td>\n",
       "      <td>0</td>\n",
       "      <td>NaN</td>\n",
       "      <td>NaN</td>\n",
       "      <td>NaN</td>\n",
       "      <td>NaN</td>\n",
       "      <td>NaN</td>\n",
       "      <td>NaN</td>\n",
       "    </tr>\n",
       "    <tr>\n",
       "      <th>...</th>\n",
       "      <td>...</td>\n",
       "      <td>...</td>\n",
       "      <td>...</td>\n",
       "      <td>...</td>\n",
       "      <td>...</td>\n",
       "      <td>...</td>\n",
       "      <td>...</td>\n",
       "      <td>...</td>\n",
       "      <td>...</td>\n",
       "      <td>...</td>\n",
       "      <td>...</td>\n",
       "      <td>...</td>\n",
       "      <td>...</td>\n",
       "      <td>...</td>\n",
       "      <td>...</td>\n",
       "      <td>...</td>\n",
       "      <td>...</td>\n",
       "      <td>...</td>\n",
       "      <td>...</td>\n",
       "      <td>...</td>\n",
       "      <td>...</td>\n",
       "    </tr>\n",
       "    <tr>\n",
       "      <th>1048570</th>\n",
       "      <td>2015</td>\n",
       "      <td>3</td>\n",
       "      <td>10</td>\n",
       "      <td>2</td>\n",
       "      <td>EV</td>\n",
       "      <td>4122</td>\n",
       "      <td>N11191</td>\n",
       "      <td>RDU</td>\n",
       "      <td>EWR</td>\n",
       "      <td>1013</td>\n",
       "      <td>...</td>\n",
       "      <td>1133.0</td>\n",
       "      <td>-16.0</td>\n",
       "      <td>0</td>\n",
       "      <td>0</td>\n",
       "      <td>NaN</td>\n",
       "      <td>NaN</td>\n",
       "      <td>NaN</td>\n",
       "      <td>NaN</td>\n",
       "      <td>NaN</td>\n",
       "      <td>NaN</td>\n",
       "    </tr>\n",
       "    <tr>\n",
       "      <th>1048571</th>\n",
       "      <td>2015</td>\n",
       "      <td>3</td>\n",
       "      <td>10</td>\n",
       "      <td>2</td>\n",
       "      <td>UA</td>\n",
       "      <td>1018</td>\n",
       "      <td>N79279</td>\n",
       "      <td>LGA</td>\n",
       "      <td>IAH</td>\n",
       "      <td>1013</td>\n",
       "      <td>...</td>\n",
       "      <td>1335.0</td>\n",
       "      <td>-2.0</td>\n",
       "      <td>0</td>\n",
       "      <td>0</td>\n",
       "      <td>NaN</td>\n",
       "      <td>NaN</td>\n",
       "      <td>NaN</td>\n",
       "      <td>NaN</td>\n",
       "      <td>NaN</td>\n",
       "      <td>NaN</td>\n",
       "    </tr>\n",
       "    <tr>\n",
       "      <th>1048572</th>\n",
       "      <td>2015</td>\n",
       "      <td>3</td>\n",
       "      <td>10</td>\n",
       "      <td>2</td>\n",
       "      <td>UA</td>\n",
       "      <td>1260</td>\n",
       "      <td>N76508</td>\n",
       "      <td>SAN</td>\n",
       "      <td>ORD</td>\n",
       "      <td>1013</td>\n",
       "      <td>...</td>\n",
       "      <td>1627.0</td>\n",
       "      <td>3.0</td>\n",
       "      <td>0</td>\n",
       "      <td>0</td>\n",
       "      <td>NaN</td>\n",
       "      <td>NaN</td>\n",
       "      <td>NaN</td>\n",
       "      <td>NaN</td>\n",
       "      <td>NaN</td>\n",
       "      <td>NaN</td>\n",
       "    </tr>\n",
       "    <tr>\n",
       "      <th>1048573</th>\n",
       "      <td>2015</td>\n",
       "      <td>3</td>\n",
       "      <td>10</td>\n",
       "      <td>2</td>\n",
       "      <td>EV</td>\n",
       "      <td>4349</td>\n",
       "      <td>N14158</td>\n",
       "      <td>MSY</td>\n",
       "      <td>ORD</td>\n",
       "      <td>1013</td>\n",
       "      <td>...</td>\n",
       "      <td>1229.0</td>\n",
       "      <td>-13.0</td>\n",
       "      <td>0</td>\n",
       "      <td>0</td>\n",
       "      <td>NaN</td>\n",
       "      <td>NaN</td>\n",
       "      <td>NaN</td>\n",
       "      <td>NaN</td>\n",
       "      <td>NaN</td>\n",
       "      <td>NaN</td>\n",
       "    </tr>\n",
       "    <tr>\n",
       "      <th>1048574</th>\n",
       "      <td>2015</td>\n",
       "      <td>3</td>\n",
       "      <td>10</td>\n",
       "      <td>2</td>\n",
       "      <td>MQ</td>\n",
       "      <td>2916</td>\n",
       "      <td>N539MQ</td>\n",
       "      <td>CID</td>\n",
       "      <td>ORD</td>\n",
       "      <td>1013</td>\n",
       "      <td>...</td>\n",
       "      <td>NaN</td>\n",
       "      <td>NaN</td>\n",
       "      <td>0</td>\n",
       "      <td>1</td>\n",
       "      <td>B</td>\n",
       "      <td>NaN</td>\n",
       "      <td>NaN</td>\n",
       "      <td>NaN</td>\n",
       "      <td>NaN</td>\n",
       "      <td>NaN</td>\n",
       "    </tr>\n",
       "  </tbody>\n",
       "</table>\n",
       "<p>1048575 rows × 31 columns</p>\n",
       "</div>"
      ],
      "text/plain": [
       "         YEAR  MONTH  DAY  DAY_OF_WEEK AIRLINE  FLIGHT_NUMBER TAIL_NUMBER  \\\n",
       "0        2015      1    1            4      AS             98      N407AS   \n",
       "1        2015      1    1            4      AA           2336      N3KUAA   \n",
       "2        2015      1    1            4      US            840      N171US   \n",
       "3        2015      1    1            4      AA            258      N3HYAA   \n",
       "4        2015      1    1            4      AS            135      N527AS   \n",
       "...       ...    ...  ...          ...     ...            ...         ...   \n",
       "1048570  2015      3   10            2      EV           4122      N11191   \n",
       "1048571  2015      3   10            2      UA           1018      N79279   \n",
       "1048572  2015      3   10            2      UA           1260      N76508   \n",
       "1048573  2015      3   10            2      EV           4349      N14158   \n",
       "1048574  2015      3   10            2      MQ           2916      N539MQ   \n",
       "\n",
       "        ORIGIN_AIRPORT DESTINATION_AIRPORT  SCHEDULED_DEPARTURE  ...  \\\n",
       "0                  ANC                 SEA                    5  ...   \n",
       "1                  LAX                 PBI                   10  ...   \n",
       "2                  SFO                 CLT                   20  ...   \n",
       "3                  LAX                 MIA                   20  ...   \n",
       "4                  SEA                 ANC                   25  ...   \n",
       "...                ...                 ...                  ...  ...   \n",
       "1048570            RDU                 EWR                 1013  ...   \n",
       "1048571            LGA                 IAH                 1013  ...   \n",
       "1048572            SAN                 ORD                 1013  ...   \n",
       "1048573            MSY                 ORD                 1013  ...   \n",
       "1048574            CID                 ORD                 1013  ...   \n",
       "\n",
       "         ARRIVAL_TIME  ARRIVAL_DELAY  DIVERTED  CANCELLED  \\\n",
       "0               408.0          -22.0         0          0   \n",
       "1               741.0           -9.0         0          0   \n",
       "2               811.0            5.0         0          0   \n",
       "3               756.0           -9.0         0          0   \n",
       "4               259.0          -21.0         0          0   \n",
       "...               ...            ...       ...        ...   \n",
       "1048570        1133.0          -16.0         0          0   \n",
       "1048571        1335.0           -2.0         0          0   \n",
       "1048572        1627.0            3.0         0          0   \n",
       "1048573        1229.0          -13.0         0          0   \n",
       "1048574           NaN            NaN         0          1   \n",
       "\n",
       "         CANCELLATION_REASON  AIR_SYSTEM_DELAY  SECURITY_DELAY  AIRLINE_DELAY  \\\n",
       "0                        NaN               NaN             NaN            NaN   \n",
       "1                        NaN               NaN             NaN            NaN   \n",
       "2                        NaN               NaN             NaN            NaN   \n",
       "3                        NaN               NaN             NaN            NaN   \n",
       "4                        NaN               NaN             NaN            NaN   \n",
       "...                      ...               ...             ...            ...   \n",
       "1048570                  NaN               NaN             NaN            NaN   \n",
       "1048571                  NaN               NaN             NaN            NaN   \n",
       "1048572                  NaN               NaN             NaN            NaN   \n",
       "1048573                  NaN               NaN             NaN            NaN   \n",
       "1048574                    B               NaN             NaN            NaN   \n",
       "\n",
       "         LATE_AIRCRAFT_DELAY  WEATHER_DELAY  \n",
       "0                        NaN            NaN  \n",
       "1                        NaN            NaN  \n",
       "2                        NaN            NaN  \n",
       "3                        NaN            NaN  \n",
       "4                        NaN            NaN  \n",
       "...                      ...            ...  \n",
       "1048570                  NaN            NaN  \n",
       "1048571                  NaN            NaN  \n",
       "1048572                  NaN            NaN  \n",
       "1048573                  NaN            NaN  \n",
       "1048574                  NaN            NaN  \n",
       "\n",
       "[1048575 rows x 31 columns]"
      ]
     },
     "execution_count": 121,
     "metadata": {},
     "output_type": "execute_result"
    }
   ],
   "source": [
    "flights_df = pd.read_csv('flights.csv')\n",
    "df = flights_df\n",
    "airline_df = flights_df\n",
    "flights_df"
   ]
  },
  {
   "cell_type": "code",
   "execution_count": 80,
   "id": "educational-convenience",
   "metadata": {},
   "outputs": [
    {
     "data": {
      "text/html": [
       "<div>\n",
       "<style scoped>\n",
       "    .dataframe tbody tr th:only-of-type {\n",
       "        vertical-align: middle;\n",
       "    }\n",
       "\n",
       "    .dataframe tbody tr th {\n",
       "        vertical-align: top;\n",
       "    }\n",
       "\n",
       "    .dataframe thead th {\n",
       "        text-align: right;\n",
       "    }\n",
       "</style>\n",
       "<table border=\"1\" class=\"dataframe\">\n",
       "  <thead>\n",
       "    <tr style=\"text-align: right;\">\n",
       "      <th></th>\n",
       "      <th>YEAR</th>\n",
       "      <th>MONTH</th>\n",
       "      <th>DAY</th>\n",
       "      <th>DAY_OF_WEEK</th>\n",
       "      <th>AIRLINE</th>\n",
       "      <th>FLIGHT_NUMBER</th>\n",
       "      <th>TAIL_NUMBER</th>\n",
       "      <th>ORIGIN_AIRPORT</th>\n",
       "      <th>DESTINATION_AIRPORT</th>\n",
       "      <th>SCHEDULED_DEPARTURE</th>\n",
       "      <th>...</th>\n",
       "      <th>ARRIVAL_TIME</th>\n",
       "      <th>ARRIVAL_DELAY</th>\n",
       "      <th>DIVERTED</th>\n",
       "      <th>CANCELLED</th>\n",
       "      <th>CANCELLATION_REASON</th>\n",
       "      <th>AIR_SYSTEM_DELAY</th>\n",
       "      <th>SECURITY_DELAY</th>\n",
       "      <th>AIRLINE_DELAY</th>\n",
       "      <th>LATE_AIRCRAFT_DELAY</th>\n",
       "      <th>WEATHER_DELAY</th>\n",
       "    </tr>\n",
       "  </thead>\n",
       "  <tbody>\n",
       "    <tr>\n",
       "      <th>0</th>\n",
       "      <td>2015</td>\n",
       "      <td>1</td>\n",
       "      <td>1</td>\n",
       "      <td>4</td>\n",
       "      <td>AS</td>\n",
       "      <td>98</td>\n",
       "      <td>N407AS</td>\n",
       "      <td>ANC</td>\n",
       "      <td>SEA</td>\n",
       "      <td>5</td>\n",
       "      <td>...</td>\n",
       "      <td>408.0</td>\n",
       "      <td>-22.0</td>\n",
       "      <td>0</td>\n",
       "      <td>0</td>\n",
       "      <td>NaN</td>\n",
       "      <td>NaN</td>\n",
       "      <td>NaN</td>\n",
       "      <td>NaN</td>\n",
       "      <td>NaN</td>\n",
       "      <td>NaN</td>\n",
       "    </tr>\n",
       "    <tr>\n",
       "      <th>1</th>\n",
       "      <td>2015</td>\n",
       "      <td>1</td>\n",
       "      <td>1</td>\n",
       "      <td>4</td>\n",
       "      <td>AA</td>\n",
       "      <td>2336</td>\n",
       "      <td>N3KUAA</td>\n",
       "      <td>LAX</td>\n",
       "      <td>PBI</td>\n",
       "      <td>10</td>\n",
       "      <td>...</td>\n",
       "      <td>741.0</td>\n",
       "      <td>-9.0</td>\n",
       "      <td>0</td>\n",
       "      <td>0</td>\n",
       "      <td>NaN</td>\n",
       "      <td>NaN</td>\n",
       "      <td>NaN</td>\n",
       "      <td>NaN</td>\n",
       "      <td>NaN</td>\n",
       "      <td>NaN</td>\n",
       "    </tr>\n",
       "    <tr>\n",
       "      <th>2</th>\n",
       "      <td>2015</td>\n",
       "      <td>1</td>\n",
       "      <td>1</td>\n",
       "      <td>4</td>\n",
       "      <td>US</td>\n",
       "      <td>840</td>\n",
       "      <td>N171US</td>\n",
       "      <td>SFO</td>\n",
       "      <td>CLT</td>\n",
       "      <td>20</td>\n",
       "      <td>...</td>\n",
       "      <td>811.0</td>\n",
       "      <td>5.0</td>\n",
       "      <td>0</td>\n",
       "      <td>0</td>\n",
       "      <td>NaN</td>\n",
       "      <td>NaN</td>\n",
       "      <td>NaN</td>\n",
       "      <td>NaN</td>\n",
       "      <td>NaN</td>\n",
       "      <td>NaN</td>\n",
       "    </tr>\n",
       "    <tr>\n",
       "      <th>3</th>\n",
       "      <td>2015</td>\n",
       "      <td>1</td>\n",
       "      <td>1</td>\n",
       "      <td>4</td>\n",
       "      <td>AA</td>\n",
       "      <td>258</td>\n",
       "      <td>N3HYAA</td>\n",
       "      <td>LAX</td>\n",
       "      <td>MIA</td>\n",
       "      <td>20</td>\n",
       "      <td>...</td>\n",
       "      <td>756.0</td>\n",
       "      <td>-9.0</td>\n",
       "      <td>0</td>\n",
       "      <td>0</td>\n",
       "      <td>NaN</td>\n",
       "      <td>NaN</td>\n",
       "      <td>NaN</td>\n",
       "      <td>NaN</td>\n",
       "      <td>NaN</td>\n",
       "      <td>NaN</td>\n",
       "    </tr>\n",
       "    <tr>\n",
       "      <th>4</th>\n",
       "      <td>2015</td>\n",
       "      <td>1</td>\n",
       "      <td>1</td>\n",
       "      <td>4</td>\n",
       "      <td>AS</td>\n",
       "      <td>135</td>\n",
       "      <td>N527AS</td>\n",
       "      <td>SEA</td>\n",
       "      <td>ANC</td>\n",
       "      <td>25</td>\n",
       "      <td>...</td>\n",
       "      <td>259.0</td>\n",
       "      <td>-21.0</td>\n",
       "      <td>0</td>\n",
       "      <td>0</td>\n",
       "      <td>NaN</td>\n",
       "      <td>NaN</td>\n",
       "      <td>NaN</td>\n",
       "      <td>NaN</td>\n",
       "      <td>NaN</td>\n",
       "      <td>NaN</td>\n",
       "    </tr>\n",
       "  </tbody>\n",
       "</table>\n",
       "<p>5 rows × 31 columns</p>\n",
       "</div>"
      ],
      "text/plain": [
       "   YEAR  MONTH  DAY  DAY_OF_WEEK AIRLINE  FLIGHT_NUMBER TAIL_NUMBER  \\\n",
       "0  2015      1    1            4      AS             98      N407AS   \n",
       "1  2015      1    1            4      AA           2336      N3KUAA   \n",
       "2  2015      1    1            4      US            840      N171US   \n",
       "3  2015      1    1            4      AA            258      N3HYAA   \n",
       "4  2015      1    1            4      AS            135      N527AS   \n",
       "\n",
       "  ORIGIN_AIRPORT DESTINATION_AIRPORT  SCHEDULED_DEPARTURE  ...  ARRIVAL_TIME  \\\n",
       "0            ANC                 SEA                    5  ...         408.0   \n",
       "1            LAX                 PBI                   10  ...         741.0   \n",
       "2            SFO                 CLT                   20  ...         811.0   \n",
       "3            LAX                 MIA                   20  ...         756.0   \n",
       "4            SEA                 ANC                   25  ...         259.0   \n",
       "\n",
       "   ARRIVAL_DELAY  DIVERTED  CANCELLED  CANCELLATION_REASON  AIR_SYSTEM_DELAY  \\\n",
       "0          -22.0         0          0                  NaN               NaN   \n",
       "1           -9.0         0          0                  NaN               NaN   \n",
       "2            5.0         0          0                  NaN               NaN   \n",
       "3           -9.0         0          0                  NaN               NaN   \n",
       "4          -21.0         0          0                  NaN               NaN   \n",
       "\n",
       "   SECURITY_DELAY  AIRLINE_DELAY  LATE_AIRCRAFT_DELAY  WEATHER_DELAY  \n",
       "0             NaN            NaN                  NaN            NaN  \n",
       "1             NaN            NaN                  NaN            NaN  \n",
       "2             NaN            NaN                  NaN            NaN  \n",
       "3             NaN            NaN                  NaN            NaN  \n",
       "4             NaN            NaN                  NaN            NaN  \n",
       "\n",
       "[5 rows x 31 columns]"
      ]
     },
     "execution_count": 80,
     "metadata": {},
     "output_type": "execute_result"
    }
   ],
   "source": [
    "flights_df.head()"
   ]
  },
  {
   "cell_type": "code",
   "execution_count": 81,
   "id": "attended-worcester",
   "metadata": {},
   "outputs": [
    {
     "data": {
      "text/html": [
       "<div>\n",
       "<style scoped>\n",
       "    .dataframe tbody tr th:only-of-type {\n",
       "        vertical-align: middle;\n",
       "    }\n",
       "\n",
       "    .dataframe tbody tr th {\n",
       "        vertical-align: top;\n",
       "    }\n",
       "\n",
       "    .dataframe thead th {\n",
       "        text-align: right;\n",
       "    }\n",
       "</style>\n",
       "<table border=\"1\" class=\"dataframe\">\n",
       "  <thead>\n",
       "    <tr style=\"text-align: right;\">\n",
       "      <th></th>\n",
       "      <th>YEAR</th>\n",
       "      <th>MONTH</th>\n",
       "      <th>DAY</th>\n",
       "      <th>DAY_OF_WEEK</th>\n",
       "      <th>AIRLINE</th>\n",
       "      <th>FLIGHT_NUMBER</th>\n",
       "      <th>TAIL_NUMBER</th>\n",
       "      <th>ORIGIN_AIRPORT</th>\n",
       "      <th>DESTINATION_AIRPORT</th>\n",
       "      <th>SCHEDULED_DEPARTURE</th>\n",
       "      <th>...</th>\n",
       "      <th>ARRIVAL_TIME</th>\n",
       "      <th>ARRIVAL_DELAY</th>\n",
       "      <th>DIVERTED</th>\n",
       "      <th>CANCELLED</th>\n",
       "      <th>CANCELLATION_REASON</th>\n",
       "      <th>AIR_SYSTEM_DELAY</th>\n",
       "      <th>SECURITY_DELAY</th>\n",
       "      <th>AIRLINE_DELAY</th>\n",
       "      <th>LATE_AIRCRAFT_DELAY</th>\n",
       "      <th>WEATHER_DELAY</th>\n",
       "    </tr>\n",
       "  </thead>\n",
       "  <tbody>\n",
       "    <tr>\n",
       "      <th>1048570</th>\n",
       "      <td>2015</td>\n",
       "      <td>3</td>\n",
       "      <td>10</td>\n",
       "      <td>2</td>\n",
       "      <td>EV</td>\n",
       "      <td>4122</td>\n",
       "      <td>N11191</td>\n",
       "      <td>RDU</td>\n",
       "      <td>EWR</td>\n",
       "      <td>1013</td>\n",
       "      <td>...</td>\n",
       "      <td>1133.0</td>\n",
       "      <td>-16.0</td>\n",
       "      <td>0</td>\n",
       "      <td>0</td>\n",
       "      <td>NaN</td>\n",
       "      <td>NaN</td>\n",
       "      <td>NaN</td>\n",
       "      <td>NaN</td>\n",
       "      <td>NaN</td>\n",
       "      <td>NaN</td>\n",
       "    </tr>\n",
       "    <tr>\n",
       "      <th>1048571</th>\n",
       "      <td>2015</td>\n",
       "      <td>3</td>\n",
       "      <td>10</td>\n",
       "      <td>2</td>\n",
       "      <td>UA</td>\n",
       "      <td>1018</td>\n",
       "      <td>N79279</td>\n",
       "      <td>LGA</td>\n",
       "      <td>IAH</td>\n",
       "      <td>1013</td>\n",
       "      <td>...</td>\n",
       "      <td>1335.0</td>\n",
       "      <td>-2.0</td>\n",
       "      <td>0</td>\n",
       "      <td>0</td>\n",
       "      <td>NaN</td>\n",
       "      <td>NaN</td>\n",
       "      <td>NaN</td>\n",
       "      <td>NaN</td>\n",
       "      <td>NaN</td>\n",
       "      <td>NaN</td>\n",
       "    </tr>\n",
       "    <tr>\n",
       "      <th>1048572</th>\n",
       "      <td>2015</td>\n",
       "      <td>3</td>\n",
       "      <td>10</td>\n",
       "      <td>2</td>\n",
       "      <td>UA</td>\n",
       "      <td>1260</td>\n",
       "      <td>N76508</td>\n",
       "      <td>SAN</td>\n",
       "      <td>ORD</td>\n",
       "      <td>1013</td>\n",
       "      <td>...</td>\n",
       "      <td>1627.0</td>\n",
       "      <td>3.0</td>\n",
       "      <td>0</td>\n",
       "      <td>0</td>\n",
       "      <td>NaN</td>\n",
       "      <td>NaN</td>\n",
       "      <td>NaN</td>\n",
       "      <td>NaN</td>\n",
       "      <td>NaN</td>\n",
       "      <td>NaN</td>\n",
       "    </tr>\n",
       "    <tr>\n",
       "      <th>1048573</th>\n",
       "      <td>2015</td>\n",
       "      <td>3</td>\n",
       "      <td>10</td>\n",
       "      <td>2</td>\n",
       "      <td>EV</td>\n",
       "      <td>4349</td>\n",
       "      <td>N14158</td>\n",
       "      <td>MSY</td>\n",
       "      <td>ORD</td>\n",
       "      <td>1013</td>\n",
       "      <td>...</td>\n",
       "      <td>1229.0</td>\n",
       "      <td>-13.0</td>\n",
       "      <td>0</td>\n",
       "      <td>0</td>\n",
       "      <td>NaN</td>\n",
       "      <td>NaN</td>\n",
       "      <td>NaN</td>\n",
       "      <td>NaN</td>\n",
       "      <td>NaN</td>\n",
       "      <td>NaN</td>\n",
       "    </tr>\n",
       "    <tr>\n",
       "      <th>1048574</th>\n",
       "      <td>2015</td>\n",
       "      <td>3</td>\n",
       "      <td>10</td>\n",
       "      <td>2</td>\n",
       "      <td>MQ</td>\n",
       "      <td>2916</td>\n",
       "      <td>N539MQ</td>\n",
       "      <td>CID</td>\n",
       "      <td>ORD</td>\n",
       "      <td>1013</td>\n",
       "      <td>...</td>\n",
       "      <td>NaN</td>\n",
       "      <td>NaN</td>\n",
       "      <td>0</td>\n",
       "      <td>1</td>\n",
       "      <td>B</td>\n",
       "      <td>NaN</td>\n",
       "      <td>NaN</td>\n",
       "      <td>NaN</td>\n",
       "      <td>NaN</td>\n",
       "      <td>NaN</td>\n",
       "    </tr>\n",
       "  </tbody>\n",
       "</table>\n",
       "<p>5 rows × 31 columns</p>\n",
       "</div>"
      ],
      "text/plain": [
       "         YEAR  MONTH  DAY  DAY_OF_WEEK AIRLINE  FLIGHT_NUMBER TAIL_NUMBER  \\\n",
       "1048570  2015      3   10            2      EV           4122      N11191   \n",
       "1048571  2015      3   10            2      UA           1018      N79279   \n",
       "1048572  2015      3   10            2      UA           1260      N76508   \n",
       "1048573  2015      3   10            2      EV           4349      N14158   \n",
       "1048574  2015      3   10            2      MQ           2916      N539MQ   \n",
       "\n",
       "        ORIGIN_AIRPORT DESTINATION_AIRPORT  SCHEDULED_DEPARTURE  ...  \\\n",
       "1048570            RDU                 EWR                 1013  ...   \n",
       "1048571            LGA                 IAH                 1013  ...   \n",
       "1048572            SAN                 ORD                 1013  ...   \n",
       "1048573            MSY                 ORD                 1013  ...   \n",
       "1048574            CID                 ORD                 1013  ...   \n",
       "\n",
       "         ARRIVAL_TIME  ARRIVAL_DELAY  DIVERTED  CANCELLED  \\\n",
       "1048570        1133.0          -16.0         0          0   \n",
       "1048571        1335.0           -2.0         0          0   \n",
       "1048572        1627.0            3.0         0          0   \n",
       "1048573        1229.0          -13.0         0          0   \n",
       "1048574           NaN            NaN         0          1   \n",
       "\n",
       "         CANCELLATION_REASON  AIR_SYSTEM_DELAY  SECURITY_DELAY  AIRLINE_DELAY  \\\n",
       "1048570                  NaN               NaN             NaN            NaN   \n",
       "1048571                  NaN               NaN             NaN            NaN   \n",
       "1048572                  NaN               NaN             NaN            NaN   \n",
       "1048573                  NaN               NaN             NaN            NaN   \n",
       "1048574                    B               NaN             NaN            NaN   \n",
       "\n",
       "         LATE_AIRCRAFT_DELAY  WEATHER_DELAY  \n",
       "1048570                  NaN            NaN  \n",
       "1048571                  NaN            NaN  \n",
       "1048572                  NaN            NaN  \n",
       "1048573                  NaN            NaN  \n",
       "1048574                  NaN            NaN  \n",
       "\n",
       "[5 rows x 31 columns]"
      ]
     },
     "execution_count": 81,
     "metadata": {},
     "output_type": "execute_result"
    }
   ],
   "source": [
    "flights_df.tail()"
   ]
  },
  {
   "cell_type": "code",
   "execution_count": 82,
   "id": "received-holmes",
   "metadata": {},
   "outputs": [
    {
     "name": "stdout",
     "output_type": "stream",
     "text": [
      "<class 'pandas.core.frame.DataFrame'>\n",
      "RangeIndex: 1048575 entries, 0 to 1048574\n",
      "Data columns (total 31 columns):\n",
      " #   Column               Non-Null Count    Dtype  \n",
      "---  ------               --------------    -----  \n",
      " 0   YEAR                 1048575 non-null  int64  \n",
      " 1   MONTH                1048575 non-null  int64  \n",
      " 2   DAY                  1048575 non-null  int64  \n",
      " 3   DAY_OF_WEEK          1048575 non-null  int64  \n",
      " 4   AIRLINE              1048575 non-null  object \n",
      " 5   FLIGHT_NUMBER        1048575 non-null  int64  \n",
      " 6   TAIL_NUMBER          1040825 non-null  object \n",
      " 7   ORIGIN_AIRPORT       1048575 non-null  object \n",
      " 8   DESTINATION_AIRPORT  1048575 non-null  object \n",
      " 9   SCHEDULED_DEPARTURE  1048575 non-null  int64  \n",
      " 10  DEPARTURE_TIME       1009060 non-null  float64\n",
      " 11  DEPARTURE_DELAY      1009060 non-null  float64\n",
      " 12  TAXI_OUT             1008346 non-null  float64\n",
      " 13  WHEELS_OFF           1008346 non-null  float64\n",
      " 14  SCHEDULED_TIME       1048573 non-null  float64\n",
      " 15  ELAPSED_TIME         1005504 non-null  float64\n",
      " 16  AIR_TIME             1005504 non-null  float64\n",
      " 17  DISTANCE             1048575 non-null  int64  \n",
      " 18  WHEELS_ON            1007279 non-null  float64\n",
      " 19  TAXI_IN              1007279 non-null  float64\n",
      " 20  SCHEDULED_ARRIVAL    1048575 non-null  int64  \n",
      " 21  ARRIVAL_TIME         1007279 non-null  float64\n",
      " 22  ARRIVAL_DELAY        1005504 non-null  float64\n",
      " 23  DIVERTED             1048575 non-null  int64  \n",
      " 24  CANCELLED            1048575 non-null  int64  \n",
      " 25  CANCELLATION_REASON  40527 non-null    object \n",
      " 26  AIR_SYSTEM_DELAY     228528 non-null   float64\n",
      " 27  SECURITY_DELAY       228528 non-null   float64\n",
      " 28  AIRLINE_DELAY        228528 non-null   float64\n",
      " 29  LATE_AIRCRAFT_DELAY  228528 non-null   float64\n",
      " 30  WEATHER_DELAY        228528 non-null   float64\n",
      "dtypes: float64(16), int64(10), object(5)\n",
      "memory usage: 248.0+ MB\n"
     ]
    }
   ],
   "source": [
    "flights_df.info()"
   ]
  },
  {
   "cell_type": "code",
   "execution_count": 83,
   "id": "experienced-richmond",
   "metadata": {},
   "outputs": [
    {
     "data": {
      "text/html": [
       "<div>\n",
       "<style scoped>\n",
       "    .dataframe tbody tr th:only-of-type {\n",
       "        vertical-align: middle;\n",
       "    }\n",
       "\n",
       "    .dataframe tbody tr th {\n",
       "        vertical-align: top;\n",
       "    }\n",
       "\n",
       "    .dataframe thead th {\n",
       "        text-align: right;\n",
       "    }\n",
       "</style>\n",
       "<table border=\"1\" class=\"dataframe\">\n",
       "  <thead>\n",
       "    <tr style=\"text-align: right;\">\n",
       "      <th></th>\n",
       "      <th>YEAR</th>\n",
       "      <th>MONTH</th>\n",
       "      <th>DAY</th>\n",
       "      <th>DAY_OF_WEEK</th>\n",
       "      <th>FLIGHT_NUMBER</th>\n",
       "      <th>SCHEDULED_DEPARTURE</th>\n",
       "      <th>DEPARTURE_TIME</th>\n",
       "      <th>DEPARTURE_DELAY</th>\n",
       "      <th>TAXI_OUT</th>\n",
       "      <th>WHEELS_OFF</th>\n",
       "      <th>...</th>\n",
       "      <th>SCHEDULED_ARRIVAL</th>\n",
       "      <th>ARRIVAL_TIME</th>\n",
       "      <th>ARRIVAL_DELAY</th>\n",
       "      <th>DIVERTED</th>\n",
       "      <th>CANCELLED</th>\n",
       "      <th>AIR_SYSTEM_DELAY</th>\n",
       "      <th>SECURITY_DELAY</th>\n",
       "      <th>AIRLINE_DELAY</th>\n",
       "      <th>LATE_AIRCRAFT_DELAY</th>\n",
       "      <th>WEATHER_DELAY</th>\n",
       "    </tr>\n",
       "  </thead>\n",
       "  <tbody>\n",
       "    <tr>\n",
       "      <th>count</th>\n",
       "      <td>1048575.0</td>\n",
       "      <td>1.048575e+06</td>\n",
       "      <td>1.048575e+06</td>\n",
       "      <td>1.048575e+06</td>\n",
       "      <td>1.048575e+06</td>\n",
       "      <td>1.048575e+06</td>\n",
       "      <td>1.009060e+06</td>\n",
       "      <td>1.009060e+06</td>\n",
       "      <td>1.008346e+06</td>\n",
       "      <td>1.008346e+06</td>\n",
       "      <td>...</td>\n",
       "      <td>1.048575e+06</td>\n",
       "      <td>1.007279e+06</td>\n",
       "      <td>1.005504e+06</td>\n",
       "      <td>1.048575e+06</td>\n",
       "      <td>1.048575e+06</td>\n",
       "      <td>228528.000000</td>\n",
       "      <td>228528.000000</td>\n",
       "      <td>228528.000000</td>\n",
       "      <td>228528.000000</td>\n",
       "      <td>228528.000000</td>\n",
       "    </tr>\n",
       "    <tr>\n",
       "      <th>mean</th>\n",
       "      <td>2015.0</td>\n",
       "      <td>1.694297e+00</td>\n",
       "      <td>1.382097e+01</td>\n",
       "      <td>3.953196e+00</td>\n",
       "      <td>2.256759e+03</td>\n",
       "      <td>1.322632e+03</td>\n",
       "      <td>1.333705e+03</td>\n",
       "      <td>1.133485e+01</td>\n",
       "      <td>1.665380e+01</td>\n",
       "      <td>1.357382e+03</td>\n",
       "      <td>...</td>\n",
       "      <td>1.504820e+03</td>\n",
       "      <td>1.492204e+03</td>\n",
       "      <td>7.612191e+00</td>\n",
       "      <td>2.426150e-03</td>\n",
       "      <td>3.864960e-02</td>\n",
       "      <td>13.692554</td>\n",
       "      <td>0.057328</td>\n",
       "      <td>18.203577</td>\n",
       "      <td>22.921458</td>\n",
       "      <td>3.545277</td>\n",
       "    </tr>\n",
       "    <tr>\n",
       "      <th>std</th>\n",
       "      <td>0.0</td>\n",
       "      <td>7.051508e-01</td>\n",
       "      <td>8.725656e+00</td>\n",
       "      <td>1.999436e+00</td>\n",
       "      <td>1.799166e+03</td>\n",
       "      <td>4.707748e+02</td>\n",
       "      <td>4.827415e+02</td>\n",
       "      <td>3.922372e+01</td>\n",
       "      <td>1.007006e+01</td>\n",
       "      <td>4.830351e+02</td>\n",
       "      <td>...</td>\n",
       "      <td>4.865613e+02</td>\n",
       "      <td>5.071090e+02</td>\n",
       "      <td>4.209367e+01</td>\n",
       "      <td>4.919620e-02</td>\n",
       "      <td>1.927585e-01</td>\n",
       "      <td>25.524897</td>\n",
       "      <td>1.779647</td>\n",
       "      <td>46.323146</td>\n",
       "      <td>41.888498</td>\n",
       "      <td>23.611555</td>\n",
       "    </tr>\n",
       "    <tr>\n",
       "      <th>min</th>\n",
       "      <td>2015.0</td>\n",
       "      <td>1.000000e+00</td>\n",
       "      <td>1.000000e+00</td>\n",
       "      <td>1.000000e+00</td>\n",
       "      <td>1.000000e+00</td>\n",
       "      <td>1.000000e+00</td>\n",
       "      <td>1.000000e+00</td>\n",
       "      <td>-6.100000e+01</td>\n",
       "      <td>1.000000e+00</td>\n",
       "      <td>1.000000e+00</td>\n",
       "      <td>...</td>\n",
       "      <td>1.000000e+00</td>\n",
       "      <td>1.000000e+00</td>\n",
       "      <td>-8.200000e+01</td>\n",
       "      <td>0.000000e+00</td>\n",
       "      <td>0.000000e+00</td>\n",
       "      <td>0.000000</td>\n",
       "      <td>0.000000</td>\n",
       "      <td>0.000000</td>\n",
       "      <td>0.000000</td>\n",
       "      <td>0.000000</td>\n",
       "    </tr>\n",
       "    <tr>\n",
       "      <th>25%</th>\n",
       "      <td>2015.0</td>\n",
       "      <td>1.000000e+00</td>\n",
       "      <td>6.000000e+00</td>\n",
       "      <td>2.000000e+00</td>\n",
       "      <td>7.550000e+02</td>\n",
       "      <td>9.200000e+02</td>\n",
       "      <td>9.280000e+02</td>\n",
       "      <td>-5.000000e+00</td>\n",
       "      <td>1.100000e+01</td>\n",
       "      <td>9.440000e+02</td>\n",
       "      <td>...</td>\n",
       "      <td>1.120000e+03</td>\n",
       "      <td>1.115000e+03</td>\n",
       "      <td>-1.200000e+01</td>\n",
       "      <td>0.000000e+00</td>\n",
       "      <td>0.000000e+00</td>\n",
       "      <td>0.000000</td>\n",
       "      <td>0.000000</td>\n",
       "      <td>0.000000</td>\n",
       "      <td>0.000000</td>\n",
       "      <td>0.000000</td>\n",
       "    </tr>\n",
       "    <tr>\n",
       "      <th>50%</th>\n",
       "      <td>2015.0</td>\n",
       "      <td>2.000000e+00</td>\n",
       "      <td>1.300000e+01</td>\n",
       "      <td>4.000000e+00</td>\n",
       "      <td>1.725000e+03</td>\n",
       "      <td>1.319000e+03</td>\n",
       "      <td>1.329000e+03</td>\n",
       "      <td>-1.000000e+00</td>\n",
       "      <td>1.400000e+01</td>\n",
       "      <td>1.342000e+03</td>\n",
       "      <td>...</td>\n",
       "      <td>1.524000e+03</td>\n",
       "      <td>1.521000e+03</td>\n",
       "      <td>-3.000000e+00</td>\n",
       "      <td>0.000000e+00</td>\n",
       "      <td>0.000000e+00</td>\n",
       "      <td>4.000000</td>\n",
       "      <td>0.000000</td>\n",
       "      <td>2.000000</td>\n",
       "      <td>4.000000</td>\n",
       "      <td>0.000000</td>\n",
       "    </tr>\n",
       "    <tr>\n",
       "      <th>75%</th>\n",
       "      <td>2015.0</td>\n",
       "      <td>2.000000e+00</td>\n",
       "      <td>2.100000e+01</td>\n",
       "      <td>6.000000e+00</td>\n",
       "      <td>3.485000e+03</td>\n",
       "      <td>1.720000e+03</td>\n",
       "      <td>1.731000e+03</td>\n",
       "      <td>1.100000e+01</td>\n",
       "      <td>1.900000e+01</td>\n",
       "      <td>1.745000e+03</td>\n",
       "      <td>...</td>\n",
       "      <td>1.915000e+03</td>\n",
       "      <td>1.917000e+03</td>\n",
       "      <td>1.200000e+01</td>\n",
       "      <td>0.000000e+00</td>\n",
       "      <td>0.000000e+00</td>\n",
       "      <td>19.000000</td>\n",
       "      <td>0.000000</td>\n",
       "      <td>18.000000</td>\n",
       "      <td>29.000000</td>\n",
       "      <td>0.000000</td>\n",
       "    </tr>\n",
       "    <tr>\n",
       "      <th>max</th>\n",
       "      <td>2015.0</td>\n",
       "      <td>3.000000e+00</td>\n",
       "      <td>3.100000e+01</td>\n",
       "      <td>7.000000e+00</td>\n",
       "      <td>9.794000e+03</td>\n",
       "      <td>2.359000e+03</td>\n",
       "      <td>2.400000e+03</td>\n",
       "      <td>1.988000e+03</td>\n",
       "      <td>2.250000e+02</td>\n",
       "      <td>2.400000e+03</td>\n",
       "      <td>...</td>\n",
       "      <td>2.359000e+03</td>\n",
       "      <td>2.400000e+03</td>\n",
       "      <td>1.971000e+03</td>\n",
       "      <td>1.000000e+00</td>\n",
       "      <td>1.000000e+00</td>\n",
       "      <td>830.000000</td>\n",
       "      <td>241.000000</td>\n",
       "      <td>1971.000000</td>\n",
       "      <td>1313.000000</td>\n",
       "      <td>1152.000000</td>\n",
       "    </tr>\n",
       "  </tbody>\n",
       "</table>\n",
       "<p>8 rows × 26 columns</p>\n",
       "</div>"
      ],
      "text/plain": [
       "            YEAR         MONTH           DAY   DAY_OF_WEEK  FLIGHT_NUMBER  \\\n",
       "count  1048575.0  1.048575e+06  1.048575e+06  1.048575e+06   1.048575e+06   \n",
       "mean      2015.0  1.694297e+00  1.382097e+01  3.953196e+00   2.256759e+03   \n",
       "std          0.0  7.051508e-01  8.725656e+00  1.999436e+00   1.799166e+03   \n",
       "min       2015.0  1.000000e+00  1.000000e+00  1.000000e+00   1.000000e+00   \n",
       "25%       2015.0  1.000000e+00  6.000000e+00  2.000000e+00   7.550000e+02   \n",
       "50%       2015.0  2.000000e+00  1.300000e+01  4.000000e+00   1.725000e+03   \n",
       "75%       2015.0  2.000000e+00  2.100000e+01  6.000000e+00   3.485000e+03   \n",
       "max       2015.0  3.000000e+00  3.100000e+01  7.000000e+00   9.794000e+03   \n",
       "\n",
       "       SCHEDULED_DEPARTURE  DEPARTURE_TIME  DEPARTURE_DELAY      TAXI_OUT  \\\n",
       "count         1.048575e+06    1.009060e+06     1.009060e+06  1.008346e+06   \n",
       "mean          1.322632e+03    1.333705e+03     1.133485e+01  1.665380e+01   \n",
       "std           4.707748e+02    4.827415e+02     3.922372e+01  1.007006e+01   \n",
       "min           1.000000e+00    1.000000e+00    -6.100000e+01  1.000000e+00   \n",
       "25%           9.200000e+02    9.280000e+02    -5.000000e+00  1.100000e+01   \n",
       "50%           1.319000e+03    1.329000e+03    -1.000000e+00  1.400000e+01   \n",
       "75%           1.720000e+03    1.731000e+03     1.100000e+01  1.900000e+01   \n",
       "max           2.359000e+03    2.400000e+03     1.988000e+03  2.250000e+02   \n",
       "\n",
       "         WHEELS_OFF  ...  SCHEDULED_ARRIVAL  ARRIVAL_TIME  ARRIVAL_DELAY  \\\n",
       "count  1.008346e+06  ...       1.048575e+06  1.007279e+06   1.005504e+06   \n",
       "mean   1.357382e+03  ...       1.504820e+03  1.492204e+03   7.612191e+00   \n",
       "std    4.830351e+02  ...       4.865613e+02  5.071090e+02   4.209367e+01   \n",
       "min    1.000000e+00  ...       1.000000e+00  1.000000e+00  -8.200000e+01   \n",
       "25%    9.440000e+02  ...       1.120000e+03  1.115000e+03  -1.200000e+01   \n",
       "50%    1.342000e+03  ...       1.524000e+03  1.521000e+03  -3.000000e+00   \n",
       "75%    1.745000e+03  ...       1.915000e+03  1.917000e+03   1.200000e+01   \n",
       "max    2.400000e+03  ...       2.359000e+03  2.400000e+03   1.971000e+03   \n",
       "\n",
       "           DIVERTED     CANCELLED  AIR_SYSTEM_DELAY  SECURITY_DELAY  \\\n",
       "count  1.048575e+06  1.048575e+06     228528.000000   228528.000000   \n",
       "mean   2.426150e-03  3.864960e-02         13.692554        0.057328   \n",
       "std    4.919620e-02  1.927585e-01         25.524897        1.779647   \n",
       "min    0.000000e+00  0.000000e+00          0.000000        0.000000   \n",
       "25%    0.000000e+00  0.000000e+00          0.000000        0.000000   \n",
       "50%    0.000000e+00  0.000000e+00          4.000000        0.000000   \n",
       "75%    0.000000e+00  0.000000e+00         19.000000        0.000000   \n",
       "max    1.000000e+00  1.000000e+00        830.000000      241.000000   \n",
       "\n",
       "       AIRLINE_DELAY  LATE_AIRCRAFT_DELAY  WEATHER_DELAY  \n",
       "count  228528.000000        228528.000000  228528.000000  \n",
       "mean       18.203577            22.921458       3.545277  \n",
       "std        46.323146            41.888498      23.611555  \n",
       "min         0.000000             0.000000       0.000000  \n",
       "25%         0.000000             0.000000       0.000000  \n",
       "50%         2.000000             4.000000       0.000000  \n",
       "75%        18.000000            29.000000       0.000000  \n",
       "max      1971.000000          1313.000000    1152.000000  \n",
       "\n",
       "[8 rows x 26 columns]"
      ]
     },
     "execution_count": 83,
     "metadata": {},
     "output_type": "execute_result"
    }
   ],
   "source": [
    "flights_df.describe()"
   ]
  },
  {
   "cell_type": "code",
   "execution_count": 84,
   "id": "derived-gamma",
   "metadata": {},
   "outputs": [
    {
     "data": {
      "text/html": [
       "<div>\n",
       "<style scoped>\n",
       "    .dataframe tbody tr th:only-of-type {\n",
       "        vertical-align: middle;\n",
       "    }\n",
       "\n",
       "    .dataframe tbody tr th {\n",
       "        vertical-align: top;\n",
       "    }\n",
       "\n",
       "    .dataframe thead th {\n",
       "        text-align: right;\n",
       "    }\n",
       "</style>\n",
       "<table border=\"1\" class=\"dataframe\">\n",
       "  <thead>\n",
       "    <tr style=\"text-align: right;\">\n",
       "      <th></th>\n",
       "      <th>YEAR</th>\n",
       "      <th>MONTH</th>\n",
       "      <th>DAY</th>\n",
       "      <th>DAY_OF_WEEK</th>\n",
       "      <th>AIRLINE</th>\n",
       "      <th>FLIGHT_NUMBER</th>\n",
       "      <th>TAIL_NUMBER</th>\n",
       "      <th>ORIGIN_AIRPORT</th>\n",
       "      <th>DESTINATION_AIRPORT</th>\n",
       "      <th>SCHEDULED_DEPARTURE</th>\n",
       "      <th>...</th>\n",
       "      <th>ARRIVAL_TIME</th>\n",
       "      <th>ARRIVAL_DELAY</th>\n",
       "      <th>DIVERTED</th>\n",
       "      <th>CANCELLED</th>\n",
       "      <th>CANCELLATION_REASON</th>\n",
       "      <th>AIR_SYSTEM_DELAY</th>\n",
       "      <th>SECURITY_DELAY</th>\n",
       "      <th>AIRLINE_DELAY</th>\n",
       "      <th>LATE_AIRCRAFT_DELAY</th>\n",
       "      <th>WEATHER_DELAY</th>\n",
       "    </tr>\n",
       "  </thead>\n",
       "  <tbody>\n",
       "  </tbody>\n",
       "</table>\n",
       "<p>0 rows × 31 columns</p>\n",
       "</div>"
      ],
      "text/plain": [
       "Empty DataFrame\n",
       "Columns: [YEAR, MONTH, DAY, DAY_OF_WEEK, AIRLINE, FLIGHT_NUMBER, TAIL_NUMBER, ORIGIN_AIRPORT, DESTINATION_AIRPORT, SCHEDULED_DEPARTURE, DEPARTURE_TIME, DEPARTURE_DELAY, TAXI_OUT, WHEELS_OFF, SCHEDULED_TIME, ELAPSED_TIME, AIR_TIME, DISTANCE, WHEELS_ON, TAXI_IN, SCHEDULED_ARRIVAL, ARRIVAL_TIME, ARRIVAL_DELAY, DIVERTED, CANCELLED, CANCELLATION_REASON, AIR_SYSTEM_DELAY, SECURITY_DELAY, AIRLINE_DELAY, LATE_AIRCRAFT_DELAY, WEATHER_DELAY]\n",
       "Index: []\n",
       "\n",
       "[0 rows x 31 columns]"
      ]
     },
     "execution_count": 84,
     "metadata": {},
     "output_type": "execute_result"
    }
   ],
   "source": [
    "flights_df.dropna()"
   ]
  },
  {
   "cell_type": "code",
   "execution_count": 85,
   "id": "swedish-creature",
   "metadata": {},
   "outputs": [
    {
     "data": {
      "text/html": [
       "<div>\n",
       "<style scoped>\n",
       "    .dataframe tbody tr th:only-of-type {\n",
       "        vertical-align: middle;\n",
       "    }\n",
       "\n",
       "    .dataframe tbody tr th {\n",
       "        vertical-align: top;\n",
       "    }\n",
       "\n",
       "    .dataframe thead th {\n",
       "        text-align: right;\n",
       "    }\n",
       "</style>\n",
       "<table border=\"1\" class=\"dataframe\">\n",
       "  <thead>\n",
       "    <tr style=\"text-align: right;\">\n",
       "      <th></th>\n",
       "      <th>YEAR</th>\n",
       "      <th>MONTH</th>\n",
       "      <th>DAY</th>\n",
       "      <th>DAY_OF_WEEK</th>\n",
       "      <th>AIRLINE</th>\n",
       "      <th>FLIGHT_NUMBER</th>\n",
       "      <th>TAIL_NUMBER</th>\n",
       "      <th>ORIGIN_AIRPORT</th>\n",
       "      <th>DESTINATION_AIRPORT</th>\n",
       "      <th>SCHEDULED_DEPARTURE</th>\n",
       "      <th>...</th>\n",
       "      <th>ARRIVAL_TIME</th>\n",
       "      <th>ARRIVAL_DELAY</th>\n",
       "      <th>DIVERTED</th>\n",
       "      <th>CANCELLED</th>\n",
       "      <th>CANCELLATION_REASON</th>\n",
       "      <th>AIR_SYSTEM_DELAY</th>\n",
       "      <th>SECURITY_DELAY</th>\n",
       "      <th>AIRLINE_DELAY</th>\n",
       "      <th>LATE_AIRCRAFT_DELAY</th>\n",
       "      <th>WEATHER_DELAY</th>\n",
       "    </tr>\n",
       "  </thead>\n",
       "  <tbody>\n",
       "    <tr>\n",
       "      <th>0</th>\n",
       "      <td>2015</td>\n",
       "      <td>1</td>\n",
       "      <td>1</td>\n",
       "      <td>4</td>\n",
       "      <td>AS</td>\n",
       "      <td>98</td>\n",
       "      <td>N407AS</td>\n",
       "      <td>ANC</td>\n",
       "      <td>SEA</td>\n",
       "      <td>5</td>\n",
       "      <td>...</td>\n",
       "      <td>408.0</td>\n",
       "      <td>-22.0</td>\n",
       "      <td>0</td>\n",
       "      <td>0</td>\n",
       "      <td>NaN</td>\n",
       "      <td>NaN</td>\n",
       "      <td>NaN</td>\n",
       "      <td>NaN</td>\n",
       "      <td>NaN</td>\n",
       "      <td>NaN</td>\n",
       "    </tr>\n",
       "    <tr>\n",
       "      <th>1</th>\n",
       "      <td>2015</td>\n",
       "      <td>1</td>\n",
       "      <td>1</td>\n",
       "      <td>4</td>\n",
       "      <td>AA</td>\n",
       "      <td>2336</td>\n",
       "      <td>N3KUAA</td>\n",
       "      <td>LAX</td>\n",
       "      <td>PBI</td>\n",
       "      <td>10</td>\n",
       "      <td>...</td>\n",
       "      <td>741.0</td>\n",
       "      <td>-9.0</td>\n",
       "      <td>0</td>\n",
       "      <td>0</td>\n",
       "      <td>NaN</td>\n",
       "      <td>NaN</td>\n",
       "      <td>NaN</td>\n",
       "      <td>NaN</td>\n",
       "      <td>NaN</td>\n",
       "      <td>NaN</td>\n",
       "    </tr>\n",
       "    <tr>\n",
       "      <th>2</th>\n",
       "      <td>2015</td>\n",
       "      <td>1</td>\n",
       "      <td>1</td>\n",
       "      <td>4</td>\n",
       "      <td>US</td>\n",
       "      <td>840</td>\n",
       "      <td>N171US</td>\n",
       "      <td>SFO</td>\n",
       "      <td>CLT</td>\n",
       "      <td>20</td>\n",
       "      <td>...</td>\n",
       "      <td>811.0</td>\n",
       "      <td>5.0</td>\n",
       "      <td>0</td>\n",
       "      <td>0</td>\n",
       "      <td>NaN</td>\n",
       "      <td>NaN</td>\n",
       "      <td>NaN</td>\n",
       "      <td>NaN</td>\n",
       "      <td>NaN</td>\n",
       "      <td>NaN</td>\n",
       "    </tr>\n",
       "    <tr>\n",
       "      <th>3</th>\n",
       "      <td>2015</td>\n",
       "      <td>1</td>\n",
       "      <td>1</td>\n",
       "      <td>4</td>\n",
       "      <td>AA</td>\n",
       "      <td>258</td>\n",
       "      <td>N3HYAA</td>\n",
       "      <td>LAX</td>\n",
       "      <td>MIA</td>\n",
       "      <td>20</td>\n",
       "      <td>...</td>\n",
       "      <td>756.0</td>\n",
       "      <td>-9.0</td>\n",
       "      <td>0</td>\n",
       "      <td>0</td>\n",
       "      <td>NaN</td>\n",
       "      <td>NaN</td>\n",
       "      <td>NaN</td>\n",
       "      <td>NaN</td>\n",
       "      <td>NaN</td>\n",
       "      <td>NaN</td>\n",
       "    </tr>\n",
       "    <tr>\n",
       "      <th>4</th>\n",
       "      <td>2015</td>\n",
       "      <td>1</td>\n",
       "      <td>1</td>\n",
       "      <td>4</td>\n",
       "      <td>AS</td>\n",
       "      <td>135</td>\n",
       "      <td>N527AS</td>\n",
       "      <td>SEA</td>\n",
       "      <td>ANC</td>\n",
       "      <td>25</td>\n",
       "      <td>...</td>\n",
       "      <td>259.0</td>\n",
       "      <td>-21.0</td>\n",
       "      <td>0</td>\n",
       "      <td>0</td>\n",
       "      <td>NaN</td>\n",
       "      <td>NaN</td>\n",
       "      <td>NaN</td>\n",
       "      <td>NaN</td>\n",
       "      <td>NaN</td>\n",
       "      <td>NaN</td>\n",
       "    </tr>\n",
       "    <tr>\n",
       "      <th>...</th>\n",
       "      <td>...</td>\n",
       "      <td>...</td>\n",
       "      <td>...</td>\n",
       "      <td>...</td>\n",
       "      <td>...</td>\n",
       "      <td>...</td>\n",
       "      <td>...</td>\n",
       "      <td>...</td>\n",
       "      <td>...</td>\n",
       "      <td>...</td>\n",
       "      <td>...</td>\n",
       "      <td>...</td>\n",
       "      <td>...</td>\n",
       "      <td>...</td>\n",
       "      <td>...</td>\n",
       "      <td>...</td>\n",
       "      <td>...</td>\n",
       "      <td>...</td>\n",
       "      <td>...</td>\n",
       "      <td>...</td>\n",
       "      <td>...</td>\n",
       "    </tr>\n",
       "    <tr>\n",
       "      <th>1048570</th>\n",
       "      <td>2015</td>\n",
       "      <td>3</td>\n",
       "      <td>10</td>\n",
       "      <td>2</td>\n",
       "      <td>EV</td>\n",
       "      <td>4122</td>\n",
       "      <td>N11191</td>\n",
       "      <td>RDU</td>\n",
       "      <td>EWR</td>\n",
       "      <td>1013</td>\n",
       "      <td>...</td>\n",
       "      <td>1133.0</td>\n",
       "      <td>-16.0</td>\n",
       "      <td>0</td>\n",
       "      <td>0</td>\n",
       "      <td>NaN</td>\n",
       "      <td>NaN</td>\n",
       "      <td>NaN</td>\n",
       "      <td>NaN</td>\n",
       "      <td>NaN</td>\n",
       "      <td>NaN</td>\n",
       "    </tr>\n",
       "    <tr>\n",
       "      <th>1048571</th>\n",
       "      <td>2015</td>\n",
       "      <td>3</td>\n",
       "      <td>10</td>\n",
       "      <td>2</td>\n",
       "      <td>UA</td>\n",
       "      <td>1018</td>\n",
       "      <td>N79279</td>\n",
       "      <td>LGA</td>\n",
       "      <td>IAH</td>\n",
       "      <td>1013</td>\n",
       "      <td>...</td>\n",
       "      <td>1335.0</td>\n",
       "      <td>-2.0</td>\n",
       "      <td>0</td>\n",
       "      <td>0</td>\n",
       "      <td>NaN</td>\n",
       "      <td>NaN</td>\n",
       "      <td>NaN</td>\n",
       "      <td>NaN</td>\n",
       "      <td>NaN</td>\n",
       "      <td>NaN</td>\n",
       "    </tr>\n",
       "    <tr>\n",
       "      <th>1048572</th>\n",
       "      <td>2015</td>\n",
       "      <td>3</td>\n",
       "      <td>10</td>\n",
       "      <td>2</td>\n",
       "      <td>UA</td>\n",
       "      <td>1260</td>\n",
       "      <td>N76508</td>\n",
       "      <td>SAN</td>\n",
       "      <td>ORD</td>\n",
       "      <td>1013</td>\n",
       "      <td>...</td>\n",
       "      <td>1627.0</td>\n",
       "      <td>3.0</td>\n",
       "      <td>0</td>\n",
       "      <td>0</td>\n",
       "      <td>NaN</td>\n",
       "      <td>NaN</td>\n",
       "      <td>NaN</td>\n",
       "      <td>NaN</td>\n",
       "      <td>NaN</td>\n",
       "      <td>NaN</td>\n",
       "    </tr>\n",
       "    <tr>\n",
       "      <th>1048573</th>\n",
       "      <td>2015</td>\n",
       "      <td>3</td>\n",
       "      <td>10</td>\n",
       "      <td>2</td>\n",
       "      <td>EV</td>\n",
       "      <td>4349</td>\n",
       "      <td>N14158</td>\n",
       "      <td>MSY</td>\n",
       "      <td>ORD</td>\n",
       "      <td>1013</td>\n",
       "      <td>...</td>\n",
       "      <td>1229.0</td>\n",
       "      <td>-13.0</td>\n",
       "      <td>0</td>\n",
       "      <td>0</td>\n",
       "      <td>NaN</td>\n",
       "      <td>NaN</td>\n",
       "      <td>NaN</td>\n",
       "      <td>NaN</td>\n",
       "      <td>NaN</td>\n",
       "      <td>NaN</td>\n",
       "    </tr>\n",
       "    <tr>\n",
       "      <th>1048574</th>\n",
       "      <td>2015</td>\n",
       "      <td>3</td>\n",
       "      <td>10</td>\n",
       "      <td>2</td>\n",
       "      <td>MQ</td>\n",
       "      <td>2916</td>\n",
       "      <td>N539MQ</td>\n",
       "      <td>CID</td>\n",
       "      <td>ORD</td>\n",
       "      <td>1013</td>\n",
       "      <td>...</td>\n",
       "      <td>NaN</td>\n",
       "      <td>NaN</td>\n",
       "      <td>0</td>\n",
       "      <td>1</td>\n",
       "      <td>B</td>\n",
       "      <td>NaN</td>\n",
       "      <td>NaN</td>\n",
       "      <td>NaN</td>\n",
       "      <td>NaN</td>\n",
       "      <td>NaN</td>\n",
       "    </tr>\n",
       "  </tbody>\n",
       "</table>\n",
       "<p>1048575 rows × 31 columns</p>\n",
       "</div>"
      ],
      "text/plain": [
       "         YEAR  MONTH  DAY  DAY_OF_WEEK AIRLINE  FLIGHT_NUMBER TAIL_NUMBER  \\\n",
       "0        2015      1    1            4      AS             98      N407AS   \n",
       "1        2015      1    1            4      AA           2336      N3KUAA   \n",
       "2        2015      1    1            4      US            840      N171US   \n",
       "3        2015      1    1            4      AA            258      N3HYAA   \n",
       "4        2015      1    1            4      AS            135      N527AS   \n",
       "...       ...    ...  ...          ...     ...            ...         ...   \n",
       "1048570  2015      3   10            2      EV           4122      N11191   \n",
       "1048571  2015      3   10            2      UA           1018      N79279   \n",
       "1048572  2015      3   10            2      UA           1260      N76508   \n",
       "1048573  2015      3   10            2      EV           4349      N14158   \n",
       "1048574  2015      3   10            2      MQ           2916      N539MQ   \n",
       "\n",
       "        ORIGIN_AIRPORT DESTINATION_AIRPORT  SCHEDULED_DEPARTURE  ...  \\\n",
       "0                  ANC                 SEA                    5  ...   \n",
       "1                  LAX                 PBI                   10  ...   \n",
       "2                  SFO                 CLT                   20  ...   \n",
       "3                  LAX                 MIA                   20  ...   \n",
       "4                  SEA                 ANC                   25  ...   \n",
       "...                ...                 ...                  ...  ...   \n",
       "1048570            RDU                 EWR                 1013  ...   \n",
       "1048571            LGA                 IAH                 1013  ...   \n",
       "1048572            SAN                 ORD                 1013  ...   \n",
       "1048573            MSY                 ORD                 1013  ...   \n",
       "1048574            CID                 ORD                 1013  ...   \n",
       "\n",
       "         ARRIVAL_TIME  ARRIVAL_DELAY  DIVERTED  CANCELLED  \\\n",
       "0               408.0          -22.0         0          0   \n",
       "1               741.0           -9.0         0          0   \n",
       "2               811.0            5.0         0          0   \n",
       "3               756.0           -9.0         0          0   \n",
       "4               259.0          -21.0         0          0   \n",
       "...               ...            ...       ...        ...   \n",
       "1048570        1133.0          -16.0         0          0   \n",
       "1048571        1335.0           -2.0         0          0   \n",
       "1048572        1627.0            3.0         0          0   \n",
       "1048573        1229.0          -13.0         0          0   \n",
       "1048574           NaN            NaN         0          1   \n",
       "\n",
       "         CANCELLATION_REASON  AIR_SYSTEM_DELAY  SECURITY_DELAY  AIRLINE_DELAY  \\\n",
       "0                        NaN               NaN             NaN            NaN   \n",
       "1                        NaN               NaN             NaN            NaN   \n",
       "2                        NaN               NaN             NaN            NaN   \n",
       "3                        NaN               NaN             NaN            NaN   \n",
       "4                        NaN               NaN             NaN            NaN   \n",
       "...                      ...               ...             ...            ...   \n",
       "1048570                  NaN               NaN             NaN            NaN   \n",
       "1048571                  NaN               NaN             NaN            NaN   \n",
       "1048572                  NaN               NaN             NaN            NaN   \n",
       "1048573                  NaN               NaN             NaN            NaN   \n",
       "1048574                    B               NaN             NaN            NaN   \n",
       "\n",
       "         LATE_AIRCRAFT_DELAY  WEATHER_DELAY  \n",
       "0                        NaN            NaN  \n",
       "1                        NaN            NaN  \n",
       "2                        NaN            NaN  \n",
       "3                        NaN            NaN  \n",
       "4                        NaN            NaN  \n",
       "...                      ...            ...  \n",
       "1048570                  NaN            NaN  \n",
       "1048571                  NaN            NaN  \n",
       "1048572                  NaN            NaN  \n",
       "1048573                  NaN            NaN  \n",
       "1048574                  NaN            NaN  \n",
       "\n",
       "[1048575 rows x 31 columns]"
      ]
     },
     "execution_count": 85,
     "metadata": {},
     "output_type": "execute_result"
    }
   ],
   "source": [
    "flights_df.drop_duplicates()"
   ]
  },
  {
   "cell_type": "code",
   "execution_count": 86,
   "id": "single-release",
   "metadata": {},
   "outputs": [
    {
     "data": {
      "text/plain": [
       "(1048575, 31)"
      ]
     },
     "execution_count": 86,
     "metadata": {},
     "output_type": "execute_result"
    }
   ],
   "source": [
    "flights_df.shape"
   ]
  },
  {
   "cell_type": "markdown",
   "id": "congressional-productivity",
   "metadata": {},
   "source": [
    "## 1. Подсчитайте количество отменённых рейсов."
   ]
  },
  {
   "cell_type": "code",
   "execution_count": 87,
   "id": "pediatric-thesis",
   "metadata": {},
   "outputs": [
    {
     "data": {
      "text/plain": [
       "40527"
      ]
     },
     "execution_count": 87,
     "metadata": {},
     "output_type": "execute_result"
    }
   ],
   "source": [
    "flights_df[flights_df['CANCELLED'] == 1]['CANCELLED'].count()"
   ]
  },
  {
   "cell_type": "markdown",
   "id": "altered-correlation",
   "metadata": {},
   "source": [
    "## 2. Определите аэропорт, рейсы для которого отменяются наиболее часто."
   ]
  },
  {
   "cell_type": "code",
   "execution_count": 88,
   "id": "earned-roots",
   "metadata": {},
   "outputs": [],
   "source": [
    "cancelled_df = pd.DataFrame(flights_df.groupby(['ORIGIN_AIRPORT'])['CANCELLED'].sum())"
   ]
  },
  {
   "cell_type": "code",
   "execution_count": 89,
   "id": "transsexual-control",
   "metadata": {},
   "outputs": [
    {
     "data": {
      "text/html": [
       "<div>\n",
       "<style scoped>\n",
       "    .dataframe tbody tr th:only-of-type {\n",
       "        vertical-align: middle;\n",
       "    }\n",
       "\n",
       "    .dataframe tbody tr th {\n",
       "        vertical-align: top;\n",
       "    }\n",
       "\n",
       "    .dataframe thead th {\n",
       "        text-align: right;\n",
       "    }\n",
       "</style>\n",
       "<table border=\"1\" class=\"dataframe\">\n",
       "  <thead>\n",
       "    <tr style=\"text-align: right;\">\n",
       "      <th></th>\n",
       "      <th>CANCELLED</th>\n",
       "    </tr>\n",
       "    <tr>\n",
       "      <th>ORIGIN_AIRPORT</th>\n",
       "      <th></th>\n",
       "    </tr>\n",
       "  </thead>\n",
       "  <tbody>\n",
       "    <tr>\n",
       "      <th>DFW</th>\n",
       "      <td>3578</td>\n",
       "    </tr>\n",
       "  </tbody>\n",
       "</table>\n",
       "</div>"
      ],
      "text/plain": [
       "                CANCELLED\n",
       "ORIGIN_AIRPORT           \n",
       "DFW                  3578"
      ]
     },
     "execution_count": 89,
     "metadata": {},
     "output_type": "execute_result"
    }
   ],
   "source": [
    "cancelled_df.sort_values(by=['CANCELLED'], ascending = False).head(1)"
   ]
  },
  {
   "cell_type": "markdown",
   "id": "refined-fifty",
   "metadata": {},
   "source": [
    "## 3. Определите коэффициент корреляции Пирсона и Спирмена между отменой рейса и днём недели, месяцем, авиакомпанией, аэропортом. Оцените значение p-value. Постройте плотность распределения признаков."
   ]
  },
  {
   "cell_type": "code",
   "execution_count": 90,
   "id": "durable-conversation",
   "metadata": {},
   "outputs": [],
   "source": [
    "from scipy import stats\n",
    "from sklearn.preprocessing import LabelEncoder"
   ]
  },
  {
   "cell_type": "code",
   "execution_count": 91,
   "id": "collect-fraction",
   "metadata": {},
   "outputs": [
    {
     "data": {
      "text/plain": [
       "(-0.034068711647744575, 8.421162978809802e-267)"
      ]
     },
     "execution_count": 91,
     "metadata": {},
     "output_type": "execute_result"
    }
   ],
   "source": [
    "a = flights_df['CANCELLED']\n",
    "b = flights_df['DAY_OF_WEEK']\n",
    "stats.pearsonr(a, b)\n",
    "#Коэффициент корреляции Пирсона измеряет линейную связь между двумя наборами данных. \n",
    "#Расчет p-значения основан на предположении, что каждый набор данных распределен нормально.\n",
    "#Значение p примерно указывает на вероятность того, что некоррелированная система произведет наборы данных, которые имеют \n",
    "#корреляцию Пирсона, по крайней мере, столь же экстремальную, как корреляция, вычисленная на основе этих наборов данных."
   ]
  },
  {
   "cell_type": "code",
   "execution_count": 92,
   "id": "dirty-demand",
   "metadata": {},
   "outputs": [
    {
     "data": {
      "text/plain": [
       "SpearmanrResult(correlation=-0.034673218497205664, pvalue=2.784239888470112e-276)"
      ]
     },
     "execution_count": 92,
     "metadata": {},
     "output_type": "execute_result"
    }
   ],
   "source": [
    "stats.spearmanr(flights_df['CANCELLED'], flights_df['DAY_OF_WEEK'])\n",
    "#В отличие от корреляции Пирсона, корреляция Спирмена не предполагает, что оба набора данных имеют нормальное распределение.\n",
    "#Значение p примерно указывает на вероятность того, что некоррелированная система произведет наборы данных, которые имеют \n",
    "#корреляцию Спирмена, по крайней мере, столь же экстремальную, как корреляция, вычисленная из этих наборов данных."
   ]
  },
  {
   "cell_type": "markdown",
   "id": "wired-boxing",
   "metadata": {},
   "source": [
    "#### отменой рейса и месяцем"
   ]
  },
  {
   "cell_type": "code",
   "execution_count": 93,
   "id": "institutional-limitation",
   "metadata": {},
   "outputs": [
    {
     "data": {
      "text/plain": [
       "(0.059183552923896376, 0.0)"
      ]
     },
     "execution_count": 93,
     "metadata": {},
     "output_type": "execute_result"
    }
   ],
   "source": [
    "a = flights_df['CANCELLED']\n",
    "b = flights_df['MONTH']\n",
    "stats.pearsonr(a, b)"
   ]
  },
  {
   "cell_type": "code",
   "execution_count": 94,
   "id": "continuing-consistency",
   "metadata": {},
   "outputs": [
    {
     "data": {
      "text/plain": [
       "SpearmanrResult(correlation=0.061244820697519985, pvalue=0.0)"
      ]
     },
     "execution_count": 94,
     "metadata": {},
     "output_type": "execute_result"
    }
   ],
   "source": [
    "stats.spearmanr(flights_df['CANCELLED'], flights_df['MONTH'])"
   ]
  },
  {
   "cell_type": "markdown",
   "id": "photographic-firewall",
   "metadata": {},
   "source": [
    "#### отменой рейса и авиакомпанией"
   ]
  },
  {
   "cell_type": "code",
   "execution_count": 95,
   "id": "united-cigarette",
   "metadata": {},
   "outputs": [
    {
     "data": {
      "text/plain": [
       "(-0.016338025044725698, 7.762345019437045e-63)"
      ]
     },
     "execution_count": 95,
     "metadata": {},
     "output_type": "execute_result"
    }
   ],
   "source": [
    "label_encoder = LabelEncoder()\n",
    "\n",
    "label_encoder.fit(flights_df.AIRLINE)\n",
    "flights_df['AIRLINE']=label_encoder.transform(flights_df.AIRLINE)\n",
    "\n",
    "a = flights_df['CANCELLED']\n",
    "b = flights_df['AIRLINE']\n",
    "stats.pearsonr(a, b)"
   ]
  },
  {
   "cell_type": "code",
   "execution_count": 96,
   "id": "cordless-rabbit",
   "metadata": {},
   "outputs": [
    {
     "data": {
      "text/plain": [
       "SpearmanrResult(correlation=-0.0159794188752134, pvalue=3.4598665200039363e-60)"
      ]
     },
     "execution_count": 96,
     "metadata": {},
     "output_type": "execute_result"
    }
   ],
   "source": [
    "stats.spearmanr(flights_df['CANCELLED'], flights_df['AIRLINE'])"
   ]
  },
  {
   "cell_type": "markdown",
   "id": "acting-paris",
   "metadata": {},
   "source": [
    "#### отменой рейса и Аэропортом"
   ]
  },
  {
   "cell_type": "code",
   "execution_count": 97,
   "id": "correct-worker",
   "metadata": {},
   "outputs": [],
   "source": [
    "flights_df['ORIGIN_AIRPORT'] = flights_df['ORIGIN_AIRPORT'].astype(str)"
   ]
  },
  {
   "cell_type": "code",
   "execution_count": 98,
   "id": "optional-charter",
   "metadata": {},
   "outputs": [
    {
     "data": {
      "text/plain": [
       "(-0.02812330868467366, 1.9158712866916684e-182)"
      ]
     },
     "execution_count": 98,
     "metadata": {},
     "output_type": "execute_result"
    }
   ],
   "source": [
    "label_encoder2 = LabelEncoder()\n",
    "\n",
    "label_encoder2.fit(flights_df.ORIGIN_AIRPORT)\n",
    "flights_df['ORIGIN_AIRPORT']=label_encoder2.transform(flights_df['ORIGIN_AIRPORT'])\n",
    "\n",
    "a = flights_df['CANCELLED']\n",
    "b = flights_df['ORIGIN_AIRPORT']\n",
    "stats.pearsonr(a, b)"
   ]
  },
  {
   "cell_type": "code",
   "execution_count": 99,
   "id": "average-tiger",
   "metadata": {},
   "outputs": [
    {
     "data": {
      "text/plain": [
       "SpearmanrResult(correlation=0.014499937559450502, pvalue=7.093949083185112e-50)"
      ]
     },
     "execution_count": 99,
     "metadata": {},
     "output_type": "execute_result"
    }
   ],
   "source": [
    "flights_df['ORIGIN_AIRPORT'] = flights_df['ORIGIN_AIRPORT'].astype(str)\n",
    "stats.spearmanr(flights_df['CANCELLED'], flights_df['ORIGIN_AIRPORT'])"
   ]
  },
  {
   "cell_type": "markdown",
   "id": "collaborative-cleveland",
   "metadata": {},
   "source": [
    "+++++++++++++++++++++++++++++++++++++++++++++++++++++++++++++++++++++++++++++++++++++++++++++++++++++++++++++++++++++++++"
   ]
  },
  {
   "cell_type": "code",
   "execution_count": 100,
   "id": "catholic-quick",
   "metadata": {},
   "outputs": [
    {
     "data": {
      "text/plain": [
       "<AxesSubplot:xlabel='CANCELLED'>"
      ]
     },
     "execution_count": 100,
     "metadata": {},
     "output_type": "execute_result"
    },
    {
     "data": {
      "image/png": "[encoded data removed]",
      "text/plain": [
       "<Figure size 432x288 with 1 Axes>"
      ]
     },
     "metadata": {
      "needs_background": "light"
     },
     "output_type": "display_data"
    }
   ],
   "source": [
    "flights_df.groupby(['CANCELLED'])['CANCELLED'].count().plot()"
   ]
  },
  {
   "cell_type": "code",
   "execution_count": 101,
   "id": "reflected-backing",
   "metadata": {},
   "outputs": [
    {
     "data": {
      "text/plain": [
       "<AxesSubplot:xlabel='DAY_OF_WEEK'>"
      ]
     },
     "execution_count": 101,
     "metadata": {},
     "output_type": "execute_result"
    },
    {
     "data": {
      "image/png": "[encoded data removed]",
      "text/plain": [
       "<Figure size 432x288 with 1 Axes>"
      ]
     },
     "metadata": {
      "needs_background": "light"
     },
     "output_type": "display_data"
    }
   ],
   "source": [
    "flights_df.groupby(['DAY_OF_WEEK'])['CANCELLED'].count().plot()"
   ]
  },
  {
   "cell_type": "code",
   "execution_count": 102,
   "id": "extensive-anatomy",
   "metadata": {},
   "outputs": [
    {
     "data": {
      "text/plain": [
       "<AxesSubplot:xlabel='MONTH'>"
      ]
     },
     "execution_count": 102,
     "metadata": {},
     "output_type": "execute_result"
    },
    {
     "data": {
      "image/png": "[encoded data removed]",
      "text/plain": [
       "<Figure size 432x288 with 1 Axes>"
      ]
     },
     "metadata": {
      "needs_background": "light"
     },
     "output_type": "display_data"
    }
   ],
   "source": [
    "flights_df.groupby(['MONTH'])['MONTH'].count().plot()"
   ]
  },
  {
   "cell_type": "code",
   "execution_count": 103,
   "id": "particular-corruption",
   "metadata": {},
   "outputs": [
    {
     "data": {
      "text/plain": [
       "<AxesSubplot:xlabel='AIRLINE'>"
      ]
     },
     "execution_count": 103,
     "metadata": {},
     "output_type": "execute_result"
    },
    {
     "data": {
      "image/png": "[encoded data removed]",
      "text/plain": [
       "<Figure size 432x288 with 1 Axes>"
      ]
     },
     "metadata": {
      "needs_background": "light"
     },
     "output_type": "display_data"
    }
   ],
   "source": [
    "flights_df.groupby(['AIRLINE'])['AIRLINE'].count().plot()"
   ]
  },
  {
   "cell_type": "code",
   "execution_count": 104,
   "id": "experienced-determination",
   "metadata": {},
   "outputs": [
    {
     "data": {
      "text/plain": [
       "<AxesSubplot:xlabel='ORIGIN_AIRPORT'>"
      ]
     },
     "execution_count": 104,
     "metadata": {},
     "output_type": "execute_result"
    },
    {
     "data": {
      "image/png": "[encoded data removed]",
      "text/plain": [
       "<Figure size 432x288 with 1 Axes>"
      ]
     },
     "metadata": {
      "needs_background": "light"
     },
     "output_type": "display_data"
    }
   ],
   "source": [
    "flights_df.groupby(['ORIGIN_AIRPORT'])['ORIGIN_AIRPORT'].count().plot()"
   ]
  },
  {
   "cell_type": "markdown",
   "id": "statistical-software",
   "metadata": {},
   "source": [
    "### 4. Подсчитайте для трёх выбранных авиакомпаний: количество рейсов, количество отменённых рейсов, количество перенаправленных рейсов."
   ]
  },
  {
   "cell_type": "code",
   "execution_count": 131,
   "id": "contained-incident",
   "metadata": {},
   "outputs": [
    {
     "data": {
      "text/plain": [
       "147486"
      ]
     },
     "execution_count": 131,
     "metadata": {},
     "output_type": "execute_result"
    }
   ],
   "source": [
    "flights_df[flights_df['AIRLINE'] == \"DL\"]['CANCELLED'].count()"
   ]
  },
  {
   "cell_type": "code",
   "execution_count": 132,
   "id": "liquid-financing",
   "metadata": {},
   "outputs": [
    {
     "data": {
      "text/plain": [
       "2861"
      ]
     },
     "execution_count": 132,
     "metadata": {},
     "output_type": "execute_result"
    }
   ],
   "source": [
    "flights_df[flights_df['AIRLINE'] == \"DL\"]['CANCELLED'].sum()"
   ]
  },
  {
   "cell_type": "code",
   "execution_count": 133,
   "id": "christian-sport",
   "metadata": {},
   "outputs": [
    {
     "data": {
      "text/plain": [
       "255"
      ]
     },
     "execution_count": 133,
     "metadata": {},
     "output_type": "execute_result"
    }
   ],
   "source": [
    "flights_df[flights_df['AIRLINE'] == \"DL\"]['DIVERTED'].sum()"
   ]
  },
  {
   "cell_type": "code",
   "execution_count": 134,
   "id": "separate-monitoring",
   "metadata": {},
   "outputs": [
    {
     "data": {
      "text/plain": [
       "97549"
      ]
     },
     "execution_count": 134,
     "metadata": {},
     "output_type": "execute_result"
    }
   ],
   "source": [
    "flights_df[flights_df['AIRLINE'] == \"AA\"]['CANCELLED'].count()"
   ]
  },
  {
   "cell_type": "code",
   "execution_count": 135,
   "id": "noticed-drinking",
   "metadata": {},
   "outputs": [
    {
     "data": {
      "text/plain": [
       "4685"
      ]
     },
     "execution_count": 135,
     "metadata": {},
     "output_type": "execute_result"
    }
   ],
   "source": [
    "flights_df[flights_df['AIRLINE'] == \"AA\"]['CANCELLED'].sum()"
   ]
  },
  {
   "cell_type": "code",
   "execution_count": 136,
   "id": "rubber-apollo",
   "metadata": {},
   "outputs": [
    {
     "data": {
      "text/plain": [
       "230"
      ]
     },
     "execution_count": 136,
     "metadata": {},
     "output_type": "execute_result"
    }
   ],
   "source": [
    "flights_df[flights_df['AIRLINE'] == \"AA\"]['DIVERTED'].sum()"
   ]
  },
  {
   "cell_type": "code",
   "execution_count": 137,
   "id": "prime-particle",
   "metadata": {},
   "outputs": [
    {
     "data": {
      "text/plain": [
       "107099"
      ]
     },
     "execution_count": 137,
     "metadata": {},
     "output_type": "execute_result"
    }
   ],
   "source": [
    "flights_df[flights_df['AIRLINE'] == \"OO\"]['CANCELLED'].count()"
   ]
  },
  {
   "cell_type": "code",
   "execution_count": 138,
   "id": "historic-indie",
   "metadata": {},
   "outputs": [
    {
     "data": {
      "text/plain": [
       "2983"
      ]
     },
     "execution_count": 138,
     "metadata": {},
     "output_type": "execute_result"
    }
   ],
   "source": [
    "flights_df[flights_df['AIRLINE'] == \"OO\"]['CANCELLED'].sum()"
   ]
  },
  {
   "cell_type": "code",
   "execution_count": 139,
   "id": "governing-syracuse",
   "metadata": {},
   "outputs": [
    {
     "data": {
      "text/plain": [
       "378"
      ]
     },
     "execution_count": 139,
     "metadata": {},
     "output_type": "execute_result"
    }
   ],
   "source": [
    "flights_df[flights_df['AIRLINE'] == \"OO\"]['DIVERTED'].sum()"
   ]
  },
  {
   "cell_type": "markdown",
   "id": "radio-complaint",
   "metadata": {},
   "source": [
    "### 5. Определите скорость полёта для каждого рейса, скорость полёта среднюю для трёх выбранных авиакомпаний."
   ]
  },
  {
   "cell_type": "code",
   "execution_count": 143,
   "id": "certified-startup",
   "metadata": {},
   "outputs": [
    {
     "data": {
      "text/plain": [
       "0          514.082840\n",
       "1          531.558935\n",
       "2          517.894737\n",
       "3          544.651163\n",
       "4          436.582915\n",
       "              ...    \n",
       "1048570    390.000000\n",
       "1048571    387.945205\n",
       "1048572    469.909091\n",
       "1048573    395.433071\n",
       "1048574           NaN\n",
       "Name: SPEED, Length: 1048575, dtype: float64"
      ]
     },
     "execution_count": 143,
     "metadata": {},
     "output_type": "execute_result"
    }
   ],
   "source": [
    "flights_df['SPEED'] = flights_df['DISTANCE']/(flights_df['AIR_TIME']/60)\n",
    "flights_df['SPEED']"
   ]
  },
  {
   "cell_type": "code",
   "execution_count": 144,
   "id": "consistent-sapphire",
   "metadata": {},
   "outputs": [
    {
     "name": "stdout",
     "output_type": "stream",
     "text": [
      "359.7236985378757\n"
     ]
    }
   ],
   "source": [
    "A = flights_df[flights_df['AIRLINE'] == \"OO\"]['SPEED'].count()\n",
    "B = flights_df[flights_df['AIRLINE'] == \"OO\"]['SPEED'].sum()\n",
    "print(B/A)"
   ]
  },
  {
   "cell_type": "code",
   "execution_count": 145,
   "id": "foster-mailing",
   "metadata": {},
   "outputs": [
    {
     "name": "stdout",
     "output_type": "stream",
     "text": [
      "431.1760555940942\n"
     ]
    }
   ],
   "source": [
    "A = flights_df[flights_df['AIRLINE'] == \"AA\"]['SPEED'].count()\n",
    "B = flights_df[flights_df['AIRLINE'] == \"AA\"]['SPEED'].sum()\n",
    "print(B/A)"
   ]
  },
  {
   "cell_type": "code",
   "execution_count": 146,
   "id": "biblical-coverage",
   "metadata": {},
   "outputs": [
    {
     "name": "stdout",
     "output_type": "stream",
     "text": [
      "416.62848412320284\n"
     ]
    }
   ],
   "source": [
    "A = flights_df[flights_df['AIRLINE'] == \"DL\"]['SPEED'].count()\n",
    "B = flights_df[flights_df['AIRLINE'] == \"DL\"]['SPEED'].sum()\n",
    "print(B/A)"
   ]
  },
  {
   "cell_type": "markdown",
   "id": "plastic-needle",
   "metadata": {},
   "source": [
    "### 6. Визуализируйте тепловую карту частоты отмены рейсов. По одной оси – дни, по другой оси – рейс (для двух аэропортов)."
   ]
  },
  {
   "cell_type": "code",
   "execution_count": 153,
   "id": "composed-suspect",
   "metadata": {},
   "outputs": [
    {
     "data": {
      "text/html": [
       "<div>\n",
       "<style scoped>\n",
       "    .dataframe tbody tr th:only-of-type {\n",
       "        vertical-align: middle;\n",
       "    }\n",
       "\n",
       "    .dataframe tbody tr th {\n",
       "        vertical-align: top;\n",
       "    }\n",
       "\n",
       "    .dataframe thead th {\n",
       "        text-align: right;\n",
       "    }\n",
       "</style>\n",
       "<table border=\"1\" class=\"dataframe\">\n",
       "  <thead>\n",
       "    <tr style=\"text-align: right;\">\n",
       "      <th></th>\n",
       "      <th>YEAR</th>\n",
       "      <th>MONTH</th>\n",
       "      <th>DAY</th>\n",
       "      <th>DAY_OF_WEEK</th>\n",
       "      <th>AIRLINE</th>\n",
       "      <th>FLIGHT_NUMBER</th>\n",
       "      <th>TAIL_NUMBER</th>\n",
       "      <th>ORIGIN_AIRPORT</th>\n",
       "      <th>DESTINATION_AIRPORT</th>\n",
       "      <th>SCHEDULED_DEPARTURE</th>\n",
       "      <th>...</th>\n",
       "      <th>ARRIVAL_DELAY</th>\n",
       "      <th>DIVERTED</th>\n",
       "      <th>CANCELLED</th>\n",
       "      <th>CANCELLATION_REASON</th>\n",
       "      <th>AIR_SYSTEM_DELAY</th>\n",
       "      <th>SECURITY_DELAY</th>\n",
       "      <th>AIRLINE_DELAY</th>\n",
       "      <th>LATE_AIRCRAFT_DELAY</th>\n",
       "      <th>WEATHER_DELAY</th>\n",
       "      <th>SPEED</th>\n",
       "    </tr>\n",
       "  </thead>\n",
       "  <tbody>\n",
       "    <tr>\n",
       "      <th>154</th>\n",
       "      <td>2015</td>\n",
       "      <td>1</td>\n",
       "      <td>1</td>\n",
       "      <td>4</td>\n",
       "      <td>EV</td>\n",
       "      <td>5230</td>\n",
       "      <td>N181PQ</td>\n",
       "      <td>CID</td>\n",
       "      <td>ATL</td>\n",
       "      <td>554</td>\n",
       "      <td>...</td>\n",
       "      <td>-17.0</td>\n",
       "      <td>0</td>\n",
       "      <td>0</td>\n",
       "      <td>NaN</td>\n",
       "      <td>NaN</td>\n",
       "      <td>NaN</td>\n",
       "      <td>NaN</td>\n",
       "      <td>NaN</td>\n",
       "      <td>NaN</td>\n",
       "      <td>495.714286</td>\n",
       "    </tr>\n",
       "    <tr>\n",
       "      <th>312</th>\n",
       "      <td>2015</td>\n",
       "      <td>1</td>\n",
       "      <td>1</td>\n",
       "      <td>4</td>\n",
       "      <td>MQ</td>\n",
       "      <td>3189</td>\n",
       "      <td>N532MQ</td>\n",
       "      <td>CID</td>\n",
       "      <td>DFW</td>\n",
       "      <td>600</td>\n",
       "      <td>...</td>\n",
       "      <td>NaN</td>\n",
       "      <td>0</td>\n",
       "      <td>1</td>\n",
       "      <td>B</td>\n",
       "      <td>NaN</td>\n",
       "      <td>NaN</td>\n",
       "      <td>NaN</td>\n",
       "      <td>NaN</td>\n",
       "      <td>NaN</td>\n",
       "      <td>NaN</td>\n",
       "    </tr>\n",
       "    <tr>\n",
       "      <th>355</th>\n",
       "      <td>2015</td>\n",
       "      <td>1</td>\n",
       "      <td>1</td>\n",
       "      <td>4</td>\n",
       "      <td>OO</td>\n",
       "      <td>6378</td>\n",
       "      <td>N767SK</td>\n",
       "      <td>CID</td>\n",
       "      <td>ORD</td>\n",
       "      <td>600</td>\n",
       "      <td>...</td>\n",
       "      <td>-1.0</td>\n",
       "      <td>0</td>\n",
       "      <td>0</td>\n",
       "      <td>NaN</td>\n",
       "      <td>NaN</td>\n",
       "      <td>NaN</td>\n",
       "      <td>NaN</td>\n",
       "      <td>NaN</td>\n",
       "      <td>NaN</td>\n",
       "      <td>273.488372</td>\n",
       "    </tr>\n",
       "    <tr>\n",
       "      <th>946</th>\n",
       "      <td>2015</td>\n",
       "      <td>1</td>\n",
       "      <td>1</td>\n",
       "      <td>4</td>\n",
       "      <td>EV</td>\n",
       "      <td>5423</td>\n",
       "      <td>N724EV</td>\n",
       "      <td>CID</td>\n",
       "      <td>MSP</td>\n",
       "      <td>700</td>\n",
       "      <td>...</td>\n",
       "      <td>-9.0</td>\n",
       "      <td>0</td>\n",
       "      <td>0</td>\n",
       "      <td>NaN</td>\n",
       "      <td>NaN</td>\n",
       "      <td>NaN</td>\n",
       "      <td>NaN</td>\n",
       "      <td>NaN</td>\n",
       "      <td>NaN</td>\n",
       "      <td>314.285714</td>\n",
       "    </tr>\n",
       "    <tr>\n",
       "      <th>1289</th>\n",
       "      <td>2015</td>\n",
       "      <td>1</td>\n",
       "      <td>1</td>\n",
       "      <td>4</td>\n",
       "      <td>MQ</td>\n",
       "      <td>3197</td>\n",
       "      <td>N523MQ</td>\n",
       "      <td>CID</td>\n",
       "      <td>DFW</td>\n",
       "      <td>730</td>\n",
       "      <td>...</td>\n",
       "      <td>0.0</td>\n",
       "      <td>0</td>\n",
       "      <td>0</td>\n",
       "      <td>NaN</td>\n",
       "      <td>NaN</td>\n",
       "      <td>NaN</td>\n",
       "      <td>NaN</td>\n",
       "      <td>NaN</td>\n",
       "      <td>NaN</td>\n",
       "      <td>387.735849</td>\n",
       "    </tr>\n",
       "    <tr>\n",
       "      <th>...</th>\n",
       "      <td>...</td>\n",
       "      <td>...</td>\n",
       "      <td>...</td>\n",
       "      <td>...</td>\n",
       "      <td>...</td>\n",
       "      <td>...</td>\n",
       "      <td>...</td>\n",
       "      <td>...</td>\n",
       "      <td>...</td>\n",
       "      <td>...</td>\n",
       "      <td>...</td>\n",
       "      <td>...</td>\n",
       "      <td>...</td>\n",
       "      <td>...</td>\n",
       "      <td>...</td>\n",
       "      <td>...</td>\n",
       "      <td>...</td>\n",
       "      <td>...</td>\n",
       "      <td>...</td>\n",
       "      <td>...</td>\n",
       "      <td>...</td>\n",
       "    </tr>\n",
       "    <tr>\n",
       "      <th>1044186</th>\n",
       "      <td>2015</td>\n",
       "      <td>3</td>\n",
       "      <td>10</td>\n",
       "      <td>2</td>\n",
       "      <td>EV</td>\n",
       "      <td>5230</td>\n",
       "      <td>N724EV</td>\n",
       "      <td>CID</td>\n",
       "      <td>ATL</td>\n",
       "      <td>600</td>\n",
       "      <td>...</td>\n",
       "      <td>69.0</td>\n",
       "      <td>0</td>\n",
       "      <td>0</td>\n",
       "      <td>NaN</td>\n",
       "      <td>69.0</td>\n",
       "      <td>0.0</td>\n",
       "      <td>0.0</td>\n",
       "      <td>0.0</td>\n",
       "      <td>0.0</td>\n",
       "      <td>447.741935</td>\n",
       "    </tr>\n",
       "    <tr>\n",
       "      <th>1044943</th>\n",
       "      <td>2015</td>\n",
       "      <td>3</td>\n",
       "      <td>10</td>\n",
       "      <td>2</td>\n",
       "      <td>MQ</td>\n",
       "      <td>3276</td>\n",
       "      <td>N521MQ</td>\n",
       "      <td>CID</td>\n",
       "      <td>ORD</td>\n",
       "      <td>643</td>\n",
       "      <td>...</td>\n",
       "      <td>317.0</td>\n",
       "      <td>0</td>\n",
       "      <td>0</td>\n",
       "      <td>NaN</td>\n",
       "      <td>0.0</td>\n",
       "      <td>0.0</td>\n",
       "      <td>0.0</td>\n",
       "      <td>0.0</td>\n",
       "      <td>317.0</td>\n",
       "      <td>267.272727</td>\n",
       "    </tr>\n",
       "    <tr>\n",
       "      <th>1046773</th>\n",
       "      <td>2015</td>\n",
       "      <td>3</td>\n",
       "      <td>10</td>\n",
       "      <td>2</td>\n",
       "      <td>MQ</td>\n",
       "      <td>3116</td>\n",
       "      <td>N678MQ</td>\n",
       "      <td>CID</td>\n",
       "      <td>ORD</td>\n",
       "      <td>827</td>\n",
       "      <td>...</td>\n",
       "      <td>NaN</td>\n",
       "      <td>0</td>\n",
       "      <td>1</td>\n",
       "      <td>B</td>\n",
       "      <td>NaN</td>\n",
       "      <td>NaN</td>\n",
       "      <td>NaN</td>\n",
       "      <td>NaN</td>\n",
       "      <td>NaN</td>\n",
       "      <td>NaN</td>\n",
       "    </tr>\n",
       "    <tr>\n",
       "      <th>1047684</th>\n",
       "      <td>2015</td>\n",
       "      <td>3</td>\n",
       "      <td>10</td>\n",
       "      <td>2</td>\n",
       "      <td>OO</td>\n",
       "      <td>6477</td>\n",
       "      <td>N750SK</td>\n",
       "      <td>CID</td>\n",
       "      <td>DEN</td>\n",
       "      <td>915</td>\n",
       "      <td>...</td>\n",
       "      <td>258.0</td>\n",
       "      <td>0</td>\n",
       "      <td>0</td>\n",
       "      <td>NaN</td>\n",
       "      <td>0.0</td>\n",
       "      <td>0.0</td>\n",
       "      <td>0.0</td>\n",
       "      <td>258.0</td>\n",
       "      <td>0.0</td>\n",
       "      <td>428.041237</td>\n",
       "    </tr>\n",
       "    <tr>\n",
       "      <th>1048574</th>\n",
       "      <td>2015</td>\n",
       "      <td>3</td>\n",
       "      <td>10</td>\n",
       "      <td>2</td>\n",
       "      <td>MQ</td>\n",
       "      <td>2916</td>\n",
       "      <td>N539MQ</td>\n",
       "      <td>CID</td>\n",
       "      <td>ORD</td>\n",
       "      <td>1013</td>\n",
       "      <td>...</td>\n",
       "      <td>NaN</td>\n",
       "      <td>0</td>\n",
       "      <td>1</td>\n",
       "      <td>B</td>\n",
       "      <td>NaN</td>\n",
       "      <td>NaN</td>\n",
       "      <td>NaN</td>\n",
       "      <td>NaN</td>\n",
       "      <td>NaN</td>\n",
       "      <td>NaN</td>\n",
       "    </tr>\n",
       "  </tbody>\n",
       "</table>\n",
       "<p>1480 rows × 32 columns</p>\n",
       "</div>"
      ],
      "text/plain": [
       "         YEAR  MONTH  DAY  DAY_OF_WEEK AIRLINE  FLIGHT_NUMBER TAIL_NUMBER  \\\n",
       "154      2015      1    1            4      EV           5230      N181PQ   \n",
       "312      2015      1    1            4      MQ           3189      N532MQ   \n",
       "355      2015      1    1            4      OO           6378      N767SK   \n",
       "946      2015      1    1            4      EV           5423      N724EV   \n",
       "1289     2015      1    1            4      MQ           3197      N523MQ   \n",
       "...       ...    ...  ...          ...     ...            ...         ...   \n",
       "1044186  2015      3   10            2      EV           5230      N724EV   \n",
       "1044943  2015      3   10            2      MQ           3276      N521MQ   \n",
       "1046773  2015      3   10            2      MQ           3116      N678MQ   \n",
       "1047684  2015      3   10            2      OO           6477      N750SK   \n",
       "1048574  2015      3   10            2      MQ           2916      N539MQ   \n",
       "\n",
       "        ORIGIN_AIRPORT DESTINATION_AIRPORT  SCHEDULED_DEPARTURE  ...  \\\n",
       "154                CID                 ATL                  554  ...   \n",
       "312                CID                 DFW                  600  ...   \n",
       "355                CID                 ORD                  600  ...   \n",
       "946                CID                 MSP                  700  ...   \n",
       "1289               CID                 DFW                  730  ...   \n",
       "...                ...                 ...                  ...  ...   \n",
       "1044186            CID                 ATL                  600  ...   \n",
       "1044943            CID                 ORD                  643  ...   \n",
       "1046773            CID                 ORD                  827  ...   \n",
       "1047684            CID                 DEN                  915  ...   \n",
       "1048574            CID                 ORD                 1013  ...   \n",
       "\n",
       "         ARRIVAL_DELAY  DIVERTED  CANCELLED  CANCELLATION_REASON  \\\n",
       "154              -17.0         0          0                  NaN   \n",
       "312                NaN         0          1                    B   \n",
       "355               -1.0         0          0                  NaN   \n",
       "946               -9.0         0          0                  NaN   \n",
       "1289               0.0         0          0                  NaN   \n",
       "...                ...       ...        ...                  ...   \n",
       "1044186           69.0         0          0                  NaN   \n",
       "1044943          317.0         0          0                  NaN   \n",
       "1046773            NaN         0          1                    B   \n",
       "1047684          258.0         0          0                  NaN   \n",
       "1048574            NaN         0          1                    B   \n",
       "\n",
       "         AIR_SYSTEM_DELAY  SECURITY_DELAY  AIRLINE_DELAY  LATE_AIRCRAFT_DELAY  \\\n",
       "154                   NaN             NaN            NaN                  NaN   \n",
       "312                   NaN             NaN            NaN                  NaN   \n",
       "355                   NaN             NaN            NaN                  NaN   \n",
       "946                   NaN             NaN            NaN                  NaN   \n",
       "1289                  NaN             NaN            NaN                  NaN   \n",
       "...                   ...             ...            ...                  ...   \n",
       "1044186              69.0             0.0            0.0                  0.0   \n",
       "1044943               0.0             0.0            0.0                  0.0   \n",
       "1046773               NaN             NaN            NaN                  NaN   \n",
       "1047684               0.0             0.0            0.0                258.0   \n",
       "1048574               NaN             NaN            NaN                  NaN   \n",
       "\n",
       "         WEATHER_DELAY       SPEED  \n",
       "154                NaN  495.714286  \n",
       "312                NaN         NaN  \n",
       "355                NaN  273.488372  \n",
       "946                NaN  314.285714  \n",
       "1289               NaN  387.735849  \n",
       "...                ...         ...  \n",
       "1044186            0.0  447.741935  \n",
       "1044943          317.0  267.272727  \n",
       "1046773            NaN         NaN  \n",
       "1047684            0.0  428.041237  \n",
       "1048574            NaN         NaN  \n",
       "\n",
       "[1480 rows x 32 columns]"
      ]
     },
     "execution_count": 153,
     "metadata": {},
     "output_type": "execute_result"
    }
   ],
   "source": [
    "ASD1 = flights_df[flights_df['ORIGIN_AIRPORT'] == 'CID']\n",
    "ASD1"
   ]
  },
  {
   "cell_type": "code",
   "execution_count": 154,
   "id": "criminal-gentleman",
   "metadata": {},
   "outputs": [
    {
     "data": {
      "text/html": [
       "<div>\n",
       "<style scoped>\n",
       "    .dataframe tbody tr th:only-of-type {\n",
       "        vertical-align: middle;\n",
       "    }\n",
       "\n",
       "    .dataframe tbody tr th {\n",
       "        vertical-align: top;\n",
       "    }\n",
       "\n",
       "    .dataframe thead th {\n",
       "        text-align: right;\n",
       "    }\n",
       "</style>\n",
       "<table border=\"1\" class=\"dataframe\">\n",
       "  <thead>\n",
       "    <tr style=\"text-align: right;\">\n",
       "      <th></th>\n",
       "      <th>CANCELLED</th>\n",
       "    </tr>\n",
       "    <tr>\n",
       "      <th>DAY</th>\n",
       "      <th></th>\n",
       "    </tr>\n",
       "  </thead>\n",
       "  <tbody>\n",
       "    <tr>\n",
       "      <th>1</th>\n",
       "      <td>0</td>\n",
       "    </tr>\n",
       "    <tr>\n",
       "      <th>1</th>\n",
       "      <td>1</td>\n",
       "    </tr>\n",
       "    <tr>\n",
       "      <th>1</th>\n",
       "      <td>0</td>\n",
       "    </tr>\n",
       "    <tr>\n",
       "      <th>1</th>\n",
       "      <td>0</td>\n",
       "    </tr>\n",
       "    <tr>\n",
       "      <th>1</th>\n",
       "      <td>0</td>\n",
       "    </tr>\n",
       "    <tr>\n",
       "      <th>...</th>\n",
       "      <td>...</td>\n",
       "    </tr>\n",
       "    <tr>\n",
       "      <th>10</th>\n",
       "      <td>0</td>\n",
       "    </tr>\n",
       "    <tr>\n",
       "      <th>10</th>\n",
       "      <td>0</td>\n",
       "    </tr>\n",
       "    <tr>\n",
       "      <th>10</th>\n",
       "      <td>1</td>\n",
       "    </tr>\n",
       "    <tr>\n",
       "      <th>10</th>\n",
       "      <td>0</td>\n",
       "    </tr>\n",
       "    <tr>\n",
       "      <th>10</th>\n",
       "      <td>1</td>\n",
       "    </tr>\n",
       "  </tbody>\n",
       "</table>\n",
       "<p>1480 rows × 1 columns</p>\n",
       "</div>"
      ],
      "text/plain": [
       "     CANCELLED\n",
       "DAY           \n",
       "1            0\n",
       "1            1\n",
       "1            0\n",
       "1            0\n",
       "1            0\n",
       "..         ...\n",
       "10           0\n",
       "10           0\n",
       "10           1\n",
       "10           0\n",
       "10           1\n",
       "\n",
       "[1480 rows x 1 columns]"
      ]
     },
     "execution_count": 154,
     "metadata": {},
     "output_type": "execute_result"
    }
   ],
   "source": [
    "asdf1 = ASD1[['DAY', 'CANCELLED']].set_index('DAY')\n",
    "asdf1"
   ]
  },
  {
   "cell_type": "code",
   "execution_count": 155,
   "id": "adjusted-gospel",
   "metadata": {},
   "outputs": [
    {
     "data": {
      "image/png": "[encoded data removed]",
      "text/plain": [
       "<Figure size 432x288 with 2 Axes>"
      ]
     },
     "metadata": {
      "needs_background": "light"
     },
     "output_type": "display_data"
    }
   ],
   "source": [
    "asd1 = sns.heatmap(asdf1)"
   ]
  },
  {
   "cell_type": "code",
   "execution_count": 159,
   "id": "thick-apache",
   "metadata": {},
   "outputs": [
    {
     "data": {
      "text/html": [
       "<div>\n",
       "<style scoped>\n",
       "    .dataframe tbody tr th:only-of-type {\n",
       "        vertical-align: middle;\n",
       "    }\n",
       "\n",
       "    .dataframe tbody tr th {\n",
       "        vertical-align: top;\n",
       "    }\n",
       "\n",
       "    .dataframe thead th {\n",
       "        text-align: right;\n",
       "    }\n",
       "</style>\n",
       "<table border=\"1\" class=\"dataframe\">\n",
       "  <thead>\n",
       "    <tr style=\"text-align: right;\">\n",
       "      <th></th>\n",
       "      <th>YEAR</th>\n",
       "      <th>MONTH</th>\n",
       "      <th>DAY</th>\n",
       "      <th>DAY_OF_WEEK</th>\n",
       "      <th>AIRLINE</th>\n",
       "      <th>FLIGHT_NUMBER</th>\n",
       "      <th>TAIL_NUMBER</th>\n",
       "      <th>ORIGIN_AIRPORT</th>\n",
       "      <th>DESTINATION_AIRPORT</th>\n",
       "      <th>SCHEDULED_DEPARTURE</th>\n",
       "      <th>...</th>\n",
       "      <th>ARRIVAL_DELAY</th>\n",
       "      <th>DIVERTED</th>\n",
       "      <th>CANCELLED</th>\n",
       "      <th>CANCELLATION_REASON</th>\n",
       "      <th>AIR_SYSTEM_DELAY</th>\n",
       "      <th>SECURITY_DELAY</th>\n",
       "      <th>AIRLINE_DELAY</th>\n",
       "      <th>LATE_AIRCRAFT_DELAY</th>\n",
       "      <th>WEATHER_DELAY</th>\n",
       "      <th>SPEED</th>\n",
       "    </tr>\n",
       "  </thead>\n",
       "  <tbody>\n",
       "    <tr>\n",
       "      <th>170</th>\n",
       "      <td>2015</td>\n",
       "      <td>1</td>\n",
       "      <td>1</td>\n",
       "      <td>4</td>\n",
       "      <td>AA</td>\n",
       "      <td>1205</td>\n",
       "      <td>N3FKAA</td>\n",
       "      <td>EWR</td>\n",
       "      <td>MIA</td>\n",
       "      <td>559</td>\n",
       "      <td>...</td>\n",
       "      <td>-13.0</td>\n",
       "      <td>0</td>\n",
       "      <td>0</td>\n",
       "      <td>NaN</td>\n",
       "      <td>NaN</td>\n",
       "      <td>NaN</td>\n",
       "      <td>NaN</td>\n",
       "      <td>NaN</td>\n",
       "      <td>NaN</td>\n",
       "      <td>436.912752</td>\n",
       "    </tr>\n",
       "    <tr>\n",
       "      <th>176</th>\n",
       "      <td>2015</td>\n",
       "      <td>1</td>\n",
       "      <td>1</td>\n",
       "      <td>4</td>\n",
       "      <td>UA</td>\n",
       "      <td>319</td>\n",
       "      <td>N498UA</td>\n",
       "      <td>EWR</td>\n",
       "      <td>MCO</td>\n",
       "      <td>600</td>\n",
       "      <td>...</td>\n",
       "      <td>-18.0</td>\n",
       "      <td>0</td>\n",
       "      <td>0</td>\n",
       "      <td>NaN</td>\n",
       "      <td>NaN</td>\n",
       "      <td>NaN</td>\n",
       "      <td>NaN</td>\n",
       "      <td>NaN</td>\n",
       "      <td>NaN</td>\n",
       "      <td>416.444444</td>\n",
       "    </tr>\n",
       "    <tr>\n",
       "      <th>244</th>\n",
       "      <td>2015</td>\n",
       "      <td>1</td>\n",
       "      <td>1</td>\n",
       "      <td>4</td>\n",
       "      <td>B6</td>\n",
       "      <td>605</td>\n",
       "      <td>N766JB</td>\n",
       "      <td>EWR</td>\n",
       "      <td>FLL</td>\n",
       "      <td>600</td>\n",
       "      <td>...</td>\n",
       "      <td>-21.0</td>\n",
       "      <td>0</td>\n",
       "      <td>0</td>\n",
       "      <td>NaN</td>\n",
       "      <td>NaN</td>\n",
       "      <td>NaN</td>\n",
       "      <td>NaN</td>\n",
       "      <td>NaN</td>\n",
       "      <td>NaN</td>\n",
       "      <td>440.689655</td>\n",
       "    </tr>\n",
       "    <tr>\n",
       "      <th>365</th>\n",
       "      <td>2015</td>\n",
       "      <td>1</td>\n",
       "      <td>1</td>\n",
       "      <td>4</td>\n",
       "      <td>UA</td>\n",
       "      <td>1689</td>\n",
       "      <td>N39461</td>\n",
       "      <td>EWR</td>\n",
       "      <td>SFO</td>\n",
       "      <td>601</td>\n",
       "      <td>...</td>\n",
       "      <td>-20.0</td>\n",
       "      <td>0</td>\n",
       "      <td>0</td>\n",
       "      <td>NaN</td>\n",
       "      <td>NaN</td>\n",
       "      <td>NaN</td>\n",
       "      <td>NaN</td>\n",
       "      <td>NaN</td>\n",
       "      <td>NaN</td>\n",
       "      <td>433.521127</td>\n",
       "    </tr>\n",
       "    <tr>\n",
       "      <th>417</th>\n",
       "      <td>2015</td>\n",
       "      <td>1</td>\n",
       "      <td>1</td>\n",
       "      <td>4</td>\n",
       "      <td>UA</td>\n",
       "      <td>1601</td>\n",
       "      <td>N37466</td>\n",
       "      <td>EWR</td>\n",
       "      <td>FLL</td>\n",
       "      <td>606</td>\n",
       "      <td>...</td>\n",
       "      <td>-37.0</td>\n",
       "      <td>0</td>\n",
       "      <td>0</td>\n",
       "      <td>NaN</td>\n",
       "      <td>NaN</td>\n",
       "      <td>NaN</td>\n",
       "      <td>NaN</td>\n",
       "      <td>NaN</td>\n",
       "      <td>NaN</td>\n",
       "      <td>446.853147</td>\n",
       "    </tr>\n",
       "    <tr>\n",
       "      <th>...</th>\n",
       "      <td>...</td>\n",
       "      <td>...</td>\n",
       "      <td>...</td>\n",
       "      <td>...</td>\n",
       "      <td>...</td>\n",
       "      <td>...</td>\n",
       "      <td>...</td>\n",
       "      <td>...</td>\n",
       "      <td>...</td>\n",
       "      <td>...</td>\n",
       "      <td>...</td>\n",
       "      <td>...</td>\n",
       "      <td>...</td>\n",
       "      <td>...</td>\n",
       "      <td>...</td>\n",
       "      <td>...</td>\n",
       "      <td>...</td>\n",
       "      <td>...</td>\n",
       "      <td>...</td>\n",
       "      <td>...</td>\n",
       "      <td>...</td>\n",
       "    </tr>\n",
       "    <tr>\n",
       "      <th>1048327</th>\n",
       "      <td>2015</td>\n",
       "      <td>3</td>\n",
       "      <td>10</td>\n",
       "      <td>2</td>\n",
       "      <td>UA</td>\n",
       "      <td>1110</td>\n",
       "      <td>N75425</td>\n",
       "      <td>EWR</td>\n",
       "      <td>LAS</td>\n",
       "      <td>1000</td>\n",
       "      <td>...</td>\n",
       "      <td>-24.0</td>\n",
       "      <td>0</td>\n",
       "      <td>0</td>\n",
       "      <td>NaN</td>\n",
       "      <td>NaN</td>\n",
       "      <td>NaN</td>\n",
       "      <td>NaN</td>\n",
       "      <td>NaN</td>\n",
       "      <td>NaN</td>\n",
       "      <td>439.539474</td>\n",
       "    </tr>\n",
       "    <tr>\n",
       "      <th>1048328</th>\n",
       "      <td>2015</td>\n",
       "      <td>3</td>\n",
       "      <td>10</td>\n",
       "      <td>2</td>\n",
       "      <td>UA</td>\n",
       "      <td>1170</td>\n",
       "      <td>N78509</td>\n",
       "      <td>EWR</td>\n",
       "      <td>FLL</td>\n",
       "      <td>1000</td>\n",
       "      <td>...</td>\n",
       "      <td>40.0</td>\n",
       "      <td>0</td>\n",
       "      <td>0</td>\n",
       "      <td>NaN</td>\n",
       "      <td>0.0</td>\n",
       "      <td>0.0</td>\n",
       "      <td>40.0</td>\n",
       "      <td>0.0</td>\n",
       "      <td>0.0</td>\n",
       "      <td>426.000000</td>\n",
       "    </tr>\n",
       "    <tr>\n",
       "      <th>1048329</th>\n",
       "      <td>2015</td>\n",
       "      <td>3</td>\n",
       "      <td>10</td>\n",
       "      <td>2</td>\n",
       "      <td>UA</td>\n",
       "      <td>1248</td>\n",
       "      <td>N24702</td>\n",
       "      <td>EWR</td>\n",
       "      <td>BOS</td>\n",
       "      <td>1000</td>\n",
       "      <td>...</td>\n",
       "      <td>-18.0</td>\n",
       "      <td>0</td>\n",
       "      <td>0</td>\n",
       "      <td>NaN</td>\n",
       "      <td>NaN</td>\n",
       "      <td>NaN</td>\n",
       "      <td>NaN</td>\n",
       "      <td>NaN</td>\n",
       "      <td>NaN</td>\n",
       "      <td>307.692308</td>\n",
       "    </tr>\n",
       "    <tr>\n",
       "      <th>1048458</th>\n",
       "      <td>2015</td>\n",
       "      <td>3</td>\n",
       "      <td>10</td>\n",
       "      <td>2</td>\n",
       "      <td>EV</td>\n",
       "      <td>4364</td>\n",
       "      <td>N11187</td>\n",
       "      <td>EWR</td>\n",
       "      <td>MCI</td>\n",
       "      <td>1005</td>\n",
       "      <td>...</td>\n",
       "      <td>34.0</td>\n",
       "      <td>0</td>\n",
       "      <td>0</td>\n",
       "      <td>NaN</td>\n",
       "      <td>34.0</td>\n",
       "      <td>0.0</td>\n",
       "      <td>0.0</td>\n",
       "      <td>0.0</td>\n",
       "      <td>0.0</td>\n",
       "      <td>394.698795</td>\n",
       "    </tr>\n",
       "    <tr>\n",
       "      <th>1048459</th>\n",
       "      <td>2015</td>\n",
       "      <td>3</td>\n",
       "      <td>10</td>\n",
       "      <td>2</td>\n",
       "      <td>EV</td>\n",
       "      <td>4495</td>\n",
       "      <td>N14570</td>\n",
       "      <td>EWR</td>\n",
       "      <td>SAV</td>\n",
       "      <td>1005</td>\n",
       "      <td>...</td>\n",
       "      <td>-1.0</td>\n",
       "      <td>0</td>\n",
       "      <td>0</td>\n",
       "      <td>NaN</td>\n",
       "      <td>NaN</td>\n",
       "      <td>NaN</td>\n",
       "      <td>NaN</td>\n",
       "      <td>NaN</td>\n",
       "      <td>NaN</td>\n",
       "      <td>375.929204</td>\n",
       "    </tr>\n",
       "  </tbody>\n",
       "</table>\n",
       "<p>19608 rows × 32 columns</p>\n",
       "</div>"
      ],
      "text/plain": [
       "         YEAR  MONTH  DAY  DAY_OF_WEEK AIRLINE  FLIGHT_NUMBER TAIL_NUMBER  \\\n",
       "170      2015      1    1            4      AA           1205      N3FKAA   \n",
       "176      2015      1    1            4      UA            319      N498UA   \n",
       "244      2015      1    1            4      B6            605      N766JB   \n",
       "365      2015      1    1            4      UA           1689      N39461   \n",
       "417      2015      1    1            4      UA           1601      N37466   \n",
       "...       ...    ...  ...          ...     ...            ...         ...   \n",
       "1048327  2015      3   10            2      UA           1110      N75425   \n",
       "1048328  2015      3   10            2      UA           1170      N78509   \n",
       "1048329  2015      3   10            2      UA           1248      N24702   \n",
       "1048458  2015      3   10            2      EV           4364      N11187   \n",
       "1048459  2015      3   10            2      EV           4495      N14570   \n",
       "\n",
       "        ORIGIN_AIRPORT DESTINATION_AIRPORT  SCHEDULED_DEPARTURE  ...  \\\n",
       "170                EWR                 MIA                  559  ...   \n",
       "176                EWR                 MCO                  600  ...   \n",
       "244                EWR                 FLL                  600  ...   \n",
       "365                EWR                 SFO                  601  ...   \n",
       "417                EWR                 FLL                  606  ...   \n",
       "...                ...                 ...                  ...  ...   \n",
       "1048327            EWR                 LAS                 1000  ...   \n",
       "1048328            EWR                 FLL                 1000  ...   \n",
       "1048329            EWR                 BOS                 1000  ...   \n",
       "1048458            EWR                 MCI                 1005  ...   \n",
       "1048459            EWR                 SAV                 1005  ...   \n",
       "\n",
       "         ARRIVAL_DELAY  DIVERTED  CANCELLED  CANCELLATION_REASON  \\\n",
       "170              -13.0         0          0                  NaN   \n",
       "176              -18.0         0          0                  NaN   \n",
       "244              -21.0         0          0                  NaN   \n",
       "365              -20.0         0          0                  NaN   \n",
       "417              -37.0         0          0                  NaN   \n",
       "...                ...       ...        ...                  ...   \n",
       "1048327          -24.0         0          0                  NaN   \n",
       "1048328           40.0         0          0                  NaN   \n",
       "1048329          -18.0         0          0                  NaN   \n",
       "1048458           34.0         0          0                  NaN   \n",
       "1048459           -1.0         0          0                  NaN   \n",
       "\n",
       "         AIR_SYSTEM_DELAY  SECURITY_DELAY  AIRLINE_DELAY  LATE_AIRCRAFT_DELAY  \\\n",
       "170                   NaN             NaN            NaN                  NaN   \n",
       "176                   NaN             NaN            NaN                  NaN   \n",
       "244                   NaN             NaN            NaN                  NaN   \n",
       "365                   NaN             NaN            NaN                  NaN   \n",
       "417                   NaN             NaN            NaN                  NaN   \n",
       "...                   ...             ...            ...                  ...   \n",
       "1048327               NaN             NaN            NaN                  NaN   \n",
       "1048328               0.0             0.0           40.0                  0.0   \n",
       "1048329               NaN             NaN            NaN                  NaN   \n",
       "1048458              34.0             0.0            0.0                  0.0   \n",
       "1048459               NaN             NaN            NaN                  NaN   \n",
       "\n",
       "         WEATHER_DELAY       SPEED  \n",
       "170                NaN  436.912752  \n",
       "176                NaN  416.444444  \n",
       "244                NaN  440.689655  \n",
       "365                NaN  433.521127  \n",
       "417                NaN  446.853147  \n",
       "...                ...         ...  \n",
       "1048327            NaN  439.539474  \n",
       "1048328            0.0  426.000000  \n",
       "1048329            NaN  307.692308  \n",
       "1048458            0.0  394.698795  \n",
       "1048459            NaN  375.929204  \n",
       "\n",
       "[19608 rows x 32 columns]"
      ]
     },
     "execution_count": 159,
     "metadata": {},
     "output_type": "execute_result"
    }
   ],
   "source": [
    "ASD2 = flights_df[flights_df['ORIGIN_AIRPORT'] == 'EWR']\n",
    "ASD2"
   ]
  },
  {
   "cell_type": "code",
   "execution_count": 160,
   "id": "theoretical-symposium",
   "metadata": {},
   "outputs": [
    {
     "data": {
      "text/html": [
       "<div>\n",
       "<style scoped>\n",
       "    .dataframe tbody tr th:only-of-type {\n",
       "        vertical-align: middle;\n",
       "    }\n",
       "\n",
       "    .dataframe tbody tr th {\n",
       "        vertical-align: top;\n",
       "    }\n",
       "\n",
       "    .dataframe thead th {\n",
       "        text-align: right;\n",
       "    }\n",
       "</style>\n",
       "<table border=\"1\" class=\"dataframe\">\n",
       "  <thead>\n",
       "    <tr style=\"text-align: right;\">\n",
       "      <th></th>\n",
       "      <th>CANCELLED</th>\n",
       "    </tr>\n",
       "    <tr>\n",
       "      <th>DAY</th>\n",
       "      <th></th>\n",
       "    </tr>\n",
       "  </thead>\n",
       "  <tbody>\n",
       "    <tr>\n",
       "      <th>1</th>\n",
       "      <td>0</td>\n",
       "    </tr>\n",
       "    <tr>\n",
       "      <th>1</th>\n",
       "      <td>0</td>\n",
       "    </tr>\n",
       "    <tr>\n",
       "      <th>1</th>\n",
       "      <td>0</td>\n",
       "    </tr>\n",
       "    <tr>\n",
       "      <th>1</th>\n",
       "      <td>0</td>\n",
       "    </tr>\n",
       "    <tr>\n",
       "      <th>1</th>\n",
       "      <td>0</td>\n",
       "    </tr>\n",
       "    <tr>\n",
       "      <th>...</th>\n",
       "      <td>...</td>\n",
       "    </tr>\n",
       "    <tr>\n",
       "      <th>10</th>\n",
       "      <td>0</td>\n",
       "    </tr>\n",
       "    <tr>\n",
       "      <th>10</th>\n",
       "      <td>0</td>\n",
       "    </tr>\n",
       "    <tr>\n",
       "      <th>10</th>\n",
       "      <td>0</td>\n",
       "    </tr>\n",
       "    <tr>\n",
       "      <th>10</th>\n",
       "      <td>0</td>\n",
       "    </tr>\n",
       "    <tr>\n",
       "      <th>10</th>\n",
       "      <td>0</td>\n",
       "    </tr>\n",
       "  </tbody>\n",
       "</table>\n",
       "<p>19608 rows × 1 columns</p>\n",
       "</div>"
      ],
      "text/plain": [
       "     CANCELLED\n",
       "DAY           \n",
       "1            0\n",
       "1            0\n",
       "1            0\n",
       "1            0\n",
       "1            0\n",
       "..         ...\n",
       "10           0\n",
       "10           0\n",
       "10           0\n",
       "10           0\n",
       "10           0\n",
       "\n",
       "[19608 rows x 1 columns]"
      ]
     },
     "execution_count": 160,
     "metadata": {},
     "output_type": "execute_result"
    }
   ],
   "source": [
    "asdf2 = ASD2[['DAY', 'CANCELLED']].set_index('DAY')\n",
    "asdf2"
   ]
  },
  {
   "cell_type": "code",
   "execution_count": 161,
   "id": "handled-lodge",
   "metadata": {},
   "outputs": [
    {
     "data": {
      "image/png": "[encoded data removed]",
      "text/plain": [
       "<Figure size 432x288 with 2 Axes>"
      ]
     },
     "metadata": {
      "needs_background": "light"
     },
     "output_type": "display_data"
    }
   ],
   "source": [
    "asd2 = sns.heatmap(asdf2)"
   ]
  },
  {
   "cell_type": "markdown",
   "id": "extensive-fortune",
   "metadata": {},
   "source": [
    "### 7. Визуализируйте время задержки отправки и прибытия по трём аэропортам."
   ]
  },
  {
   "cell_type": "code",
   "execution_count": 162,
   "id": "everyday-assessment",
   "metadata": {},
   "outputs": [
    {
     "data": {
      "text/plain": [
       "<AxesSubplot:>"
      ]
     },
     "execution_count": 162,
     "metadata": {},
     "output_type": "execute_result"
    },
    {
     "data": {
      "image/png": "[encoded data removed]",
      "text/plain": [
       "<Figure size 432x288 with 1 Axes>"
      ]
     },
     "metadata": {
      "needs_background": "light"
     },
     "output_type": "display_data"
    }
   ],
   "source": [
    "df[df['AIRLINE'] == \"AS\"]['DEPARTURE_DELAY'].hist(bins=30)"
   ]
  },
  {
   "cell_type": "code",
   "execution_count": 163,
   "id": "rapid-petersburg",
   "metadata": {},
   "outputs": [
    {
     "data": {
      "text/plain": [
       "<AxesSubplot:>"
      ]
     },
     "execution_count": 163,
     "metadata": {},
     "output_type": "execute_result"
    },
    {
     "data": {
      "image/png": "[encoded data removed]",
      "text/plain": [
       "<Figure size 432x288 with 1 Axes>"
      ]
     },
     "metadata": {
      "needs_background": "light"
     },
     "output_type": "display_data"
    }
   ],
   "source": [
    "df[df['AIRLINE'] == \"AS\"]['ARRIVAL_DELAY'].hist(bins=30)"
   ]
  },
  {
   "cell_type": "code",
   "execution_count": 164,
   "id": "focused-assurance",
   "metadata": {},
   "outputs": [
    {
     "data": {
      "text/plain": [
       "<AxesSubplot:>"
      ]
     },
     "execution_count": 164,
     "metadata": {},
     "output_type": "execute_result"
    },
    {
     "data": {
      "image/png": "[encoded data removed]",
      "text/plain": [
       "<Figure size 432x288 with 1 Axes>"
      ]
     },
     "metadata": {
      "needs_background": "light"
     },
     "output_type": "display_data"
    }
   ],
   "source": [
    "df[df['AIRLINE'] == \"US\"]['DEPARTURE_DELAY'].hist(bins=30)"
   ]
  },
  {
   "cell_type": "code",
   "execution_count": 165,
   "id": "whole-palmer",
   "metadata": {},
   "outputs": [
    {
     "data": {
      "text/plain": [
       "<AxesSubplot:>"
      ]
     },
     "execution_count": 165,
     "metadata": {},
     "output_type": "execute_result"
    },
    {
     "data": {
      "image/png": "[encoded data removed]",
      "text/plain": [
       "<Figure size 432x288 with 1 Axes>"
      ]
     },
     "metadata": {
      "needs_background": "light"
     },
     "output_type": "display_data"
    }
   ],
   "source": [
    "df[df['AIRLINE'] == \"US\"]['ARRIVAL_DELAY'].hist(bins=30)"
   ]
  },
  {
   "cell_type": "code",
   "execution_count": 166,
   "id": "framed-focus",
   "metadata": {},
   "outputs": [
    {
     "data": {
      "text/plain": [
       "<AxesSubplot:>"
      ]
     },
     "execution_count": 166,
     "metadata": {},
     "output_type": "execute_result"
    },
    {
     "data": {
      "image/png": "[encoded data removed]",
      "text/plain": [
       "<Figure size 432x288 with 1 Axes>"
      ]
     },
     "metadata": {
      "needs_background": "light"
     },
     "output_type": "display_data"
    }
   ],
   "source": [
    "df[df['AIRLINE'] == \"B6\"]['DEPARTURE_DELAY'].hist(bins=30)"
   ]
  },
  {
   "cell_type": "code",
   "execution_count": 167,
   "id": "broke-contrast",
   "metadata": {},
   "outputs": [
    {
     "data": {
      "text/plain": [
       "<AxesSubplot:>"
      ]
     },
     "execution_count": 167,
     "metadata": {},
     "output_type": "execute_result"
    },
    {
     "data": {
      "image/png": "[encoded data removed]",
      "text/plain": [
       "<Figure size 432x288 with 1 Axes>"
      ]
     },
     "metadata": {
      "needs_background": "light"
     },
     "output_type": "display_data"
    }
   ],
   "source": [
    "df[df['AIRLINE'] == \"B6\"]['ARRIVAL_DELAY'].hist(bins=30)"
   ]
  },
  {
   "cell_type": "markdown",
   "id": "australian-acceptance",
   "metadata": {},
   "source": [
    "### 8. Для трёх выбранных аэропортов визуализируйте задержки по каждой причине."
   ]
  },
  {
   "cell_type": "code",
   "execution_count": 168,
   "id": "infrared-chaos",
   "metadata": {},
   "outputs": [
    {
     "data": {
      "text/plain": [
       "<AxesSubplot:>"
      ]
     },
     "execution_count": 168,
     "metadata": {},
     "output_type": "execute_result"
    },
    {
     "data": {
      "image/png": "[encoded data removed]",
      "text/plain": [
       "<Figure size 432x288 with 1 Axes>"
      ]
     },
     "metadata": {
      "needs_background": "light"
     },
     "output_type": "display_data"
    }
   ],
   "source": [
    "df[df['AIRLINE'] == \"AS\"]['AIR_SYSTEM_DELAY'].hist(bins=20)"
   ]
  },
  {
   "cell_type": "code",
   "execution_count": 169,
   "id": "valid-mainstream",
   "metadata": {},
   "outputs": [
    {
     "data": {
      "text/plain": [
       "<AxesSubplot:>"
      ]
     },
     "execution_count": 169,
     "metadata": {},
     "output_type": "execute_result"
    },
    {
     "data": {
      "image/png": "[encoded data removed]",
      "text/plain": [
       "<Figure size 432x288 with 1 Axes>"
      ]
     },
     "metadata": {
      "needs_background": "light"
     },
     "output_type": "display_data"
    }
   ],
   "source": [
    "df[df['AIRLINE'] == \"AS\"]['SECURITY_DELAY'].hist(bins=20)"
   ]
  },
  {
   "cell_type": "code",
   "execution_count": 170,
   "id": "logical-partnership",
   "metadata": {},
   "outputs": [
    {
     "data": {
      "text/plain": [
       "<AxesSubplot:>"
      ]
     },
     "execution_count": 170,
     "metadata": {},
     "output_type": "execute_result"
    },
    {
     "data": {
      "image/png": "[encoded data removed]",
      "text/plain": [
       "<Figure size 432x288 with 1 Axes>"
      ]
     },
     "metadata": {
      "needs_background": "light"
     },
     "output_type": "display_data"
    }
   ],
   "source": [
    "df[df['AIRLINE'] == \"AS\"]['AIRLINE_DELAY'].hist(bins=20)"
   ]
  },
  {
   "cell_type": "code",
   "execution_count": 171,
   "id": "endangered-reputation",
   "metadata": {},
   "outputs": [
    {
     "data": {
      "text/plain": [
       "<AxesSubplot:>"
      ]
     },
     "execution_count": 171,
     "metadata": {},
     "output_type": "execute_result"
    },
    {
     "data": {
      "image/png": "[encoded data removed]",
      "text/plain": [
       "<Figure size 432x288 with 1 Axes>"
      ]
     },
     "metadata": {
      "needs_background": "light"
     },
     "output_type": "display_data"
    }
   ],
   "source": [
    "df[df['AIRLINE'] == \"AS\"]['LATE_AIRCRAFT_DELAY'].hist(bins=20)"
   ]
  },
  {
   "cell_type": "code",
   "execution_count": 172,
   "id": "synthetic-nashville",
   "metadata": {},
   "outputs": [
    {
     "data": {
      "text/plain": [
       "<AxesSubplot:>"
      ]
     },
     "execution_count": 172,
     "metadata": {},
     "output_type": "execute_result"
    },
    {
     "data": {
      "image/png": "[encoded data removed]",
      "text/plain": [
       "<Figure size 432x288 with 1 Axes>"
      ]
     },
     "metadata": {
      "needs_background": "light"
     },
     "output_type": "display_data"
    }
   ],
   "source": [
    "df[df['AIRLINE'] == \"AS\"]['WEATHER_DELAY'].hist(bins=20)"
   ]
  },
  {
   "cell_type": "markdown",
   "id": "ahead-federation",
   "metadata": {},
   "source": [
    "++++++++++++++++++++++++++++++++++++++++++++++++++++++++++++++++++++++++++++++++++++++++++++++++"
   ]
  },
  {
   "cell_type": "code",
   "execution_count": 173,
   "id": "universal-commerce",
   "metadata": {},
   "outputs": [
    {
     "data": {
      "text/plain": [
       "<AxesSubplot:>"
      ]
     },
     "execution_count": 173,
     "metadata": {},
     "output_type": "execute_result"
    },
    {
     "data": {
      "image/png": "[encoded data removed]",
      "text/plain": [
       "<Figure size 432x288 with 1 Axes>"
      ]
     },
     "metadata": {
      "needs_background": "light"
     },
     "output_type": "display_data"
    }
   ],
   "source": [
    "df[df['AIRLINE'] == \"OO\"]['AIR_SYSTEM_DELAY'].hist(bins=20)"
   ]
  },
  {
   "cell_type": "code",
   "execution_count": 174,
   "id": "unusual-angle",
   "metadata": {},
   "outputs": [
    {
     "data": {
      "text/plain": [
       "<AxesSubplot:>"
      ]
     },
     "execution_count": 174,
     "metadata": {},
     "output_type": "execute_result"
    },
    {
     "data": {
      "image/png": "[encoded data removed]",
      "text/plain": [
       "<Figure size 432x288 with 1 Axes>"
      ]
     },
     "metadata": {
      "needs_background": "light"
     },
     "output_type": "display_data"
    }
   ],
   "source": [
    "df[df['AIRLINE'] == \"OO\"]['SECURITY_DELAY'].hist(bins=20)"
   ]
  },
  {
   "cell_type": "code",
   "execution_count": 175,
   "id": "satisfactory-invite",
   "metadata": {},
   "outputs": [
    {
     "data": {
      "text/plain": [
       "<AxesSubplot:>"
      ]
     },
     "execution_count": 175,
     "metadata": {},
     "output_type": "execute_result"
    },
    {
     "data": {
      "image/png": "[encoded data removed]",
      "text/plain": [
       "<Figure size 432x288 with 1 Axes>"
      ]
     },
     "metadata": {
      "needs_background": "light"
     },
     "output_type": "display_data"
    }
   ],
   "source": [
    "df[df['AIRLINE'] == \"OO\"]['AIRLINE_DELAY'].hist(bins=20)"
   ]
  },
  {
   "cell_type": "code",
   "execution_count": 176,
   "id": "precise-particular",
   "metadata": {},
   "outputs": [
    {
     "data": {
      "text/plain": [
       "<AxesSubplot:>"
      ]
     },
     "execution_count": 176,
     "metadata": {},
     "output_type": "execute_result"
    },
    {
     "data": {
      "image/png": "[encoded data removed]",
      "text/plain": [
       "<Figure size 432x288 with 1 Axes>"
      ]
     },
     "metadata": {
      "needs_background": "light"
     },
     "output_type": "display_data"
    }
   ],
   "source": [
    "df[df['AIRLINE'] == \"OO\"]['LATE_AIRCRAFT_DELAY'].hist(bins=20)"
   ]
  },
  {
   "cell_type": "code",
   "execution_count": 177,
   "id": "included-plain",
   "metadata": {},
   "outputs": [
    {
     "data": {
      "text/plain": [
       "<AxesSubplot:>"
      ]
     },
     "execution_count": 177,
     "metadata": {},
     "output_type": "execute_result"
    },
    {
     "data": {
      "image/png": "[encoded data removed]",
      "text/plain": [
       "<Figure size 432x288 with 1 Axes>"
      ]
     },
     "metadata": {
      "needs_background": "light"
     },
     "output_type": "display_data"
    }
   ],
   "source": [
    "df[df['AIRLINE'] == \"OO\"]['WEATHER_DELAY'].hist(bins=20)"
   ]
  },
  {
   "cell_type": "markdown",
   "id": "accessory-insured",
   "metadata": {},
   "source": [
    "+++++++++++++++++++++++++++++++++++++++++++++++++++++++++++++++++++++++++++++++++++++++++++++"
   ]
  },
  {
   "cell_type": "code",
   "execution_count": 178,
   "id": "arbitrary-subject",
   "metadata": {},
   "outputs": [
    {
     "data": {
      "text/plain": [
       "<AxesSubplot:>"
      ]
     },
     "execution_count": 178,
     "metadata": {},
     "output_type": "execute_result"
    },
    {
     "data": {
      "image/png": "[encoded data removed]",
      "text/plain": [
       "<Figure size 432x288 with 1 Axes>"
      ]
     },
     "metadata": {
      "needs_background": "light"
     },
     "output_type": "display_data"
    }
   ],
   "source": [
    "df[df['AIRLINE'] == \"EV\"]['AIR_SYSTEM_DELAY'].hist(bins=20)"
   ]
  },
  {
   "cell_type": "code",
   "execution_count": 179,
   "id": "verbal-horizontal",
   "metadata": {},
   "outputs": [
    {
     "data": {
      "text/plain": [
       "<AxesSubplot:>"
      ]
     },
     "execution_count": 179,
     "metadata": {},
     "output_type": "execute_result"
    },
    {
     "data": {
      "image/png": "[encoded data removed]",
      "text/plain": [
       "<Figure size 432x288 with 1 Axes>"
      ]
     },
     "metadata": {
      "needs_background": "light"
     },
     "output_type": "display_data"
    }
   ],
   "source": [
    "df[df['AIRLINE'] == \"EV\"]['SECURITY_DELAY'].hist(bins=20)"
   ]
  },
  {
   "cell_type": "code",
   "execution_count": 180,
   "id": "bibliographic-parent",
   "metadata": {},
   "outputs": [
    {
     "data": {
      "text/plain": [
       "<AxesSubplot:>"
      ]
     },
     "execution_count": 180,
     "metadata": {},
     "output_type": "execute_result"
    },
    {
     "data": {
      "image/png": "[encoded data removed]",
      "text/plain": [
       "<Figure size 432x288 with 1 Axes>"
      ]
     },
     "metadata": {
      "needs_background": "light"
     },
     "output_type": "display_data"
    }
   ],
   "source": [
    "df[df['AIRLINE'] == \"EV\"]['AIRLINE_DELAY'].hist(bins=20)"
   ]
  },
  {
   "cell_type": "code",
   "execution_count": 181,
   "id": "magnetic-basket",
   "metadata": {},
   "outputs": [
    {
     "data": {
      "text/plain": [
       "<AxesSubplot:>"
      ]
     },
     "execution_count": 181,
     "metadata": {},
     "output_type": "execute_result"
    },
    {
     "data": {
      "image/png": "[encoded data removed]",
      "text/plain": [
       "<Figure size 432x288 with 1 Axes>"
      ]
     },
     "metadata": {
      "needs_background": "light"
     },
     "output_type": "display_data"
    }
   ],
   "source": [
    "df[df['AIRLINE'] == \"EV\"]['LATE_AIRCRAFT_DELAY'].hist(bins=20)"
   ]
  },
  {
   "cell_type": "code",
   "execution_count": 182,
   "id": "imperial-liberty",
   "metadata": {},
   "outputs": [
    {
     "data": {
      "text/plain": [
       "<AxesSubplot:>"
      ]
     },
     "execution_count": 182,
     "metadata": {},
     "output_type": "execute_result"
    },
    {
     "data": {
      "image/png": "[encoded data removed]",
      "text/plain": [
       "<Figure size 432x288 with 1 Axes>"
      ]
     },
     "metadata": {
      "needs_background": "light"
     },
     "output_type": "display_data"
    }
   ],
   "source": [
    "df[df['AIRLINE'] == \"EV\"]['WEATHER_DELAY'].hist(bins=20)"
   ]
  },
  {
   "cell_type": "markdown",
   "id": "tracked-activation",
   "metadata": {},
   "source": [
    "### 9. Определите авиакомпанию с максимальными задержками рейсов по отправке и прибытию."
   ]
  },
  {
   "cell_type": "code",
   "execution_count": 183,
   "id": "lyric-person",
   "metadata": {},
   "outputs": [
    {
     "data": {
      "text/html": [
       "<div>\n",
       "<style scoped>\n",
       "    .dataframe tbody tr th:only-of-type {\n",
       "        vertical-align: middle;\n",
       "    }\n",
       "\n",
       "    .dataframe tbody tr th {\n",
       "        vertical-align: top;\n",
       "    }\n",
       "\n",
       "    .dataframe thead th {\n",
       "        text-align: right;\n",
       "    }\n",
       "</style>\n",
       "<table border=\"1\" class=\"dataframe\">\n",
       "  <thead>\n",
       "    <tr style=\"text-align: right;\">\n",
       "      <th></th>\n",
       "      <th>YEAR</th>\n",
       "      <th>MONTH</th>\n",
       "      <th>DAY</th>\n",
       "      <th>DAY_OF_WEEK</th>\n",
       "      <th>AIRLINE</th>\n",
       "      <th>FLIGHT_NUMBER</th>\n",
       "      <th>TAIL_NUMBER</th>\n",
       "      <th>ORIGIN_AIRPORT</th>\n",
       "      <th>DESTINATION_AIRPORT</th>\n",
       "      <th>SCHEDULED_DEPARTURE</th>\n",
       "      <th>...</th>\n",
       "      <th>ARRIVAL_DELAY</th>\n",
       "      <th>DIVERTED</th>\n",
       "      <th>CANCELLED</th>\n",
       "      <th>CANCELLATION_REASON</th>\n",
       "      <th>AIR_SYSTEM_DELAY</th>\n",
       "      <th>SECURITY_DELAY</th>\n",
       "      <th>AIRLINE_DELAY</th>\n",
       "      <th>LATE_AIRCRAFT_DELAY</th>\n",
       "      <th>WEATHER_DELAY</th>\n",
       "      <th>SPEED</th>\n",
       "    </tr>\n",
       "  </thead>\n",
       "  <tbody>\n",
       "    <tr>\n",
       "      <th>337720</th>\n",
       "      <td>2015</td>\n",
       "      <td>1</td>\n",
       "      <td>23</td>\n",
       "      <td>5</td>\n",
       "      <td>AA</td>\n",
       "      <td>1322</td>\n",
       "      <td>N598AA</td>\n",
       "      <td>BHM</td>\n",
       "      <td>DFW</td>\n",
       "      <td>700</td>\n",
       "      <td>...</td>\n",
       "      <td>1971.0</td>\n",
       "      <td>0</td>\n",
       "      <td>0</td>\n",
       "      <td>NaN</td>\n",
       "      <td>0.0</td>\n",
       "      <td>0.0</td>\n",
       "      <td>1971.0</td>\n",
       "      <td>0.0</td>\n",
       "      <td>0.0</td>\n",
       "      <td>361.818182</td>\n",
       "    </tr>\n",
       "  </tbody>\n",
       "</table>\n",
       "<p>1 rows × 32 columns</p>\n",
       "</div>"
      ],
      "text/plain": [
       "        YEAR  MONTH  DAY  DAY_OF_WEEK AIRLINE  FLIGHT_NUMBER TAIL_NUMBER  \\\n",
       "337720  2015      1   23            5      AA           1322      N598AA   \n",
       "\n",
       "       ORIGIN_AIRPORT DESTINATION_AIRPORT  SCHEDULED_DEPARTURE  ...  \\\n",
       "337720            BHM                 DFW                  700  ...   \n",
       "\n",
       "        ARRIVAL_DELAY  DIVERTED  CANCELLED  CANCELLATION_REASON  \\\n",
       "337720         1971.0         0          0                  NaN   \n",
       "\n",
       "        AIR_SYSTEM_DELAY  SECURITY_DELAY  AIRLINE_DELAY  LATE_AIRCRAFT_DELAY  \\\n",
       "337720               0.0             0.0         1971.0                  0.0   \n",
       "\n",
       "        WEATHER_DELAY       SPEED  \n",
       "337720            0.0  361.818182  \n",
       "\n",
       "[1 rows x 32 columns]"
      ]
     },
     "execution_count": 183,
     "metadata": {},
     "output_type": "execute_result"
    }
   ],
   "source": [
    "df.sort_values(by=['ARRIVAL_DELAY'], ascending = False).head(1)"
   ]
  },
  {
   "cell_type": "code",
   "execution_count": 184,
   "id": "upper-columbus",
   "metadata": {},
   "outputs": [
    {
     "data": {
      "text/html": [
       "<div>\n",
       "<style scoped>\n",
       "    .dataframe tbody tr th:only-of-type {\n",
       "        vertical-align: middle;\n",
       "    }\n",
       "\n",
       "    .dataframe tbody tr th {\n",
       "        vertical-align: top;\n",
       "    }\n",
       "\n",
       "    .dataframe thead th {\n",
       "        text-align: right;\n",
       "    }\n",
       "</style>\n",
       "<table border=\"1\" class=\"dataframe\">\n",
       "  <thead>\n",
       "    <tr style=\"text-align: right;\">\n",
       "      <th></th>\n",
       "      <th>YEAR</th>\n",
       "      <th>MONTH</th>\n",
       "      <th>DAY</th>\n",
       "      <th>DAY_OF_WEEK</th>\n",
       "      <th>AIRLINE</th>\n",
       "      <th>FLIGHT_NUMBER</th>\n",
       "      <th>TAIL_NUMBER</th>\n",
       "      <th>ORIGIN_AIRPORT</th>\n",
       "      <th>DESTINATION_AIRPORT</th>\n",
       "      <th>SCHEDULED_DEPARTURE</th>\n",
       "      <th>...</th>\n",
       "      <th>ARRIVAL_DELAY</th>\n",
       "      <th>DIVERTED</th>\n",
       "      <th>CANCELLED</th>\n",
       "      <th>CANCELLATION_REASON</th>\n",
       "      <th>AIR_SYSTEM_DELAY</th>\n",
       "      <th>SECURITY_DELAY</th>\n",
       "      <th>AIRLINE_DELAY</th>\n",
       "      <th>LATE_AIRCRAFT_DELAY</th>\n",
       "      <th>WEATHER_DELAY</th>\n",
       "      <th>SPEED</th>\n",
       "    </tr>\n",
       "  </thead>\n",
       "  <tbody>\n",
       "    <tr>\n",
       "      <th>337720</th>\n",
       "      <td>2015</td>\n",
       "      <td>1</td>\n",
       "      <td>23</td>\n",
       "      <td>5</td>\n",
       "      <td>AA</td>\n",
       "      <td>1322</td>\n",
       "      <td>N598AA</td>\n",
       "      <td>BHM</td>\n",
       "      <td>DFW</td>\n",
       "      <td>700</td>\n",
       "      <td>...</td>\n",
       "      <td>1971.0</td>\n",
       "      <td>0</td>\n",
       "      <td>0</td>\n",
       "      <td>NaN</td>\n",
       "      <td>0.0</td>\n",
       "      <td>0.0</td>\n",
       "      <td>1971.0</td>\n",
       "      <td>0.0</td>\n",
       "      <td>0.0</td>\n",
       "      <td>361.818182</td>\n",
       "    </tr>\n",
       "  </tbody>\n",
       "</table>\n",
       "<p>1 rows × 32 columns</p>\n",
       "</div>"
      ],
      "text/plain": [
       "        YEAR  MONTH  DAY  DAY_OF_WEEK AIRLINE  FLIGHT_NUMBER TAIL_NUMBER  \\\n",
       "337720  2015      1   23            5      AA           1322      N598AA   \n",
       "\n",
       "       ORIGIN_AIRPORT DESTINATION_AIRPORT  SCHEDULED_DEPARTURE  ...  \\\n",
       "337720            BHM                 DFW                  700  ...   \n",
       "\n",
       "        ARRIVAL_DELAY  DIVERTED  CANCELLED  CANCELLATION_REASON  \\\n",
       "337720         1971.0         0          0                  NaN   \n",
       "\n",
       "        AIR_SYSTEM_DELAY  SECURITY_DELAY  AIRLINE_DELAY  LATE_AIRCRAFT_DELAY  \\\n",
       "337720               0.0             0.0         1971.0                  0.0   \n",
       "\n",
       "        WEATHER_DELAY       SPEED  \n",
       "337720            0.0  361.818182  \n",
       "\n",
       "[1 rows x 32 columns]"
      ]
     },
     "execution_count": 184,
     "metadata": {},
     "output_type": "execute_result"
    }
   ],
   "source": [
    "df.sort_values(by=['DEPARTURE_DELAY'], ascending = False).head(1)"
   ]
  },
  {
   "cell_type": "code",
   "execution_count": null,
   "id": "dutch-feeling",
   "metadata": {},
   "outputs": [],
   "source": []
  }
 ],
 "metadata": {
  "kernelspec": {
   "display_name": "Python 3",
   "language": "python",
   "name": "python3"
  },
  "language_info": {
   "codemirror_mode": {
    "name": "ipython",
    "version": 3
   },
   "file_extension": ".py",
   "mimetype": "text/x-python",
   "name": "python",
   "nbconvert_exporter": "python",
   "pygments_lexer": "ipython3",
   "version": "3.9.2"
  }
 },
 "nbformat": 4,
 "nbformat_minor": 5
}
