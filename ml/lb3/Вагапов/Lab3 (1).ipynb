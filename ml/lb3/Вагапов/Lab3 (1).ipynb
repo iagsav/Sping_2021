{
 "cells": [
  {
   "cell_type": "markdown",
   "metadata": {},
   "source": [
    "# ФИО студента: Вагапов Андрей Андреевич\n",
    "\n",
    "# Номер группы: 19-ИВТ-3\n",
    "\n",
    "# Вариант: 6\n",
    "\n",
    "# Задание: Occupancy\n",
    "\n",
    "1.\tИзучить набор данных. Создать описание набора данных на русском языке. Описать признаки, используемые в наборе данных (включить полученные описания в отчёт).\n",
    "2.\tУдалите дубликаты строк в наборе данных; приведите размер набора данных до и после данной операции;\n",
    "3.\tОцените сбалансированность данных по классам (постройте гистограмму). Используйте полученную информацию при выборе метрики оценки качества классификации (PR или ROC кривая)\n",
    "4.\tВыполните масштабирование количественных признаков; Постройте диаграммы BoxPlot для признаков до и после масштабирования. Выберите способ масштабирования (например, нормализацию или стандартизацию);\n",
    "5.\tВыполните замену категориальных признаков; выберите и обоснуйте способ замены;\n",
    "6.\tОцените корреляцию между признаков и удалите те признаки, которые коррелируют с наибольшим числом других (удалять признаки нужно только для линейных методов классификации);\n",
    "7.\tЗаполните пропущенные значения в данных;\n",
    "8.\tРешите поставленную задачу классификации в соответствии с заданием. При подборе параметров классификатора используйте метод GridSearchCV и перекрёстную проверку (изучите возможные для изменения параметры классификации). Определите схему построения многоклассового классификатора, используемую по умолчанию (опишите используемую схему кодирования, обоснуйте свой выбор). Постройте, если это возможно, многоклассовую классификацию на основе схем «один-против-всех» и «все-против-всех». Оцените точность классификации для каждой их схем. Постройте кривые PR и ROC (для каждого из классов должны быть построены отдельные кривые, а также кривые для микро и макроусреднения метрик качества). Для линейного классификатора используйте регуляризацию. \n",
    "9.\tСравните кривые для классификаторов, указанных в задании, сделайте выводы.\n"
   ]
  },
  {
   "cell_type": "markdown",
   "metadata": {},
   "source": [
    "# 1 пункт\n",
    "<b>Изучить набор данных. Создать описание набора данных на русском языке. Описать признаки, используемые в наборе данных</b>\n",
    "\n",
    "1. date time - <b>Дата-время (год - месяц - день - час : минута : секунда)</b> \n",
    "2. Temperature - <b>Температура (по Цельсию)</b>\n",
    "3. Relative Humidity - <b>Относительная влажность (%)</b>\n",
    "4. Light - <b>Свет (в люксах)</b>\n",
    "5. CO2 - <b>Углекислый газ  (в ppm)</b>\n",
    "6. Humidity Ratio - <b>Удельная влажность</b>\n",
    "7. Occupancy - <b>Занятость (0 - незанятый статус, 1 - занятый статус)</b>"
   ]
  },
  {
   "cell_type": "code",
   "execution_count": 155,
   "metadata": {},
   "outputs": [
    {
     "data": {
      "text/html": [
       "<div>\n",
       "<style scoped>\n",
       "    .dataframe tbody tr th:only-of-type {\n",
       "        vertical-align: middle;\n",
       "    }\n",
       "\n",
       "    .dataframe tbody tr th {\n",
       "        vertical-align: top;\n",
       "    }\n",
       "\n",
       "    .dataframe thead th {\n",
       "        text-align: right;\n",
       "    }\n",
       "</style>\n",
       "<table border=\"1\" class=\"dataframe\">\n",
       "  <thead>\n",
       "    <tr style=\"text-align: right;\">\n",
       "      <th></th>\n",
       "      <th>date</th>\n",
       "      <th>Temperature</th>\n",
       "      <th>Humidity</th>\n",
       "      <th>Light</th>\n",
       "      <th>CO2</th>\n",
       "      <th>HumidityRatio</th>\n",
       "      <th>Occupancy</th>\n",
       "    </tr>\n",
       "  </thead>\n",
       "  <tbody>\n",
       "    <tr>\n",
       "      <th>1</th>\n",
       "      <td>2015-02-04 17:51:00</td>\n",
       "      <td>23.18</td>\n",
       "      <td>27.2720</td>\n",
       "      <td>426.0</td>\n",
       "      <td>721.25</td>\n",
       "      <td>0.004793</td>\n",
       "      <td>1</td>\n",
       "    </tr>\n",
       "    <tr>\n",
       "      <th>2</th>\n",
       "      <td>2015-02-04 17:51:59</td>\n",
       "      <td>23.15</td>\n",
       "      <td>27.2675</td>\n",
       "      <td>429.5</td>\n",
       "      <td>714.00</td>\n",
       "      <td>0.004783</td>\n",
       "      <td>1</td>\n",
       "    </tr>\n",
       "    <tr>\n",
       "      <th>3</th>\n",
       "      <td>2015-02-04 17:53:00</td>\n",
       "      <td>23.15</td>\n",
       "      <td>27.2450</td>\n",
       "      <td>426.0</td>\n",
       "      <td>713.50</td>\n",
       "      <td>0.004779</td>\n",
       "      <td>1</td>\n",
       "    </tr>\n",
       "    <tr>\n",
       "      <th>4</th>\n",
       "      <td>2015-02-04 17:54:00</td>\n",
       "      <td>23.15</td>\n",
       "      <td>27.2000</td>\n",
       "      <td>426.0</td>\n",
       "      <td>708.25</td>\n",
       "      <td>0.004772</td>\n",
       "      <td>1</td>\n",
       "    </tr>\n",
       "    <tr>\n",
       "      <th>5</th>\n",
       "      <td>2015-02-04 17:55:00</td>\n",
       "      <td>23.10</td>\n",
       "      <td>27.2000</td>\n",
       "      <td>426.0</td>\n",
       "      <td>704.50</td>\n",
       "      <td>0.004757</td>\n",
       "      <td>1</td>\n",
       "    </tr>\n",
       "  </tbody>\n",
       "</table>\n",
       "</div>"
      ],
      "text/plain": [
       "                  date  Temperature  Humidity  Light     CO2  HumidityRatio  \\\n",
       "1  2015-02-04 17:51:00        23.18   27.2720  426.0  721.25       0.004793   \n",
       "2  2015-02-04 17:51:59        23.15   27.2675  429.5  714.00       0.004783   \n",
       "3  2015-02-04 17:53:00        23.15   27.2450  426.0  713.50       0.004779   \n",
       "4  2015-02-04 17:54:00        23.15   27.2000  426.0  708.25       0.004772   \n",
       "5  2015-02-04 17:55:00        23.10   27.2000  426.0  704.50       0.004757   \n",
       "\n",
       "   Occupancy  \n",
       "1          1  \n",
       "2          1  \n",
       "3          1  \n",
       "4          1  \n",
       "5          1  "
      ]
     },
     "execution_count": 155,
     "metadata": {},
     "output_type": "execute_result"
    }
   ],
   "source": [
    "import pandas as pd\n",
    "import matplotlib.pyplot as plt\n",
    "import numpy as np\n",
    "import seaborn as sns\n",
    "import sklearn as skl\n",
    "from sklearn import preprocessing\n",
    "from sklearn.preprocessing import label_binarize\n",
    "from sklearn.metrics import accuracy_score, precision_recall_curve, average_precision_score, roc_curve, auc\n",
    "from sklearn.neighbors import KNeighborsClassifier\n",
    "from sklearn.model_selection import train_test_split\n",
    "from sklearn.model_selection import GridSearchCV\n",
    "from sklearn.calibration import CalibratedClassifierCV\n",
    "\n",
    "DATA_TIME = 'date'\n",
    "TEMPERATURE = 'Temperature'\n",
    "RELATIVE_HUMIDITY = 'Humidity'\n",
    "LIGHT = 'Light'\n",
    "CO2 = 'CO2'\n",
    "HUMIDITY_RATIO = 'HumidityRatio'\n",
    "OCCUPANCY = 'Occupancy'\n",
    "df = pd.read_csv('datatraining.txt')\n",
    "df_pandas = pd.DataFrame(df)\n",
    "df_pandas.head()"
   ]
  },
  {
   "cell_type": "code",
   "execution_count": 156,
   "metadata": {},
   "outputs": [
    {
     "data": {
      "text/plain": [
       "Index(['date', 'Temperature', 'Humidity', 'Light', 'CO2', 'HumidityRatio',\n",
       "       'Occupancy'],\n",
       "      dtype='object')"
      ]
     },
     "execution_count": 156,
     "metadata": {},
     "output_type": "execute_result"
    }
   ],
   "source": [
    "df.columns"
   ]
  },
  {
   "cell_type": "code",
   "execution_count": 157,
   "metadata": {},
   "outputs": [
    {
     "data": {
      "text/plain": [
       "(8143, 7)"
      ]
     },
     "execution_count": 157,
     "metadata": {},
     "output_type": "execute_result"
    }
   ],
   "source": [
    "df_pandas.shape\n"
   ]
  },
  {
   "cell_type": "markdown",
   "metadata": {},
   "source": [
    "# 2 пункт\n",
    "<b>Удалите дубликаты строк в наборе данных; приведите размер набора данных до и после данной операции</b>"
   ]
  },
  {
   "cell_type": "code",
   "execution_count": 158,
   "metadata": {},
   "outputs": [
    {
     "name": "stdout",
     "output_type": "stream",
     "text": [
      "До удаления дубликатов: (8143, 7)\n",
      "После удаления дубликатов: (8143, 7)\n"
     ]
    }
   ],
   "source": [
    "print(\"До удаления дубликатов:\", df_pandas.shape)\n",
    "df_pandas = df_pandas.drop_duplicates()\n",
    "print(\"После удаления дубликатов:\", df_pandas.shape)"
   ]
  },
  {
   "cell_type": "markdown",
   "metadata": {},
   "source": [
    "Дубликаты не найдены "
   ]
  },
  {
   "cell_type": "markdown",
   "metadata": {},
   "source": [
    "# 3 пункт\n",
    "<b>Оцените сбалансированность данных по классам (постройте гистограмму). Используйте полученную информацию при выборе метрики оценки качества классификации (PR или ROC кривая)</b>"
   ]
  },
  {
   "cell_type": "code",
   "execution_count": 159,
   "metadata": {},
   "outputs": [
    {
     "data": {
      "text/plain": [
       "<AxesSubplot:xlabel='Occupancy', ylabel='count'>"
      ]
     },
     "execution_count": 159,
     "metadata": {},
     "output_type": "execute_result"
    },
    {
     "data": {
      "image/png": "[encoded data removed]",
      "text/plain": [
       "<Figure size 432x288 with 1 Axes>"
      ]
     },
     "metadata": {
      "needs_background": "light"
     },
     "output_type": "display_data"
    }
   ],
   "source": [
    "sns.countplot(data=df_pandas, x=OCCUPANCY)"
   ]
  },
  {
   "cell_type": "markdown",
   "metadata": {},
   "source": [
    "Объем данных по каждому классу отличается. Классы несбалансированы. ROC-кривую, поскольку она дает адекватную оценку качества работы алгоритма, где классы несбалансированы. "
   ]
  },
  {
   "cell_type": "markdown",
   "metadata": {},
   "source": [
    "# 4 пункт\n",
    "\n",
    "<b>Выполните масштабирование количественных признаков; Постройте диаграммы BoxPlot для признаков до и после масштабирования. Выберите способ масштабирования</b> "
   ]
  },
  {
   "cell_type": "code",
   "execution_count": 160,
   "metadata": {},
   "outputs": [
    {
     "data": {
      "text/plain": [
       "<AxesSubplot:>"
      ]
     },
     "execution_count": 160,
     "metadata": {},
     "output_type": "execute_result"
    },
    {
     "data": {
      "image/png": "[encoded data removed]",
      "text/plain": [
       "<Figure size 432x288 with 1 Axes>"
      ]
     },
     "metadata": {
      "needs_background": "light"
     },
     "output_type": "display_data"
    }
   ],
   "source": [
    "quan_atrib = [TEMPERATURE, RELATIVE_HUMIDITY, LIGHT, CO2, HUMIDITY_RATIO]\n",
    "sns.boxplot(data = df_pandas[quan_atrib])"
   ]
  },
  {
   "cell_type": "markdown",
   "metadata": {},
   "source": [
    "<b>Способ масшатбирования - нормализация</b>"
   ]
  },
  {
   "cell_type": "code",
   "execution_count": 161,
   "metadata": {},
   "outputs": [
    {
     "data": {
      "text/plain": [
       "<AxesSubplot:>"
      ]
     },
     "execution_count": 161,
     "metadata": {},
     "output_type": "execute_result"
    },
    {
     "data": {
      "image/png": "[encoded data removed]",
      "text/plain": [
       "<Figure size 432x288 with 1 Axes>"
      ]
     },
     "metadata": {
      "needs_background": "light"
     },
     "output_type": "display_data"
    }
   ],
   "source": [
    "df_pandas[quan_atrib] = preprocessing.MinMaxScaler().fit_transform(df_pandas[quan_atrib].values.astype(float))\n",
    "sns.boxplot(data = df_pandas[quan_atrib])"
   ]
  },
  {
   "cell_type": "markdown",
   "metadata": {},
   "source": [
    "# 5 пункт\n",
    "<b>Выполните замену категориальных признаков; выберите и обоснуйте способ замены</b>"
   ]
  },
  {
   "cell_type": "markdown",
   "metadata": {},
   "source": [
    "Замена не требуется, так как категориальные признаки отсутсвуют"
   ]
  },
  {
   "cell_type": "markdown",
   "metadata": {},
   "source": [
    "# 6 пункт \n",
    "<b>Оцените корреляцию между признаков и удалите те признаки, которые коррелируют с наибольшим числом других (удалять признаки нужно только для линейных методов классификации)</b>"
   ]
  },
  {
   "cell_type": "code",
   "execution_count": 162,
   "metadata": {},
   "outputs": [
    {
     "data": {
      "text/plain": [
       "<AxesSubplot:>"
      ]
     },
     "execution_count": 162,
     "metadata": {},
     "output_type": "execute_result"
    },
    {
     "data": {
      "image/png": "[encoded data removed]",
      "text/plain": [
       "<Figure size 432x288 with 2 Axes>"
      ]
     },
     "metadata": {
      "needs_background": "light"
     },
     "output_type": "display_data"
    }
   ],
   "source": [
    "df_corr = df_pandas.corr()\n",
    "df_corr = df.drop('Occupancy', axis=1).corr()\n",
    "sns.heatmap(df_corr, annot = True)"
   ]
  },
  {
   "cell_type": "markdown",
   "metadata": {},
   "source": [
    "# 7 пункт\n",
    "<b> Заполните пропущенные значения в данных </b>"
   ]
  },
  {
   "cell_type": "code",
   "execution_count": 163,
   "metadata": {},
   "outputs": [
    {
     "data": {
      "text/plain": [
       "date             8143\n",
       "Temperature      8143\n",
       "Humidity         8143\n",
       "Light            8143\n",
       "CO2              8143\n",
       "HumidityRatio    8143\n",
       "Occupancy        8143\n",
       "dtype: int64"
      ]
     },
     "execution_count": 163,
     "metadata": {},
     "output_type": "execute_result"
    }
   ],
   "source": [
    "df_pandas.count()"
   ]
  },
  {
   "cell_type": "markdown",
   "metadata": {},
   "source": [
    "Пропусков нет"
   ]
  },
  {
   "cell_type": "markdown",
   "metadata": {},
   "source": [
    "# 8 пункт\n",
    "<b>Решите поставленную задачу классификации в соответствии с заданием. При подборе параметров классификатора используйте метод GridSearchCV и перекрёстную проверку (изучите возможные для изменения параметры классификации). Определите схему построения многоклассового классификатора, используемую по умолчанию (опишите используемую схему кодирования, обоснуйте свой выбор). Постройте, если это возможно, многоклассовую классификацию на основе схем «один-против-всех» и «все-против-всех». Оцените точность классификации для каждой их схем. Постройте кривые PR и ROC (для каждого из классов должны быть построены отдельные кривые, а также кривые для микро и макроусреднения метрик качества). Для линейного классификатора используйте регуляризацию.</b>"
   ]
  },
  {
   "cell_type": "code",
   "execution_count": 164,
   "metadata": {
    "scrolled": true
   },
   "outputs": [
    {
     "data": {
      "text/html": [
       "<div>\n",
       "<style scoped>\n",
       "    .dataframe tbody tr th:only-of-type {\n",
       "        vertical-align: middle;\n",
       "    }\n",
       "\n",
       "    .dataframe tbody tr th {\n",
       "        vertical-align: top;\n",
       "    }\n",
       "\n",
       "    .dataframe thead th {\n",
       "        text-align: right;\n",
       "    }\n",
       "</style>\n",
       "<table border=\"1\" class=\"dataframe\">\n",
       "  <thead>\n",
       "    <tr style=\"text-align: right;\">\n",
       "      <th></th>\n",
       "      <th>date</th>\n",
       "      <th>Temperature</th>\n",
       "      <th>Humidity</th>\n",
       "      <th>Light</th>\n",
       "      <th>CO2</th>\n",
       "      <th>HumidityRatio</th>\n",
       "      <th>Occupancy</th>\n",
       "    </tr>\n",
       "  </thead>\n",
       "  <tbody>\n",
       "    <tr>\n",
       "      <th>1</th>\n",
       "      <td>2015-02-11 14:48:00</td>\n",
       "      <td>21.7600</td>\n",
       "      <td>31.133333</td>\n",
       "      <td>437.333333</td>\n",
       "      <td>1029.666667</td>\n",
       "      <td>0.005021</td>\n",
       "      <td>1</td>\n",
       "    </tr>\n",
       "    <tr>\n",
       "      <th>2</th>\n",
       "      <td>2015-02-11 14:49:00</td>\n",
       "      <td>21.7900</td>\n",
       "      <td>31.000000</td>\n",
       "      <td>437.333333</td>\n",
       "      <td>1000.000000</td>\n",
       "      <td>0.005009</td>\n",
       "      <td>1</td>\n",
       "    </tr>\n",
       "    <tr>\n",
       "      <th>3</th>\n",
       "      <td>2015-02-11 14:50:00</td>\n",
       "      <td>21.7675</td>\n",
       "      <td>31.122500</td>\n",
       "      <td>434.000000</td>\n",
       "      <td>1003.750000</td>\n",
       "      <td>0.005022</td>\n",
       "      <td>1</td>\n",
       "    </tr>\n",
       "    <tr>\n",
       "      <th>4</th>\n",
       "      <td>2015-02-11 14:51:00</td>\n",
       "      <td>21.7675</td>\n",
       "      <td>31.122500</td>\n",
       "      <td>439.000000</td>\n",
       "      <td>1009.500000</td>\n",
       "      <td>0.005022</td>\n",
       "      <td>1</td>\n",
       "    </tr>\n",
       "    <tr>\n",
       "      <th>5</th>\n",
       "      <td>2015-02-11 14:51:59</td>\n",
       "      <td>21.7900</td>\n",
       "      <td>31.133333</td>\n",
       "      <td>437.333333</td>\n",
       "      <td>1005.666667</td>\n",
       "      <td>0.005030</td>\n",
       "      <td>1</td>\n",
       "    </tr>\n",
       "  </tbody>\n",
       "</table>\n",
       "</div>"
      ],
      "text/plain": [
       "                  date  Temperature   Humidity       Light          CO2  \\\n",
       "1  2015-02-11 14:48:00      21.7600  31.133333  437.333333  1029.666667   \n",
       "2  2015-02-11 14:49:00      21.7900  31.000000  437.333333  1000.000000   \n",
       "3  2015-02-11 14:50:00      21.7675  31.122500  434.000000  1003.750000   \n",
       "4  2015-02-11 14:51:00      21.7675  31.122500  439.000000  1009.500000   \n",
       "5  2015-02-11 14:51:59      21.7900  31.133333  437.333333  1005.666667   \n",
       "\n",
       "   HumidityRatio  Occupancy  \n",
       "1       0.005021          1  \n",
       "2       0.005009          1  \n",
       "3       0.005022          1  \n",
       "4       0.005022          1  \n",
       "5       0.005030          1  "
      ]
     },
     "execution_count": 164,
     "metadata": {},
     "output_type": "execute_result"
    }
   ],
   "source": [
    "df_test = pd.read_csv('datatest2.txt')\n",
    "df_test.head()\n"
   ]
  },
  {
   "cell_type": "markdown",
   "metadata": {},
   "source": [
    "Нормализуем"
   ]
  },
  {
   "cell_type": "code",
   "execution_count": 165,
   "metadata": {},
   "outputs": [
    {
     "data": {
      "image/png": "[encoded data removed]",
      "text/plain": [
       "<Figure size 432x288 with 1 Axes>"
      ]
     },
     "metadata": {
      "needs_background": "light"
     },
     "output_type": "display_data"
    }
   ],
   "source": [
    "sns.boxplot(data = df_test[quan_atrib])\n",
    "plt.show()"
   ]
  },
  {
   "cell_type": "code",
   "execution_count": 166,
   "metadata": {},
   "outputs": [
    {
     "data": {
      "text/html": [
       "<div>\n",
       "<style scoped>\n",
       "    .dataframe tbody tr th:only-of-type {\n",
       "        vertical-align: middle;\n",
       "    }\n",
       "\n",
       "    .dataframe tbody tr th {\n",
       "        vertical-align: top;\n",
       "    }\n",
       "\n",
       "    .dataframe thead th {\n",
       "        text-align: right;\n",
       "    }\n",
       "</style>\n",
       "<table border=\"1\" class=\"dataframe\">\n",
       "  <thead>\n",
       "    <tr style=\"text-align: right;\">\n",
       "      <th></th>\n",
       "      <th>date</th>\n",
       "      <th>Temperature</th>\n",
       "      <th>Humidity</th>\n",
       "      <th>Light</th>\n",
       "      <th>CO2</th>\n",
       "      <th>HumidityRatio</th>\n",
       "      <th>Occupancy</th>\n",
       "    </tr>\n",
       "  </thead>\n",
       "  <tbody>\n",
       "    <tr>\n",
       "      <th>1</th>\n",
       "      <td>2015-02-11 14:48:00</td>\n",
       "      <td>0.462168</td>\n",
       "      <td>0.525565</td>\n",
       "      <td>0.276618</td>\n",
       "      <td>0.342373</td>\n",
       "      <td>0.700223</td>\n",
       "      <td>1</td>\n",
       "    </tr>\n",
       "    <tr>\n",
       "      <th>2</th>\n",
       "      <td>2015-02-11 14:49:00</td>\n",
       "      <td>0.468303</td>\n",
       "      <td>0.518004</td>\n",
       "      <td>0.276618</td>\n",
       "      <td>0.323736</td>\n",
       "      <td>0.695239</td>\n",
       "      <td>1</td>\n",
       "    </tr>\n",
       "    <tr>\n",
       "      <th>3</th>\n",
       "      <td>2015-02-11 14:50:00</td>\n",
       "      <td>0.463701</td>\n",
       "      <td>0.524950</td>\n",
       "      <td>0.274510</td>\n",
       "      <td>0.326092</td>\n",
       "      <td>0.700447</td>\n",
       "      <td>1</td>\n",
       "    </tr>\n",
       "    <tr>\n",
       "      <th>4</th>\n",
       "      <td>2015-02-11 14:51:00</td>\n",
       "      <td>0.463701</td>\n",
       "      <td>0.524950</td>\n",
       "      <td>0.277672</td>\n",
       "      <td>0.329704</td>\n",
       "      <td>0.700447</td>\n",
       "      <td>1</td>\n",
       "    </tr>\n",
       "    <tr>\n",
       "      <th>5</th>\n",
       "      <td>2015-02-11 14:51:59</td>\n",
       "      <td>0.468303</td>\n",
       "      <td>0.525565</td>\n",
       "      <td>0.276618</td>\n",
       "      <td>0.327296</td>\n",
       "      <td>0.703947</td>\n",
       "      <td>1</td>\n",
       "    </tr>\n",
       "  </tbody>\n",
       "</table>\n",
       "</div>"
      ],
      "text/plain": [
       "                  date  Temperature  Humidity     Light       CO2  \\\n",
       "1  2015-02-11 14:48:00     0.462168  0.525565  0.276618  0.342373   \n",
       "2  2015-02-11 14:49:00     0.468303  0.518004  0.276618  0.323736   \n",
       "3  2015-02-11 14:50:00     0.463701  0.524950  0.274510  0.326092   \n",
       "4  2015-02-11 14:51:00     0.463701  0.524950  0.277672  0.329704   \n",
       "5  2015-02-11 14:51:59     0.468303  0.525565  0.276618  0.327296   \n",
       "\n",
       "   HumidityRatio  Occupancy  \n",
       "1       0.700223          1  \n",
       "2       0.695239          1  \n",
       "3       0.700447          1  \n",
       "4       0.700447          1  \n",
       "5       0.703947          1  "
      ]
     },
     "execution_count": 166,
     "metadata": {},
     "output_type": "execute_result"
    }
   ],
   "source": [
    "numerical_columns = [i for i in df_test.columns[1:6] if df_test[i].dtype.name != 'object']\n",
    "categorial_columns = [i for i in df_test.columns[1:6] if df_test[i].dtype.name == 'object']\n",
    "from sklearn.preprocessing import MinMaxScaler\n",
    "scaler = MinMaxScaler()\n",
    "df_test[numerical_columns] = scaler.fit_transform(df_test[numerical_columns])\n",
    "df_test.head()"
   ]
  },
  {
   "cell_type": "code",
   "execution_count": 167,
   "metadata": {
    "tags": [
     "outputPrepend"
    ]
   },
   "outputs": [
    {
     "data": {
      "image/png": "[encoded data removed]",
      "text/plain": [
       "<Figure size 432x288 with 1 Axes>"
      ]
     },
     "metadata": {
      "needs_background": "light"
     },
     "output_type": "display_data"
    }
   ],
   "source": [
    "sns.boxplot(data = df_test[quan_atrib])\n",
    "plt.show()\n"
   ]
  },
  {
   "cell_type": "code",
   "execution_count": 168,
   "metadata": {},
   "outputs": [
    {
     "data": {
      "text/plain": [
       "(9752, 7)"
      ]
     },
     "execution_count": 168,
     "metadata": {},
     "output_type": "execute_result"
    }
   ],
   "source": [
    "df_test.shape"
   ]
  },
  {
   "cell_type": "code",
   "execution_count": 169,
   "metadata": {},
   "outputs": [
    {
     "data": {
      "text/plain": [
       "date             9752\n",
       "Temperature      9752\n",
       "Humidity         9752\n",
       "Light            9752\n",
       "CO2              9752\n",
       "HumidityRatio    9752\n",
       "Occupancy        9752\n",
       "dtype: int64"
      ]
     },
     "execution_count": 169,
     "metadata": {},
     "output_type": "execute_result"
    }
   ],
   "source": [
    "df_test.count()"
   ]
  },
  {
   "cell_type": "markdown",
   "metadata": {
    "tags": [
     "outputPrepend"
    ]
   },
   "source": [
    "### Реализуем классификацию методом k ближайших соседй"
   ]
  },
  {
   "cell_type": "code",
   "execution_count": 170,
   "metadata": {},
   "outputs": [],
   "source": [
    "x_train, y_train = df_pandas[numerical_columns + ['Occupancy']].drop('Occupancy', axis=1), df_pandas['Occupancy']\n",
    "x_test, y_test = df_test[numerical_columns + ['Occupancy']].drop('Occupancy', axis=1), df_test['Occupancy']"
   ]
  },
  {
   "cell_type": "code",
   "execution_count": 171,
   "metadata": {},
   "outputs": [
    {
     "name": "stdout",
     "output_type": "stream",
     "text": [
      "best train score:  0.9328218726008781 | at neighbors number:  44\n",
      "test score:  0.9487284659557014\n"
     ]
    }
   ],
   "source": [
    "import numpy as np\n",
    "from sklearn.model_selection import GridSearchCV\n",
    "from sklearn.neighbors import KNeighborsClassifier\n",
    "knn = KNeighborsClassifier()\n",
    "\n",
    "#найдем оптимальные параметры для классификатора\n",
    "#n_neighbors - количество соседей\n",
    "knn_grid = GridSearchCV(knn, dict(n_neighbors = [x for x in range(1,50)]))\n",
    "knn_grid.fit(x_train, y_train)\n",
    "selected_n_neighbors = knn_grid.best_estimator_.n_neighbors\n",
    "best_score = knn_grid.best_score_\n",
    "print('best train score: ', best_score,'| at neighbors number: ', selected_n_neighbors)\n",
    "\n",
    "#создаем модель knn по нашим оптимальным данным\n",
    "knn = KNeighborsClassifier(n_neighbors=selected_n_neighbors)\n",
    "#тренируем ее\n",
    "knn.fit(x_train, y_train)\n",
    "#смотрим в каком проценте случаев классификатор дает верный результат\n",
    "best_score  = np.mean(y_test  == knn.predict(x_test))\n",
    "print('test score: ', best_score)"
   ]
  },
  {
   "cell_type": "markdown",
   "metadata": {},
   "source": [
    "### Линейный классификатор (персептрон)"
   ]
  },
  {
   "cell_type": "code",
   "execution_count": 172,
   "metadata": {},
   "outputs": [
    {
     "name": "stdout",
     "output_type": "stream",
     "text": [
      "best score: 0.9766651131292015 | alpha: 0.05263157894736842 | max_iter: 3\n",
      "test score:  0.9638022969647252\n"
     ]
    },
    {
     "name": "stderr",
     "output_type": "stream",
     "text": [
      "D:\\мо\\WPy64-3920\\python-3.9.2.amd64\\lib\\site-packages\\sklearn\\linear_model\\_stochastic_gradient.py:574: ConvergenceWarning: Maximum number of iteration reached before convergence. Consider increasing max_iter to improve the fit.\n",
      "  warnings.warn(\"Maximum number of iteration reached before \"\n",
      "D:\\мо\\WPy64-3920\\python-3.9.2.amd64\\lib\\site-packages\\sklearn\\linear_model\\_stochastic_gradient.py:574: ConvergenceWarning: Maximum number of iteration reached before convergence. Consider increasing max_iter to improve the fit.\n",
      "  warnings.warn(\"Maximum number of iteration reached before \"\n"
     ]
    }
   ],
   "source": [
    "from sklearn.linear_model import Perceptron\n",
    "slf = Perceptron()\n",
    "#найдем оптимальные параметры для классификатора\n",
    "#alfa - Константа, которая умножает член регуляризации\n",
    "#max_iter - Максимальное количество проходов над данными обучения (иначе говоря, эпохи)\n",
    "paramsearch = GridSearchCV(estimator=slf, param_grid=dict(alpha=np.linspace(0,1,20)[1:],max_iter=[x for x in range(1,50)]), n_jobs=-1)\n",
    "paramsearch.fit(x_train, y_train)\n",
    "best_score = paramsearch.best_score_\n",
    "selected_alpha = paramsearch.best_estimator_.alpha\n",
    "selected_max_iter = paramsearch.best_estimator_.max_iter\n",
    "print('best score:',best_score,'| alpha:',selected_alpha, '| max_iter:', selected_max_iter)\n",
    "\n",
    "#создаем модель персептрона по нашим оптимальным данным\n",
    "perceptron = skl.linear_model.Perceptron(alpha=selected_alpha,max_iter=selected_max_iter)\n",
    "#тренируем ее\n",
    "perceptron.fit(x_train, y_train)\n",
    "#смотрим в каком проценте случаев классификатор дает верный результат\n",
    "test_score  = np.mean(y_test == perceptron.predict(x_test))\n",
    "print('test score: ', test_score)"
   ]
  },
  {
   "cell_type": "markdown",
   "metadata": {},
   "source": [
    "Для построения ROC и PR кривых необходимо получить вероятности принадлежности примера к одному из классов, а затем варьировать границу выбора класса. Вероятности можно получить с помощью метода predict_proba"
   ]
  },
  {
   "cell_type": "code",
   "execution_count": 173,
   "metadata": {},
   "outputs": [
    {
     "name": "stderr",
     "output_type": "stream",
     "text": [
      "D:\\мо\\WPy64-3920\\python-3.9.2.amd64\\lib\\site-packages\\sklearn\\linear_model\\_stochastic_gradient.py:574: ConvergenceWarning: Maximum number of iteration reached before convergence. Consider increasing max_iter to improve the fit.\n",
      "  warnings.warn(\"Maximum number of iteration reached before \"\n",
      "D:\\мо\\WPy64-3920\\python-3.9.2.amd64\\lib\\site-packages\\sklearn\\linear_model\\_stochastic_gradient.py:574: ConvergenceWarning: Maximum number of iteration reached before convergence. Consider increasing max_iter to improve the fit.\n",
      "  warnings.warn(\"Maximum number of iteration reached before \"\n",
      "D:\\мо\\WPy64-3920\\python-3.9.2.amd64\\lib\\site-packages\\sklearn\\linear_model\\_stochastic_gradient.py:574: ConvergenceWarning: Maximum number of iteration reached before convergence. Consider increasing max_iter to improve the fit.\n",
      "  warnings.warn(\"Maximum number of iteration reached before \"\n",
      "D:\\мо\\WPy64-3920\\python-3.9.2.amd64\\lib\\site-packages\\sklearn\\linear_model\\_stochastic_gradient.py:574: ConvergenceWarning: Maximum number of iteration reached before convergence. Consider increasing max_iter to improve the fit.\n",
      "  warnings.warn(\"Maximum number of iteration reached before \"\n",
      "D:\\мо\\WPy64-3920\\python-3.9.2.amd64\\lib\\site-packages\\sklearn\\linear_model\\_stochastic_gradient.py:574: ConvergenceWarning: Maximum number of iteration reached before convergence. Consider increasing max_iter to improve the fit.\n",
      "  warnings.warn(\"Maximum number of iteration reached before \"\n",
      "D:\\мо\\WPy64-3920\\python-3.9.2.amd64\\lib\\site-packages\\sklearn\\linear_model\\_stochastic_gradient.py:574: ConvergenceWarning: Maximum number of iteration reached before convergence. Consider increasing max_iter to improve the fit.\n",
      "  warnings.warn(\"Maximum number of iteration reached before \"\n",
      "D:\\мо\\WPy64-3920\\python-3.9.2.amd64\\lib\\site-packages\\sklearn\\linear_model\\_stochastic_gradient.py:574: ConvergenceWarning: Maximum number of iteration reached before convergence. Consider increasing max_iter to improve the fit.\n",
      "  warnings.warn(\"Maximum number of iteration reached before \"\n",
      "D:\\мо\\WPy64-3920\\python-3.9.2.amd64\\lib\\site-packages\\sklearn\\linear_model\\_stochastic_gradient.py:574: ConvergenceWarning: Maximum number of iteration reached before convergence. Consider increasing max_iter to improve the fit.\n",
      "  warnings.warn(\"Maximum number of iteration reached before \"\n",
      "D:\\мо\\WPy64-3920\\python-3.9.2.amd64\\lib\\site-packages\\sklearn\\linear_model\\_stochastic_gradient.py:574: ConvergenceWarning: Maximum number of iteration reached before convergence. Consider increasing max_iter to improve the fit.\n",
      "  warnings.warn(\"Maximum number of iteration reached before \"\n",
      "D:\\мо\\WPy64-3920\\python-3.9.2.amd64\\lib\\site-packages\\sklearn\\linear_model\\_stochastic_gradient.py:574: ConvergenceWarning: Maximum number of iteration reached before convergence. Consider increasing max_iter to improve the fit.\n",
      "  warnings.warn(\"Maximum number of iteration reached before \"\n"
     ]
    },
    {
     "data": {
      "text/plain": [
       "<Figure size 720x576 with 0 Axes>"
      ]
     },
     "metadata": {},
     "output_type": "display_data"
    }
   ],
   "source": [
    "from sklearn.calibration import CalibratedClassifierCV\n",
    "plt.figure(figsize=(10,8))\n",
    "y_test_invers = []\n",
    "for i, y in enumerate(y_test.reset_index(drop=True)):\n",
    "    y_test_invers.append(1-y)\n",
    "    \n",
    "probas_knn = knn.fit(x_train, y_train).predict_proba(x_test)\n",
    "\n",
    "#Откалибруем линейный классификатор\n",
    "#cv - кратность перекрестной проверки\n",
    "#method - метод калибровки, так как у нас записей больше 1000 то рекомендуется использовать isotonic\n",
    "#         если же данных << 1000 то sigmoid\n",
    "clf_isotonic = CalibratedClassifierCV(perceptron, cv=10, method='isotonic')\n",
    "clf_isotonic.fit(x_train, y_train)\n",
    "probas_slf = clf_isotonic.predict_proba(x_test)"
   ]
  },
  {
   "cell_type": "markdown",
   "metadata": {},
   "source": [
    "### PR кривые"
   ]
  },
  {
   "cell_type": "code",
   "execution_count": 174,
   "metadata": {},
   "outputs": [
    {
     "data": {
      "image/png": "[encoded data removed]",
      "text/plain": [
       "<Figure size 432x288 with 1 Axes>"
      ]
     },
     "metadata": {
      "needs_background": "light"
     },
     "output_type": "display_data"
    }
   ],
   "source": [
    "# K соседей\n",
    "precision, recall, thresholds = precision_recall_curve(y_test_invers, probas_knn[:,0])\n",
    "aps_knn0 = average_precision_score(y_test_invers,probas_knn[:,0])\n",
    "plt.plot(recall, precision, label='KNeighborsClassifier PR (ср. тч. прог. = %f)' % (aps_knn0)) \n",
    "\n",
    "# Персептрон\n",
    "precision, recall, thresholds = precision_recall_curve(y_test_invers, probas_slf[:,0])\n",
    "aps_ptron0 = average_precision_score(y_test_invers,probas_slf[:,0])\n",
    "plt.plot(recall, precision, label='PerceptronClassifier PR (ср. тч. прог. = %f)' % (aps_ptron0)) \n",
    "\n",
    "# вывод графика\n",
    "plt.xlabel('Recall (полнота)')\n",
    "plt.ylabel('Precision (точность)')\n",
    "plt.xlim([0.0, 1.0])\n",
    "plt.ylim([0.0, 1.0])\n",
    "plt.legend(loc=4, fontsize='medium')\n",
    "plt.title('Occupancy = 0')\n",
    "plt.show()"
   ]
  },
  {
   "cell_type": "code",
   "execution_count": 175,
   "metadata": {},
   "outputs": [
    {
     "data": {
      "image/png": "[encoded data removed]",
      "text/plain": [
       "<Figure size 720x576 with 1 Axes>"
      ]
     },
     "metadata": {
      "needs_background": "light"
     },
     "output_type": "display_data"
    }
   ],
   "source": [
    "plt.figure(figsize=(10,8))\n",
    "\n",
    "# K соседей\n",
    "precision, recall, thresholds = precision_recall_curve(y_test, probas_knn[:,1])\n",
    "aps_knn1 = average_precision_score(y_test,probas_knn[:,1])\n",
    "plt.plot(recall, precision, label='KNeighborsClassifier PR (ср. тч. прог.= %f)' % (aps_knn1)) \n",
    "\n",
    "# Персептрон\n",
    "precision, recall, thresholds = precision_recall_curve(y_test, probas_slf[:,1])\n",
    "aps_ptron1 = average_precision_score(y_test,probas_slf[:,1])\n",
    "plt.plot(recall, precision, label='PerceptronClassifier PR (ср. тч. прог. = %f)' % (aps_ptron1)) \n",
    "\n",
    "# вывод графика\n",
    "plt.xlabel('Recall (полнота)')\n",
    "plt.ylabel('Precision (точность)')\n",
    "plt.xlim([0.0, 1.0])\n",
    "plt.ylim([0.0, 1.0])\n",
    "plt.legend(loc=4, fontsize='medium')\n",
    "plt.title('Occupancy = 1')\n",
    "plt.show()"
   ]
  },
  {
   "cell_type": "markdown",
   "metadata": {},
   "source": [
    "### ROC графики"
   ]
  },
  {
   "cell_type": "code",
   "execution_count": 176,
   "metadata": {},
   "outputs": [
    {
     "data": {
      "image/png": "[encoded data removed]",
      "text/plain": [
       "<Figure size 720x576 with 1 Axes>"
      ]
     },
     "metadata": {
      "needs_background": "light"
     },
     "output_type": "display_data"
    }
   ],
   "source": [
    "#TPR тоже самое что и Precision, те точноть\n",
    "plt.figure(figsize=(10,8))\n",
    "\n",
    "# K соседей\n",
    "tpr, fpr, thresholds = roc_curve(y_test, probas_knn[:,0])\n",
    "roc_auc  = auc(fpr, tpr)\n",
    "plt.plot(fpr, tpr, label='KNeighborsClassifier ROC (ср. тч. прог. = %f)' % (roc_auc)) \n",
    "\n",
    "# Персептрон\n",
    "tpr, fpr, thresholds = roc_curve(y_test, probas_slf[:,0])\n",
    "roc_auc  = auc(fpr, tpr)\n",
    "plt.plot(fpr, tpr, label='PerceptronClassifier ROC (ср. тч. прог. = %f)' % (roc_auc))   \n",
    "\n",
    "# вывод графика\n",
    "plt.plot([0, 1], [0, 1], 'k--')\n",
    "plt.xlim([0.0, 1.0])\n",
    "plt.ylim([0.0, 1.0])\n",
    "plt.xlabel('False Positive Rate')\n",
    "plt.ylabel('True Positive Rate (Precision / Точность)')\n",
    "plt.legend(loc=4, fontsize='medium')\n",
    "plt.title('Occupancy = 0')\n",
    "plt.show()"
   ]
  },
  {
   "cell_type": "code",
   "execution_count": 177,
   "metadata": {},
   "outputs": [
    {
     "data": {
      "image/png": "[encoded data removed]",
      "text/plain": [
       "<Figure size 720x576 with 1 Axes>"
      ]
     },
     "metadata": {
      "needs_background": "light"
     },
     "output_type": "display_data"
    }
   ],
   "source": [
    "plt.figure(figsize=(10,8))\n",
    "\n",
    "# K соседей\n",
    "fpr, tpr, thresholds = roc_curve(y_test, probas_knn[:,1])\n",
    "roc_auc  = auc(fpr, tpr)\n",
    "plt.plot(fpr, tpr, label='KNeighborsClassifier ROC (ср. тч. прог. = %f)' % (roc_auc))\n",
    "\n",
    "# PerceptronClassifier\n",
    "fpr, tpr, thresholds = roc_curve(y_test, probas_slf[:,1])\n",
    "roc_auc  = auc(fpr, tpr)\n",
    "plt.plot(fpr, tpr, label='PerceptronClassifier ROC (ср. тч. прог. = %f)' % (roc_auc)) \n",
    "\n",
    "# вывод графика\n",
    "plt.plot([0, 1], [0, 1], 'k--')\n",
    "plt.xlim([0.0, 1.0])\n",
    "plt.ylim([0.0, 1.0])\n",
    "plt.xlabel('False Positive Rate')\n",
    "plt.ylabel('True Positive Rate (Precision / Точность)')\n",
    "plt.legend(loc=4, fontsize='medium')\n",
    "plt.title('Occupancy = 1')\n",
    "plt.show()"
   ]
  },
  {
   "cell_type": "markdown",
   "metadata": {},
   "source": [
    "## 9.Сравните кривые для классификаторов, указанных в задании, сделайте выводы.\n",
    "Данные классификаторы решают задачу классификации с высокой вероятностью, что является хорошим результатом, т.к. классов всего 2. Персептрон дает лучший результат, благодаря хорошо подобранным параметрам и многослойной сетке. Поэтому задача классификации была решена корректно."
   ]
  },
  {
   "cell_type": "code",
   "execution_count": null,
   "metadata": {},
   "outputs": [],
   "source": []
  }
 ],
 "metadata": {
  "kernelspec": {
   "display_name": "Python 3",
   "language": "python",
   "name": "python3"
  },
  "language_info": {
   "codemirror_mode": {
    "name": "ipython",
    "version": 3
   },
   "file_extension": ".py",
   "mimetype": "text/x-python",
   "name": "python",
   "nbconvert_exporter": "python",
   "pygments_lexer": "ipython3",
   "version": "3.9.2"
  }
 },
 "nbformat": 4,
 "nbformat_minor": 4
}
