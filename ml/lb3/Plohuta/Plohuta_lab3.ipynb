{
 "cells": [
  {
   "cell_type": "markdown",
   "metadata": {},
   "source": [
    "## Лабораторная работа №3. Методы классификации данных.\n",
    "\n",
    "#### Выполнила:\n",
    "Плохута Д.Г.  \n",
    "#### Группа: \n",
    "19-ИВТ-3  \n",
    "#### Вариант:\n",
    "№6  \n",
    "#### Набор данных:\n",
    "6 (occupancy)\n",
    "#### Классификаторы:  \n",
    "2 - классификатор K ближайших соседей (задаётся радиус для выбора ближайших объектов);  \n",
    "4 - логический классификатор (бинарное решающее дерево).  \n",
    "\n",
    "### 1.\tИзучить набор данных. Создать описание набора данных на русском языке. Описать признаки, используемые в наборе данных (включить полученные описания в отчёт).\n",
    "\n",
    "1. date - дата и время замера\n",
    "2. Temperature - температура в градусах Цельсия \n",
    "3. Humidity - влажность воздуха, %\n",
    "4. Light - освещенность офиса, Люкс\n",
    "5. CO2 - уровень углекислого газа CO2, ppm (пропромилле)\n",
    "6. Humidity Ratio - удельная влажность, производное количество от температуры и относительной влажности, в кг водяного пара/кг воздуха\n",
    "7. Occupancy - заполненность, 0 или 1: 0 для незанятого, 1 для занятого состояния\n",
    "\n",
    "### 2.\tУдалите дубликаты строк в наборе данных; приведите размер набора данных до и после данной операции.\n"
   ]
  },
  {
   "cell_type": "code",
   "execution_count": 4,
   "metadata": {},
   "outputs": [],
   "source": [
    "import matplotlib.pyplot as plt\n",
    "%matplotlib inline\n",
    "\n",
    "import pandas as pd\n",
    "import numpy as np"
   ]
  },
  {
   "cell_type": "code",
   "execution_count": 5,
   "metadata": {},
   "outputs": [],
   "source": [
    "#occupancy_DF = pd.read_csv('C:\\\\Users\\\\Acer\\\\Desktop\\\\уник\\\\мо\\\\лб2_классификация\\\\6_occupancy\\\\read.txt')\n",
    "#occupancy_DF"
   ]
  },
  {
   "cell_type": "code",
   "execution_count": 6,
   "metadata": {},
   "outputs": [
    {
     "ename": "SyntaxError",
     "evalue": "unexpected EOF while parsing (<ipython-input-6-df411adbd197>, line 4)",
     "output_type": "error",
     "traceback": [
      "\u001b[1;36m  File \u001b[1;32m\"<ipython-input-6-df411adbd197>\"\u001b[1;36m, line \u001b[1;32m4\u001b[0m\n\u001b[1;33m    print(\"Удалено дубликатов: \" , init_len - finit_len)\u001b[0m\n\u001b[1;37m                                                        ^\u001b[0m\n\u001b[1;31mSyntaxError\u001b[0m\u001b[1;31m:\u001b[0m unexpected EOF while parsing\n"
     ]
    }
   ],
   "source": [
    "init_len= len(#occupancy_DF)\n",
    "#occupancy_DF.drop_duplicates(keep= False,inplace=True)\n",
    "finit_len = len(#occupancy_DF)\n",
    "print(\"Удалено дубликатов: \" , init_len - finit_len)"
   ]
  },
  {
   "cell_type": "code",
   "execution_count": null,
   "metadata": {},
   "outputs": [],
   "source": [
    "#occupancy_DF"
   ]
  },
  {
   "cell_type": "markdown",
   "metadata": {},
   "source": [
    "### 3.\tОцените сбалансированность данных по классам (постройте гистограмму). Используйте полученную информацию при выборе метрики оценки качества классификации (PR или ROC кривая)."
   ]
  },
  {
   "cell_type": "code",
   "execution_count": null,
   "metadata": {},
   "outputs": [],
   "source": [
    "import seaborn as sns"
   ]
  },
  {
   "cell_type": "code",
   "execution_count": null,
   "metadata": {},
   "outputs": [],
   "source": [
    "occupancy_DF['Occupancy'].value_counts().plot(kind='bar', label='Occupancy')\n",
    "plt.legend()\n",
    "plt.title(\"Занятось офиса\");"
   ]
  },
  {
   "cell_type": "markdown",
   "metadata": {},
   "source": [
    "Как видно из гистограммы, классы несбалансированны, преобладает первый класс (0).\n",
    "\n",
    "### 4.\tВыполните масштабирование количественных признаков; Постройте диаграммы BoxPlot для признаков до и после масштабирования. Выберите способ масштабирования (например, нормализацию или стандартизацию)."
   ]
  },
  {
   "cell_type": "code",
   "execution_count": null,
   "metadata": {},
   "outputs": [],
   "source": [
    "before_scaling = [\"Temperature\", \"Humidity\", \"Light\", \"CO2\", \"HumidityRatio\"]\n",
    "sns.boxplot(data = occupancy_DF[before_scaling])"
   ]
  },
  {
   "cell_type": "markdown",
   "metadata": {},
   "source": [
    "#### Нормализация"
   ]
  },
  {
   "cell_type": "code",
   "execution_count": null,
   "metadata": {},
   "outputs": [],
   "source": [
    "import sklearn as skl\n",
    "from sklearn.preprocessing import MinMaxScaler"
   ]
  },
  {
   "cell_type": "code",
   "execution_count": null,
   "metadata": {},
   "outputs": [],
   "source": [
    "occupancy_DF[before_scaling] = MinMaxScaler().fit_transform(occupancy_DF[before_scaling])\n",
    "sns.boxplot(data = occupancy_DF[before_scaling])"
   ]
  },
  {
   "cell_type": "markdown",
   "metadata": {},
   "source": [
    "### 5.\tВыполните замену категориальных признаков; выберите и обоснуйте способ замены."
   ]
  },
  {
   "cell_type": "code",
   "execution_count": null,
   "metadata": {},
   "outputs": [],
   "source": [
    "categorical = [c for c in occupancy_DF.columns if occupancy_DF[c].dtype.name == 'object']\n",
    "print(\"Категориальные признаки: \", categorical)"
   ]
  },
  {
   "cell_type": "code",
   "execution_count": null,
   "metadata": {},
   "outputs": [],
   "source": [
    "occupancy_DF[categorical].describe()"
   ]
  },
  {
   "cell_type": "code",
   "execution_count": null,
   "metadata": {},
   "outputs": [],
   "source": [
    "occupancy_DF['date'].unique()"
   ]
  },
  {
   "cell_type": "markdown",
   "metadata": {},
   "source": [
    "#### Все значения уникальны (указано в сопровождающем документе, измерения проводились каждую минуту), замена не имеет смысла"
   ]
  },
  {
   "cell_type": "markdown",
   "metadata": {},
   "source": [
    "### 6.\tОцените корреляцию между признаков и удалите те признаки, которые коррелируют с наибольшим числом других (удалять признаки нужно только для линейных методов классификации)."
   ]
  },
  {
   "cell_type": "code",
   "execution_count": null,
   "metadata": {},
   "outputs": [],
   "source": [
    "corr_matrix = occupancy_DF.corr()\n",
    "sns.heatmap(corr_matrix)"
   ]
  },
  {
   "cell_type": "markdown",
   "metadata": {},
   "source": [
    "#### Признаки коррелируют равномерно"
   ]
  },
  {
   "cell_type": "markdown",
   "metadata": {},
   "source": [
    "### 7.\tЗаполните пропущенные значения в данных."
   ]
  },
  {
   "cell_type": "code",
   "execution_count": null,
   "metadata": {},
   "outputs": [],
   "source": [
    "occupancy_DF.count()"
   ]
  },
  {
   "cell_type": "markdown",
   "metadata": {},
   "source": [
    "#### Пропущенных значений нет"
   ]
  },
  {
   "cell_type": "markdown",
   "metadata": {},
   "source": [
    "### 8.\tРешите поставленную задачу классификации в соответствии с заданием. \n",
    "#### При подборе параметров классификатора используйте метод GridSearchCV и перекрёстную проверку (изучите возможные для изменения параметры классификации). Определите схему построения многоклассового классификатора, используемую по умолчанию (опишите используемую схему кодирования, обоснуйте свой выбор). Постройте, если это возможно, многоклассовую классификацию на основе схем «один-против-всех» и «все-против-всех». Оцените точность классификации для каждой их схем. Постройте кривые PR и ROC (для каждого из классов должны быть построены отдельные кривые, а также кривые для микро и макроусреднения метрик качества). Для линейного классификатора используйте регуляризацию. "
   ]
  },
  {
   "cell_type": "markdown",
   "metadata": {},
   "source": [
    "#### 1) Классификатор K ближайших соседей (задаётся радиус для выбора ближайших объектов):"
   ]
  },
  {
   "cell_type": "code",
   "execution_count": null,
   "metadata": {},
   "outputs": [],
   "source": [
    "from sklearn.neighbors import RadiusNeighborsClassifier\n",
    "from sklearn.neighbors import KNeighborsClassifier\n",
    "from sklearn.model_selection import train_test_split\n",
    "from sklearn.model_selection import GridSearchCV\n",
    "from sklearn.metrics import accuracy_score\n",
    "X = occupancy_DF.drop(('date'), axis=1)\n",
    "Y = occupancy_DF.Occupancy\n",
    "X.columns "
   ]
  },
  {
   "cell_type": "code",
   "execution_count": null,
   "metadata": {},
   "outputs": [],
   "source": [
    "x_train, x_test, y_train, y_test = train_test_split(X, Y, test_size = 0.3, random_state = 0)"
   ]
  },
  {
   "cell_type": "code",
   "execution_count": null,
   "metadata": {},
   "outputs": [],
   "source": [
    "radius_classif = RadiusNeighborsClassifier()\n",
    "radius_classif.get_params()\n",
    "params = {'radius': [2, 3, 4],\n",
    "          'weights': ['uniform', 'distance']}\n",
    "radius_classif_grid = GridSearchCV(radius_classif, params)\n",
    "radius_classif_grid.fit(x_train, y_train)"
   ]
  },
  {
   "cell_type": "code",
   "execution_count": null,
   "metadata": {},
   "outputs": [],
   "source": [
    "#r = radius_classif_grid.best_estimator_.radius_neighbors\n",
    "radius_classif = RadiusNeighborsClassifier(4)\n",
    "radius_classif.fit(x_train, y_train)\n",
    "\n",
    "rad_classif_predict = radius_classif.predict(x_test)\n",
    "\n",
    "print('Accuracy: ', accuracy_score(y_test, rad_classif_predict ))\n",
    "print('Best: ',  radius_classif_grid.best_score_)"
   ]
  },
  {
   "cell_type": "markdown",
   "metadata": {},
   "source": [
    "#### 2) Логический классификатор (бинарное решающее дерево):"
   ]
  },
  {
   "cell_type": "code",
   "execution_count": null,
   "metadata": {},
   "outputs": [],
   "source": [
    "from sklearn.tree import DecisionTreeClassifier\n",
    "decision_tree = DecisionTreeClassifier()\n",
    "\n",
    "parametrs = {'max_depth': list(range(1, 7)), 'max_features': list(range(1, 7))}\n",
    "decision_tree_grid = GridSearchCV(decision_tree, parametrs)\n",
    "decision_tree_grid.fit(x_train, y_train)"
   ]
  },
  {
   "cell_type": "code",
   "execution_count": null,
   "metadata": {},
   "outputs": [],
   "source": [
    "best_features = decision_tree_grid.best_estimator_.max_features\n",
    "best_depth = decision_tree_grid.best_estimator_.max_depth\n",
    "best_score = decision_tree_grid.best_score_\n",
    "print('best train score:', best_score, \n",
    "      'features number:', best_features,\n",
    "      'depth:', best_depth)\n",
    "\n",
    "decision_tree = DecisionTreeClassifier(max_depth=best_depth, max_features=best_features)\n",
    "decision_tree.fit(x_train, y_train)\n",
    "best_score  = np.mean(y_test == decision_tree.predict(x_test))\n",
    "print('test score: ', best_score)"
   ]
  },
  {
   "cell_type": "markdown",
   "metadata": {},
   "source": [
    "### 9.\tСравните кривые для классификаторов, указанных в задании, сделайте выводы."
   ]
  },
  {
   "cell_type": "code",
   "execution_count": null,
   "metadata": {},
   "outputs": [],
   "source": [
    "proba_radius_classif = radius_classif.predict_proba(x_test)\n",
    "proba_decision_tree = decision_tree.predict_proba(x_test)\n",
    "\n",
    "inversion = [1-y for y in y_test]"
   ]
  },
  {
   "cell_type": "markdown",
   "metadata": {},
   "source": [
    "##### PR-графики"
   ]
  },
  {
   "cell_type": "code",
   "execution_count": null,
   "metadata": {},
   "outputs": [],
   "source": [
    "def PRPlot(prob, occupancy, label, test):\n",
    "    precision, recall, _ = precision_recall_curve(test, prob[:, occupancy])\n",
    "    aps = average_precision_score(test, prob[:, occupancy])\n",
    "    plt.plot(recall, precision, label='%s PR (area = %f)' % (label, aps))"
   ]
  },
  {
   "cell_type": "code",
   "execution_count": null,
   "metadata": {},
   "outputs": [],
   "source": [
    "import matplotlib.pyplot as plt\n",
    "from sklearn.metrics import precision_recall_curve, average_precision_score\n",
    "plt.figure(figsize=(10,8))\n",
    "\n",
    "PRPlot(proba_radius_classif, 0, 'KRadiusNeighbors',inversion)\n",
    "PRPlot(proba_decision_tree, 0, 'DecisionTree', inversion)\n",
    "\n",
    "plt.xlabel('Recall')\n",
    "plt.ylabel('Precision')\n",
    "plt.xlim([0.0, 1.0])\n",
    "plt.ylim([0.0, 1.05])\n",
    "plt.title('Occupancy = 0')\n",
    "plt.legend(loc=4, fontsize='medium')\n",
    "plt.show()"
   ]
  },
  {
   "cell_type": "code",
   "execution_count": null,
   "metadata": {},
   "outputs": [],
   "source": [
    "plt.figure(figsize=(10,8))\n",
    "\n",
    "PRPlot(proba_radius_classif, 1, 'KRadiusNeighbors', y_test)\n",
    "PRPlot(proba_decision_tree, 1, 'DecisionTree', y_test)\n",
    "\n",
    "plt.xlabel('Recall')\n",
    "plt.ylabel('Precision')\n",
    "plt.xlim([0.0, 1.0])\n",
    "plt.ylim([0.0, 1.05])\n",
    "plt.title('Occupancy = 1')\n",
    "plt.legend(loc=4, fontsize='medium')\n",
    "plt.show()"
   ]
  },
  {
   "cell_type": "markdown",
   "metadata": {},
   "source": [
    "##### ROC - графики"
   ]
  },
  {
   "cell_type": "code",
   "execution_count": null,
   "metadata": {},
   "outputs": [],
   "source": [
    "def ROCPlot0(prob, label, test):\n",
    "    tpr, fpr, _ = roc_curve(test, prob[:, 0])\n",
    "    roc_auc  = auc(fpr, tpr)\n",
    "    plt.plot(fpr, tpr, label='%s ROC (area = %f)' % (label, roc_auc)) \n",
    "\n",
    "def ROCPlot1(prob, label, test):\n",
    "    fpr, tpr, _ = roc_curve(test, prob[:, 1])\n",
    "    roc_auc  = auc(fpr, tpr)\n",
    "    plt.plot(fpr, tpr, label='%s ROC (area = %f)' % (label, roc_auc))"
   ]
  },
  {
   "cell_type": "code",
   "execution_count": 7,
   "metadata": {},
   "outputs": [
    {
     "ename": "NameError",
     "evalue": "name 'ROCPlot0' is not defined",
     "output_type": "error",
     "traceback": [
      "\u001b[1;31m---------------------------------------------------------------------------\u001b[0m",
      "\u001b[1;31mNameError\u001b[0m                                 Traceback (most recent call last)",
      "\u001b[1;32m<ipython-input-7-eb1fcf325385>\u001b[0m in \u001b[0;36m<module>\u001b[1;34m\u001b[0m\n\u001b[0;32m      2\u001b[0m \u001b[0mplt\u001b[0m\u001b[1;33m.\u001b[0m\u001b[0mfigure\u001b[0m\u001b[1;33m(\u001b[0m\u001b[0mfigsize\u001b[0m\u001b[1;33m=\u001b[0m\u001b[1;33m(\u001b[0m\u001b[1;36m10\u001b[0m\u001b[1;33m,\u001b[0m\u001b[1;36m8\u001b[0m\u001b[1;33m)\u001b[0m\u001b[1;33m)\u001b[0m\u001b[1;33m\u001b[0m\u001b[1;33m\u001b[0m\u001b[0m\n\u001b[0;32m      3\u001b[0m \u001b[1;33m\u001b[0m\u001b[0m\n\u001b[1;32m----> 4\u001b[1;33m \u001b[0mROCPlot0\u001b[0m\u001b[1;33m(\u001b[0m\u001b[0mproba_radius_classif\u001b[0m\u001b[1;33m,\u001b[0m \u001b[1;34m'KRadiusNeighbors'\u001b[0m\u001b[1;33m,\u001b[0m \u001b[0my_test\u001b[0m\u001b[1;33m)\u001b[0m\u001b[1;33m\u001b[0m\u001b[1;33m\u001b[0m\u001b[0m\n\u001b[0m\u001b[0;32m      5\u001b[0m \u001b[0mROCPlot0\u001b[0m\u001b[1;33m(\u001b[0m\u001b[0mproba_decision_tree\u001b[0m\u001b[1;33m,\u001b[0m \u001b[1;34m'DecisionTree'\u001b[0m\u001b[1;33m,\u001b[0m \u001b[0my_test\u001b[0m\u001b[1;33m)\u001b[0m\u001b[1;33m\u001b[0m\u001b[1;33m\u001b[0m\u001b[0m\n\u001b[0;32m      6\u001b[0m \u001b[1;33m\u001b[0m\u001b[0m\n",
      "\u001b[1;31mNameError\u001b[0m: name 'ROCPlot0' is not defined"
     ]
    },
    {
     "data": {
      "text/plain": [
       "<Figure size 720x576 with 0 Axes>"
      ]
     },
     "metadata": {},
     "output_type": "display_data"
    }
   ],
   "source": [
    "from sklearn.metrics import roc_curve, auc\n",
    "plt.figure(figsize=(10,8))\n",
    "\n",
    "ROCPlot0(proba_radius_classif, 'KRadiusNeighbors', y_test)\n",
    "ROCPlot0(proba_decision_tree, 'DecisionTree', y_test)\n",
    "\n",
    "plt.plot([0, 1], [0, 1], 'k--')\n",
    "plt.xlim([-0.05, 1.0])\n",
    "plt.ylim([0.0, 1.05])\n",
    "plt.xlabel('False Positive Rate')\n",
    "plt.ylabel('True Positive Rate')\n",
    "plt.legend(loc=4, fontsize='medium')\n",
    "plt.title('Occupancy = 0')\n",
    "plt.show()"
   ]
  },
  {
   "cell_type": "code",
   "execution_count": null,
   "metadata": {},
   "outputs": [],
   "source": [
    "plt.figure(figsize=(10,8))\n",
    "\n",
    "ROCPlot1(proba_radius_classif, 'KRadiusNeighbors', y_test)\n",
    "ROCPlot1(proba_decision_tree, 'DecisionTree', y_test)\n",
    "\n",
    "plt.plot([0, 1], [0, 1], 'k--')\n",
    "plt.xlim([-0.05, 1.0])\n",
    "plt.ylim([0.0, 1.05])\n",
    "plt.xlabel('False Positive Rate')\n",
    "plt.ylabel('True Positive Rate')\n",
    "plt.legend(loc=4, fontsize='medium')\n",
    "plt.title('Occupancy = 1')\n",
    "plt.show()"
   ]
  },
  {
   "cell_type": "code",
   "execution_count": null,
   "metadata": {},
   "outputs": [],
   "source": []
  }
 ],
 "metadata": {
  "kernelspec": {
   "display_name": "Python 3",
   "language": "python",
   "name": "python3"
  },
  "language_info": {
   "codemirror_mode": {
    "name": "ipython",
    "version": 3
   },
   "file_extension": ".py",
   "mimetype": "text/x-python",
   "name": "python",
   "nbconvert_exporter": "python",
   "pygments_lexer": "ipython3",
   "version": "3.8.5"
  }
 },
 "nbformat": 4,
 "nbformat_minor": 4
}
