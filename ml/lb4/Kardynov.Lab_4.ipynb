{
 "cells": [
  {
   "cell_type": "code",
   "execution_count": 27,
   "id": "yellow-folks",
   "metadata": {},
   "outputs": [],
   "source": [
    "import numpy as np\n",
    "from scipy import stats\n",
    "import warnings\n",
    "import numpy as np\n",
    "import pandas as pd\n",
    "import sklearn as sk\n",
    "import seaborn as sns\n",
    "import matplotlib.pyplot as plt\n",
    "\n",
    "from sklearn.preprocessing import LabelEncoder\n",
    "from sklearn.preprocessing import MinMaxScaler, OneHotEncoder\n",
    "from sklearn.model_selection import GridSearchCV, train_test_split\n",
    "from sklearn.linear_model import LinearRegression, Lasso\n",
    "\n",
    "from scipy.stats import pearsonr, spearmanr"
   ]
  },
  {
   "cell_type": "markdown",
   "id": "mental-gauge",
   "metadata": {},
   "source": [
    "### 1. Изучить набор данных. Создать описание набора данных на русском языке. Описать признаки, используемые в наборе данных (включить полученные описания в отчёт)."
   ]
  },
  {
   "cell_type": "code",
   "execution_count": 28,
   "id": "finite-headset",
   "metadata": {},
   "outputs": [
    {
     "data": {
      "text/html": [
       "<div>\n",
       "<style scoped>\n",
       "    .dataframe tbody tr th:only-of-type {\n",
       "        vertical-align: middle;\n",
       "    }\n",
       "\n",
       "    .dataframe tbody tr th {\n",
       "        vertical-align: top;\n",
       "    }\n",
       "\n",
       "    .dataframe thead th {\n",
       "        text-align: right;\n",
       "    }\n",
       "</style>\n",
       "<table border=\"1\" class=\"dataframe\">\n",
       "  <thead>\n",
       "    <tr style=\"text-align: right;\">\n",
       "      <th></th>\n",
       "      <th>Date</th>\n",
       "      <th>Time</th>\n",
       "      <th>CO(GT)</th>\n",
       "      <th>PT08.S1(CO)</th>\n",
       "      <th>NMHC(GT)</th>\n",
       "      <th>C6H6(GT)</th>\n",
       "      <th>PT08.S2(NMHC)</th>\n",
       "      <th>NOx(GT)</th>\n",
       "      <th>PT08.S3(NOx)</th>\n",
       "      <th>NO2(GT)</th>\n",
       "      <th>PT08.S4(NO2)</th>\n",
       "      <th>PT08.S5(O3)</th>\n",
       "      <th>T</th>\n",
       "      <th>RH</th>\n",
       "      <th>AH</th>\n",
       "      <th>Unnamed: 15</th>\n",
       "      <th>Unnamed: 16</th>\n",
       "    </tr>\n",
       "  </thead>\n",
       "  <tbody>\n",
       "    <tr>\n",
       "      <th>0</th>\n",
       "      <td>10/03/2004</td>\n",
       "      <td>18.00.00</td>\n",
       "      <td>2,6</td>\n",
       "      <td>1360.0</td>\n",
       "      <td>150.0</td>\n",
       "      <td>11,9</td>\n",
       "      <td>1046.0</td>\n",
       "      <td>166.0</td>\n",
       "      <td>1056.0</td>\n",
       "      <td>113.0</td>\n",
       "      <td>1692.0</td>\n",
       "      <td>1268.0</td>\n",
       "      <td>13,6</td>\n",
       "      <td>48,9</td>\n",
       "      <td>0,7578</td>\n",
       "      <td>NaN</td>\n",
       "      <td>NaN</td>\n",
       "    </tr>\n",
       "    <tr>\n",
       "      <th>1</th>\n",
       "      <td>10/03/2004</td>\n",
       "      <td>19.00.00</td>\n",
       "      <td>2</td>\n",
       "      <td>1292.0</td>\n",
       "      <td>112.0</td>\n",
       "      <td>9,4</td>\n",
       "      <td>955.0</td>\n",
       "      <td>103.0</td>\n",
       "      <td>1174.0</td>\n",
       "      <td>92.0</td>\n",
       "      <td>1559.0</td>\n",
       "      <td>972.0</td>\n",
       "      <td>13,3</td>\n",
       "      <td>47,7</td>\n",
       "      <td>0,7255</td>\n",
       "      <td>NaN</td>\n",
       "      <td>NaN</td>\n",
       "    </tr>\n",
       "    <tr>\n",
       "      <th>2</th>\n",
       "      <td>10/03/2004</td>\n",
       "      <td>20.00.00</td>\n",
       "      <td>2,2</td>\n",
       "      <td>1402.0</td>\n",
       "      <td>88.0</td>\n",
       "      <td>9,0</td>\n",
       "      <td>939.0</td>\n",
       "      <td>131.0</td>\n",
       "      <td>1140.0</td>\n",
       "      <td>114.0</td>\n",
       "      <td>1555.0</td>\n",
       "      <td>1074.0</td>\n",
       "      <td>11,9</td>\n",
       "      <td>54,0</td>\n",
       "      <td>0,7502</td>\n",
       "      <td>NaN</td>\n",
       "      <td>NaN</td>\n",
       "    </tr>\n",
       "    <tr>\n",
       "      <th>3</th>\n",
       "      <td>10/03/2004</td>\n",
       "      <td>21.00.00</td>\n",
       "      <td>2,2</td>\n",
       "      <td>1376.0</td>\n",
       "      <td>80.0</td>\n",
       "      <td>9,2</td>\n",
       "      <td>948.0</td>\n",
       "      <td>172.0</td>\n",
       "      <td>1092.0</td>\n",
       "      <td>122.0</td>\n",
       "      <td>1584.0</td>\n",
       "      <td>1203.0</td>\n",
       "      <td>11,0</td>\n",
       "      <td>60,0</td>\n",
       "      <td>0,7867</td>\n",
       "      <td>NaN</td>\n",
       "      <td>NaN</td>\n",
       "    </tr>\n",
       "    <tr>\n",
       "      <th>4</th>\n",
       "      <td>10/03/2004</td>\n",
       "      <td>22.00.00</td>\n",
       "      <td>1,6</td>\n",
       "      <td>1272.0</td>\n",
       "      <td>51.0</td>\n",
       "      <td>6,5</td>\n",
       "      <td>836.0</td>\n",
       "      <td>131.0</td>\n",
       "      <td>1205.0</td>\n",
       "      <td>116.0</td>\n",
       "      <td>1490.0</td>\n",
       "      <td>1110.0</td>\n",
       "      <td>11,2</td>\n",
       "      <td>59,6</td>\n",
       "      <td>0,7888</td>\n",
       "      <td>NaN</td>\n",
       "      <td>NaN</td>\n",
       "    </tr>\n",
       "    <tr>\n",
       "      <th>...</th>\n",
       "      <td>...</td>\n",
       "      <td>...</td>\n",
       "      <td>...</td>\n",
       "      <td>...</td>\n",
       "      <td>...</td>\n",
       "      <td>...</td>\n",
       "      <td>...</td>\n",
       "      <td>...</td>\n",
       "      <td>...</td>\n",
       "      <td>...</td>\n",
       "      <td>...</td>\n",
       "      <td>...</td>\n",
       "      <td>...</td>\n",
       "      <td>...</td>\n",
       "      <td>...</td>\n",
       "      <td>...</td>\n",
       "      <td>...</td>\n",
       "    </tr>\n",
       "    <tr>\n",
       "      <th>9466</th>\n",
       "      <td>NaN</td>\n",
       "      <td>NaN</td>\n",
       "      <td>NaN</td>\n",
       "      <td>NaN</td>\n",
       "      <td>NaN</td>\n",
       "      <td>NaN</td>\n",
       "      <td>NaN</td>\n",
       "      <td>NaN</td>\n",
       "      <td>NaN</td>\n",
       "      <td>NaN</td>\n",
       "      <td>NaN</td>\n",
       "      <td>NaN</td>\n",
       "      <td>NaN</td>\n",
       "      <td>NaN</td>\n",
       "      <td>NaN</td>\n",
       "      <td>NaN</td>\n",
       "      <td>NaN</td>\n",
       "    </tr>\n",
       "    <tr>\n",
       "      <th>9467</th>\n",
       "      <td>NaN</td>\n",
       "      <td>NaN</td>\n",
       "      <td>NaN</td>\n",
       "      <td>NaN</td>\n",
       "      <td>NaN</td>\n",
       "      <td>NaN</td>\n",
       "      <td>NaN</td>\n",
       "      <td>NaN</td>\n",
       "      <td>NaN</td>\n",
       "      <td>NaN</td>\n",
       "      <td>NaN</td>\n",
       "      <td>NaN</td>\n",
       "      <td>NaN</td>\n",
       "      <td>NaN</td>\n",
       "      <td>NaN</td>\n",
       "      <td>NaN</td>\n",
       "      <td>NaN</td>\n",
       "    </tr>\n",
       "    <tr>\n",
       "      <th>9468</th>\n",
       "      <td>NaN</td>\n",
       "      <td>NaN</td>\n",
       "      <td>NaN</td>\n",
       "      <td>NaN</td>\n",
       "      <td>NaN</td>\n",
       "      <td>NaN</td>\n",
       "      <td>NaN</td>\n",
       "      <td>NaN</td>\n",
       "      <td>NaN</td>\n",
       "      <td>NaN</td>\n",
       "      <td>NaN</td>\n",
       "      <td>NaN</td>\n",
       "      <td>NaN</td>\n",
       "      <td>NaN</td>\n",
       "      <td>NaN</td>\n",
       "      <td>NaN</td>\n",
       "      <td>NaN</td>\n",
       "    </tr>\n",
       "    <tr>\n",
       "      <th>9469</th>\n",
       "      <td>NaN</td>\n",
       "      <td>NaN</td>\n",
       "      <td>NaN</td>\n",
       "      <td>NaN</td>\n",
       "      <td>NaN</td>\n",
       "      <td>NaN</td>\n",
       "      <td>NaN</td>\n",
       "      <td>NaN</td>\n",
       "      <td>NaN</td>\n",
       "      <td>NaN</td>\n",
       "      <td>NaN</td>\n",
       "      <td>NaN</td>\n",
       "      <td>NaN</td>\n",
       "      <td>NaN</td>\n",
       "      <td>NaN</td>\n",
       "      <td>NaN</td>\n",
       "      <td>NaN</td>\n",
       "    </tr>\n",
       "    <tr>\n",
       "      <th>9470</th>\n",
       "      <td>NaN</td>\n",
       "      <td>NaN</td>\n",
       "      <td>NaN</td>\n",
       "      <td>NaN</td>\n",
       "      <td>NaN</td>\n",
       "      <td>NaN</td>\n",
       "      <td>NaN</td>\n",
       "      <td>NaN</td>\n",
       "      <td>NaN</td>\n",
       "      <td>NaN</td>\n",
       "      <td>NaN</td>\n",
       "      <td>NaN</td>\n",
       "      <td>NaN</td>\n",
       "      <td>NaN</td>\n",
       "      <td>NaN</td>\n",
       "      <td>NaN</td>\n",
       "      <td>NaN</td>\n",
       "    </tr>\n",
       "  </tbody>\n",
       "</table>\n",
       "<p>9471 rows × 17 columns</p>\n",
       "</div>"
      ],
      "text/plain": [
       "            Date      Time CO(GT)  PT08.S1(CO)  NMHC(GT) C6H6(GT)  \\\n",
       "0     10/03/2004  18.00.00    2,6       1360.0     150.0     11,9   \n",
       "1     10/03/2004  19.00.00      2       1292.0     112.0      9,4   \n",
       "2     10/03/2004  20.00.00    2,2       1402.0      88.0      9,0   \n",
       "3     10/03/2004  21.00.00    2,2       1376.0      80.0      9,2   \n",
       "4     10/03/2004  22.00.00    1,6       1272.0      51.0      6,5   \n",
       "...          ...       ...    ...          ...       ...      ...   \n",
       "9466         NaN       NaN    NaN          NaN       NaN      NaN   \n",
       "9467         NaN       NaN    NaN          NaN       NaN      NaN   \n",
       "9468         NaN       NaN    NaN          NaN       NaN      NaN   \n",
       "9469         NaN       NaN    NaN          NaN       NaN      NaN   \n",
       "9470         NaN       NaN    NaN          NaN       NaN      NaN   \n",
       "\n",
       "      PT08.S2(NMHC)  NOx(GT)  PT08.S3(NOx)  NO2(GT)  PT08.S4(NO2)  \\\n",
       "0            1046.0    166.0        1056.0    113.0        1692.0   \n",
       "1             955.0    103.0        1174.0     92.0        1559.0   \n",
       "2             939.0    131.0        1140.0    114.0        1555.0   \n",
       "3             948.0    172.0        1092.0    122.0        1584.0   \n",
       "4             836.0    131.0        1205.0    116.0        1490.0   \n",
       "...             ...      ...           ...      ...           ...   \n",
       "9466            NaN      NaN           NaN      NaN           NaN   \n",
       "9467            NaN      NaN           NaN      NaN           NaN   \n",
       "9468            NaN      NaN           NaN      NaN           NaN   \n",
       "9469            NaN      NaN           NaN      NaN           NaN   \n",
       "9470            NaN      NaN           NaN      NaN           NaN   \n",
       "\n",
       "      PT08.S5(O3)     T    RH      AH  Unnamed: 15  Unnamed: 16  \n",
       "0          1268.0  13,6  48,9  0,7578          NaN          NaN  \n",
       "1           972.0  13,3  47,7  0,7255          NaN          NaN  \n",
       "2          1074.0  11,9  54,0  0,7502          NaN          NaN  \n",
       "3          1203.0  11,0  60,0  0,7867          NaN          NaN  \n",
       "4          1110.0  11,2  59,6  0,7888          NaN          NaN  \n",
       "...           ...   ...   ...     ...          ...          ...  \n",
       "9466          NaN   NaN   NaN     NaN          NaN          NaN  \n",
       "9467          NaN   NaN   NaN     NaN          NaN          NaN  \n",
       "9468          NaN   NaN   NaN     NaN          NaN          NaN  \n",
       "9469          NaN   NaN   NaN     NaN          NaN          NaN  \n",
       "9470          NaN   NaN   NaN     NaN          NaN          NaN  \n",
       "\n",
       "[9471 rows x 17 columns]"
      ]
     },
     "execution_count": 28,
     "metadata": {},
     "output_type": "execute_result"
    }
   ],
   "source": [
    "df = pd.read_csv(r'AirQualityUCI.csv', sep=';')\n",
    "df"
   ]
  },
  {
   "cell_type": "code",
   "execution_count": 29,
   "id": "binding-efficiency",
   "metadata": {},
   "outputs": [],
   "source": [
    "warnings.simplefilter('ignore') #Скрыть все предупреждения от пользователей по умолчанию"
   ]
  },
  {
   "cell_type": "code",
   "execution_count": 30,
   "id": "minute-pastor",
   "metadata": {},
   "outputs": [
    {
     "name": "stdout",
     "output_type": "stream",
     "text": [
      "<class 'pandas.core.frame.DataFrame'>\n",
      "RangeIndex: 9471 entries, 0 to 9470\n",
      "Data columns (total 17 columns):\n",
      " #   Column         Non-Null Count  Dtype  \n",
      "---  ------         --------------  -----  \n",
      " 0   Date           9357 non-null   object \n",
      " 1   Time           9357 non-null   object \n",
      " 2   CO(GT)         9357 non-null   object \n",
      " 3   PT08.S1(CO)    9357 non-null   float64\n",
      " 4   NMHC(GT)       9357 non-null   float64\n",
      " 5   C6H6(GT)       9357 non-null   object \n",
      " 6   PT08.S2(NMHC)  9357 non-null   float64\n",
      " 7   NOx(GT)        9357 non-null   float64\n",
      " 8   PT08.S3(NOx)   9357 non-null   float64\n",
      " 9   NO2(GT)        9357 non-null   float64\n",
      " 10  PT08.S4(NO2)   9357 non-null   float64\n",
      " 11  PT08.S5(O3)    9357 non-null   float64\n",
      " 12  T              9357 non-null   object \n",
      " 13  RH             9357 non-null   object \n",
      " 14  AH             9357 non-null   object \n",
      " 15  Unnamed: 15    0 non-null      float64\n",
      " 16  Unnamed: 16    0 non-null      float64\n",
      "dtypes: float64(10), object(7)\n",
      "memory usage: 1.2+ MB\n"
     ]
    }
   ],
   "source": [
    "df.info()"
   ]
  },
  {
   "cell_type": "code",
   "execution_count": 31,
   "id": "sapphire-cartoon",
   "metadata": {},
   "outputs": [
    {
     "data": {
      "text/html": [
       "<div>\n",
       "<style scoped>\n",
       "    .dataframe tbody tr th:only-of-type {\n",
       "        vertical-align: middle;\n",
       "    }\n",
       "\n",
       "    .dataframe tbody tr th {\n",
       "        vertical-align: top;\n",
       "    }\n",
       "\n",
       "    .dataframe thead th {\n",
       "        text-align: right;\n",
       "    }\n",
       "</style>\n",
       "<table border=\"1\" class=\"dataframe\">\n",
       "  <thead>\n",
       "    <tr style=\"text-align: right;\">\n",
       "      <th></th>\n",
       "      <th>Признак</th>\n",
       "      <th>Описание</th>\n",
       "      <th>Тип</th>\n",
       "    </tr>\n",
       "  </thead>\n",
       "  <tbody>\n",
       "    <tr>\n",
       "      <th>0</th>\n",
       "      <td>Date</td>\n",
       "      <td>Дата</td>\n",
       "      <td>объектный</td>\n",
       "    </tr>\n",
       "    <tr>\n",
       "      <th>1</th>\n",
       "      <td>Time</td>\n",
       "      <td>Время</td>\n",
       "      <td>объектный</td>\n",
       "    </tr>\n",
       "    <tr>\n",
       "      <th>2</th>\n",
       "      <td>CO(GT)</td>\n",
       "      <td>Истинная усредненная за час концентрация CO в ...</td>\n",
       "      <td>объектный</td>\n",
       "    </tr>\n",
       "    <tr>\n",
       "      <th>3</th>\n",
       "      <td>PT08.S1(CO)</td>\n",
       "      <td>PT08.S1 (оксид олова) усредненный за час откли...</td>\n",
       "      <td>вещественный</td>\n",
       "    </tr>\n",
       "    <tr>\n",
       "      <th>4</th>\n",
       "      <td>NMHC(GT)</td>\n",
       "      <td>Истинное часовое усреднение общей концентрации...</td>\n",
       "      <td>вещественный</td>\n",
       "    </tr>\n",
       "    <tr>\n",
       "      <th>5</th>\n",
       "      <td>C6H6(GT)</td>\n",
       "      <td>Истинная усредненная почасовая концентрация бе...</td>\n",
       "      <td>объектный</td>\n",
       "    </tr>\n",
       "    <tr>\n",
       "      <th>6</th>\n",
       "      <td>PT08.S2(NMHC)</td>\n",
       "      <td>PT08.S2 (диоксид титана), усредненный за час ...</td>\n",
       "      <td>вещественный</td>\n",
       "    </tr>\n",
       "    <tr>\n",
       "      <th>7</th>\n",
       "      <td>NOx(GT)</td>\n",
       "      <td>Истинная усредненная за час концентрация NOx в...</td>\n",
       "      <td>вещественный</td>\n",
       "    </tr>\n",
       "    <tr>\n",
       "      <th>8</th>\n",
       "      <td>PT08.S3(NOx)</td>\n",
       "      <td>PT08.S3 (оксид вольфрама), усредненный за час ...</td>\n",
       "      <td>вещественный</td>\n",
       "    </tr>\n",
       "    <tr>\n",
       "      <th>9</th>\n",
       "      <td>NO2(GT)</td>\n",
       "      <td>Истинная усредненная за час концентрация NO2 в...</td>\n",
       "      <td>вещественный</td>\n",
       "    </tr>\n",
       "    <tr>\n",
       "      <th>10</th>\n",
       "      <td>PT08.S4(NO2)</td>\n",
       "      <td>PT08.S4 (оксид вольфрама), усредненный за час ...</td>\n",
       "      <td>вещественный</td>\n",
       "    </tr>\n",
       "    <tr>\n",
       "      <th>11</th>\n",
       "      <td>PT08.S5(O3)</td>\n",
       "      <td>PT08.S5 (оксид индия) усредненный за час откли...</td>\n",
       "      <td>вещественный</td>\n",
       "    </tr>\n",
       "    <tr>\n",
       "      <th>12</th>\n",
       "      <td>T</td>\n",
       "      <td>Температура в ° C</td>\n",
       "      <td>объектный</td>\n",
       "    </tr>\n",
       "    <tr>\n",
       "      <th>13</th>\n",
       "      <td>RH</td>\n",
       "      <td>Относительная влажность (%)</td>\n",
       "      <td>объектный</td>\n",
       "    </tr>\n",
       "    <tr>\n",
       "      <th>14</th>\n",
       "      <td>AH</td>\n",
       "      <td>Абсолютная влажность</td>\n",
       "      <td>объектный</td>\n",
       "    </tr>\n",
       "  </tbody>\n",
       "</table>\n",
       "</div>"
      ],
      "text/plain": [
       "           Признак                                           Описание  \\\n",
       "0            Date                                                Дата   \n",
       "1             Time                                              Время   \n",
       "2           CO(GT)  Истинная усредненная за час концентрация CO в ...   \n",
       "3      PT08.S1(CO)  PT08.S1 (оксид олова) усредненный за час откли...   \n",
       "4         NMHC(GT)  Истинное часовое усреднение общей концентрации...   \n",
       "5         C6H6(GT)  Истинная усредненная почасовая концентрация бе...   \n",
       "6   PT08.S2(NMHC)    PT08.S2 (диоксид титана), усредненный за час ...   \n",
       "7         NOx(GT)   Истинная усредненная за час концентрация NOx в...   \n",
       "8    PT08.S3(NOx)   PT08.S3 (оксид вольфрама), усредненный за час ...   \n",
       "9         NO2(GT)   Истинная усредненная за час концентрация NO2 в...   \n",
       "10    PT08.S4(NO2)  PT08.S4 (оксид вольфрама), усредненный за час ...   \n",
       "11     PT08.S5(O3)  PT08.S5 (оксид индия) усредненный за час откли...   \n",
       "12               T                                  Температура в ° C   \n",
       "13             RH                         Относительная влажность (%)   \n",
       "14             AH                                Абсолютная влажность   \n",
       "\n",
       "             Тип  \n",
       "0      объектный  \n",
       "1      объектный  \n",
       "2      объектный  \n",
       "3   вещественный  \n",
       "4   вещественный  \n",
       "5      объектный  \n",
       "6   вещественный  \n",
       "7   вещественный  \n",
       "8   вещественный  \n",
       "9   вещественный  \n",
       "10  вещественный  \n",
       "11  вещественный  \n",
       "12     объектный  \n",
       "13     объектный  \n",
       "14     объектный  "
      ]
     },
     "execution_count": 31,
     "metadata": {},
     "output_type": "execute_result"
    }
   ],
   "source": [
    "tabledata = [[\"Date \", \"Дата\", \"объектный\"], #создание новой таблицы\n",
    "             [\"Time\", \"Время\",\"объектный\"],\n",
    "             [\"CO(GT)\", \"Истинная усредненная за час концентрация CO в мг / м ^ 3 (эталонный анализатор)\",\"объектный\"],\n",
    "             [\"PT08.S1(CO)\", \"PT08.S1 (оксид олова) усредненный за час отклик датчика (номинальный целевой уровень CO)\",\"вещественный\"],\n",
    "             [\"NMHC(GT)\", \"Истинное часовое усреднение общей концентрации неметанических углеводородов в мкг / м ^ 3 (эталонный анализатор)\",\"вещественный\"],\n",
    "             [\"C6H6(GT)\", \"Истинная усредненная почасовая концентрация бензола в мкг / м ^ 3 (эталонный анализатор)\",\"объектный\"],\n",
    "             [\"PT08.S2(NMHC) \", \" PT08.S2 (диоксид титана), усредненный за час отклик сенсора (номинально нацеленный на NMHC)\", \"вещественный\"],\n",
    "             [\"NOx(GT) \", \"Истинная усредненная за час концентрация NOx в частях на миллиард (эталонный анализатор)\", \"вещественный\"],\n",
    "             [\"PT08.S3(NOx) \", \"PT08.S3 (оксид вольфрама), усредненный за час отклик датчика (номинальное значение NOx)\", \"вещественный\"],\n",
    "             [\"NO2(GT) \", \"Истинная усредненная за час концентрация NO2 в мкг / м ^ 3 (эталонный анализатор)\", \"вещественный\"],\n",
    "             [\"PT08.S4(NO2)\", \"PT08.S4 (оксид вольфрама), усредненный за час отклик датчика (номинальное значение NO2)\", \"вещественный\"],\n",
    "             [\"PT08.S5(O3)\", \"PT08.S5 (оксид индия) усредненный за час отклик датчика (номинально заданный O3)\", \"вещественный\"],\n",
    "             [\"T\", \"Температура в ° C\", \"объектный\"],\n",
    "             [\"RH \", \"Относительная влажность (%)\", \"объектный\"],\n",
    "             [\"AH \", \"Абсолютная влажность\", \"объектный\"],] \n",
    "tabledata\n",
    "pd.DataFrame(tabledata, columns=[\" Признак\",\"Описание\", \"Тип\"]) #название колонок"
   ]
  },
  {
   "cell_type": "markdown",
   "id": "filled-treaty",
   "metadata": {},
   "source": [
    "### 2.Удалите дубликаты строк в наборе данных; приведите размер набора данных до и после данной операции."
   ]
  },
  {
   "cell_type": "code",
   "execution_count": 32,
   "id": "historic-bosnia",
   "metadata": {},
   "outputs": [
    {
     "data": {
      "text/plain": [
       "(9471, 17)"
      ]
     },
     "execution_count": 32,
     "metadata": {},
     "output_type": "execute_result"
    }
   ],
   "source": [
    "df.shape #shape - размера, формы и размеров фреймов данных и серий."
   ]
  },
  {
   "cell_type": "code",
   "execution_count": 33,
   "id": "national-purse",
   "metadata": {},
   "outputs": [
    {
     "data": {
      "text/plain": [
       "(9471, 17)"
      ]
     },
     "execution_count": 33,
     "metadata": {},
     "output_type": "execute_result"
    }
   ],
   "source": [
    "df.drop_duplicates() #drop_duplicates - помогает удалить дубликаты из фрейма данных.inplace=True - удаляет строки с дубликатами, если True.\n",
    "df.shape"
   ]
  },
  {
   "cell_type": "markdown",
   "id": "relevant-calendar",
   "metadata": {},
   "source": [
    "### 3.Выполните масштабирование количественных признаков; Постройте диаграммы BoxPlot для признаков до и после масштабирования. Выберите способ масштабирования (например, нормализацию или стандартизацию)"
   ]
  },
  {
   "cell_type": "markdown",
   "id": "intimate-mouse",
   "metadata": {},
   "source": [
    "#### Разделим признаки на категориальные и количественные"
   ]
  },
  {
   "cell_type": "code",
   "execution_count": 34,
   "id": "attached-stevens",
   "metadata": {},
   "outputs": [
    {
     "data": {
      "text/plain": [
       "Date              391\n",
       "Time               24\n",
       "CO(GT)            104\n",
       "PT08.S1(CO)      1042\n",
       "NMHC(GT)          430\n",
       "C6H6(GT)          408\n",
       "PT08.S2(NMHC)    1246\n",
       "NOx(GT)           926\n",
       "PT08.S3(NOx)     1222\n",
       "NO2(GT)           284\n",
       "PT08.S4(NO2)     1604\n",
       "PT08.S5(O3)      1744\n",
       "T                 437\n",
       "RH                754\n",
       "AH               6684\n",
       "Unnamed: 15         0\n",
       "Unnamed: 16         0\n",
       "dtype: int64"
      ]
     },
     "execution_count": 34,
     "metadata": {},
     "output_type": "execute_result"
    }
   ],
   "source": [
    "df.nunique() #nunique() используется для подсчета уникальных значений."
   ]
  },
  {
   "cell_type": "code",
   "execution_count": 35,
   "id": "adjacent-moscow",
   "metadata": {},
   "outputs": [
    {
     "name": "stdout",
     "output_type": "stream",
     "text": [
      "Numerical ['PT08.S1(CO)', 'NMHC(GT)', 'PT08.S2(NMHC)', 'NOx(GT)', 'PT08.S3(NOx)', 'NO2(GT)', 'PT08.S4(NO2)', 'PT08.S5(O3)', 'Unnamed: 15', 'Unnamed: 16']\n",
      "Categorial ['Date', 'Time', 'CO(GT)', 'C6H6(GT)', 'T', 'RH', 'AH']\n"
     ]
    }
   ],
   "source": [
    "numerical = [i for i in df.columns if df[i].dtype.name != 'object'] # цикл для отбра колонок с количественными признаками\n",
    "categorial = [i for i in df.columns if df[i].dtype.name == 'object'] # цикл для отбора качественных признаков\n",
    "print(\"Numerical\",numerical)\n",
    "print(\"Categorial\",categorial)"
   ]
  },
  {
   "cell_type": "code",
   "execution_count": 36,
   "id": "first-gravity",
   "metadata": {},
   "outputs": [
    {
     "data": {
      "image/png": "[encoded data removed]",
      "text/plain": [
       "<Figure size 1080x576 with 1 Axes>"
      ]
     },
     "metadata": {
      "needs_background": "light"
     },
     "output_type": "display_data"
    }
   ],
   "source": [
    "plt.figure(figsize=(15,8)) #создаем фигуру размером 15 на 8\n",
    "sns.boxplot(data=df[numerical]) #выбираем нужные колонки\n",
    "plt.show() #вывод боксплота"
   ]
  },
  {
   "cell_type": "code",
   "execution_count": 37,
   "id": "encouraging-delhi",
   "metadata": {},
   "outputs": [
    {
     "data": {
      "text/html": [
       "<div>\n",
       "<style scoped>\n",
       "    .dataframe tbody tr th:only-of-type {\n",
       "        vertical-align: middle;\n",
       "    }\n",
       "\n",
       "    .dataframe tbody tr th {\n",
       "        vertical-align: top;\n",
       "    }\n",
       "\n",
       "    .dataframe thead th {\n",
       "        text-align: right;\n",
       "    }\n",
       "</style>\n",
       "<table border=\"1\" class=\"dataframe\">\n",
       "  <thead>\n",
       "    <tr style=\"text-align: right;\">\n",
       "      <th></th>\n",
       "      <th>Date</th>\n",
       "      <th>Time</th>\n",
       "      <th>CO(GT)</th>\n",
       "      <th>PT08.S1(CO)</th>\n",
       "      <th>NMHC(GT)</th>\n",
       "      <th>C6H6(GT)</th>\n",
       "      <th>PT08.S2(NMHC)</th>\n",
       "      <th>NOx(GT)</th>\n",
       "      <th>PT08.S3(NOx)</th>\n",
       "      <th>NO2(GT)</th>\n",
       "      <th>PT08.S4(NO2)</th>\n",
       "      <th>PT08.S5(O3)</th>\n",
       "      <th>T</th>\n",
       "      <th>RH</th>\n",
       "      <th>AH</th>\n",
       "      <th>Unnamed: 15</th>\n",
       "      <th>Unnamed: 16</th>\n",
       "    </tr>\n",
       "  </thead>\n",
       "  <tbody>\n",
       "    <tr>\n",
       "      <th>0</th>\n",
       "      <td>10/03/2004</td>\n",
       "      <td>18.00.00</td>\n",
       "      <td>2,6</td>\n",
       "      <td>0.696429</td>\n",
       "      <td>0.251980</td>\n",
       "      <td>11,9</td>\n",
       "      <td>0.516156</td>\n",
       "      <td>0.217987</td>\n",
       "      <td>0.435657</td>\n",
       "      <td>0.579630</td>\n",
       "      <td>0.635966</td>\n",
       "      <td>0.539111</td>\n",
       "      <td>13,6</td>\n",
       "      <td>48,9</td>\n",
       "      <td>0,7578</td>\n",
       "      <td>NaN</td>\n",
       "      <td>NaN</td>\n",
       "    </tr>\n",
       "    <tr>\n",
       "      <th>1</th>\n",
       "      <td>10/03/2004</td>\n",
       "      <td>19.00.00</td>\n",
       "      <td>2</td>\n",
       "      <td>0.666071</td>\n",
       "      <td>0.224622</td>\n",
       "      <td>9,4</td>\n",
       "      <td>0.478459</td>\n",
       "      <td>0.180465</td>\n",
       "      <td>0.476587</td>\n",
       "      <td>0.540741</td>\n",
       "      <td>0.591261</td>\n",
       "      <td>0.430408</td>\n",
       "      <td>13,3</td>\n",
       "      <td>47,7</td>\n",
       "      <td>0,7255</td>\n",
       "      <td>NaN</td>\n",
       "      <td>NaN</td>\n",
       "    </tr>\n",
       "    <tr>\n",
       "      <th>2</th>\n",
       "      <td>10/03/2004</td>\n",
       "      <td>20.00.00</td>\n",
       "      <td>2,2</td>\n",
       "      <td>0.715179</td>\n",
       "      <td>0.207343</td>\n",
       "      <td>9,0</td>\n",
       "      <td>0.471831</td>\n",
       "      <td>0.197141</td>\n",
       "      <td>0.464794</td>\n",
       "      <td>0.581481</td>\n",
       "      <td>0.589916</td>\n",
       "      <td>0.467866</td>\n",
       "      <td>11,9</td>\n",
       "      <td>54,0</td>\n",
       "      <td>0,7502</td>\n",
       "      <td>NaN</td>\n",
       "      <td>NaN</td>\n",
       "    </tr>\n",
       "    <tr>\n",
       "      <th>3</th>\n",
       "      <td>10/03/2004</td>\n",
       "      <td>21.00.00</td>\n",
       "      <td>2,2</td>\n",
       "      <td>0.703571</td>\n",
       "      <td>0.201584</td>\n",
       "      <td>9,2</td>\n",
       "      <td>0.475559</td>\n",
       "      <td>0.221560</td>\n",
       "      <td>0.448144</td>\n",
       "      <td>0.596296</td>\n",
       "      <td>0.599664</td>\n",
       "      <td>0.515241</td>\n",
       "      <td>11,0</td>\n",
       "      <td>60,0</td>\n",
       "      <td>0,7867</td>\n",
       "      <td>NaN</td>\n",
       "      <td>NaN</td>\n",
       "    </tr>\n",
       "    <tr>\n",
       "      <th>4</th>\n",
       "      <td>10/03/2004</td>\n",
       "      <td>22.00.00</td>\n",
       "      <td>1,6</td>\n",
       "      <td>0.657143</td>\n",
       "      <td>0.180706</td>\n",
       "      <td>6,5</td>\n",
       "      <td>0.429163</td>\n",
       "      <td>0.197141</td>\n",
       "      <td>0.487340</td>\n",
       "      <td>0.585185</td>\n",
       "      <td>0.568067</td>\n",
       "      <td>0.481087</td>\n",
       "      <td>11,2</td>\n",
       "      <td>59,6</td>\n",
       "      <td>0,7888</td>\n",
       "      <td>NaN</td>\n",
       "      <td>NaN</td>\n",
       "    </tr>\n",
       "  </tbody>\n",
       "</table>\n",
       "</div>"
      ],
      "text/plain": [
       "         Date      Time CO(GT)  PT08.S1(CO)  NMHC(GT) C6H6(GT)  PT08.S2(NMHC)  \\\n",
       "0  10/03/2004  18.00.00    2,6     0.696429  0.251980     11,9       0.516156   \n",
       "1  10/03/2004  19.00.00      2     0.666071  0.224622      9,4       0.478459   \n",
       "2  10/03/2004  20.00.00    2,2     0.715179  0.207343      9,0       0.471831   \n",
       "3  10/03/2004  21.00.00    2,2     0.703571  0.201584      9,2       0.475559   \n",
       "4  10/03/2004  22.00.00    1,6     0.657143  0.180706      6,5       0.429163   \n",
       "\n",
       "    NOx(GT)  PT08.S3(NOx)   NO2(GT)  PT08.S4(NO2)  PT08.S5(O3)     T    RH  \\\n",
       "0  0.217987      0.435657  0.579630      0.635966     0.539111  13,6  48,9   \n",
       "1  0.180465      0.476587  0.540741      0.591261     0.430408  13,3  47,7   \n",
       "2  0.197141      0.464794  0.581481      0.589916     0.467866  11,9  54,0   \n",
       "3  0.221560      0.448144  0.596296      0.599664     0.515241  11,0  60,0   \n",
       "4  0.197141      0.487340  0.585185      0.568067     0.481087  11,2  59,6   \n",
       "\n",
       "       AH  Unnamed: 15  Unnamed: 16  \n",
       "0  0,7578          NaN          NaN  \n",
       "1  0,7255          NaN          NaN  \n",
       "2  0,7502          NaN          NaN  \n",
       "3  0,7867          NaN          NaN  \n",
       "4  0,7888          NaN          NaN  "
      ]
     },
     "execution_count": 37,
     "metadata": {},
     "output_type": "execute_result"
    }
   ],
   "source": [
    "scaler = MinMaxScaler() #Диапазон по умолчанию для функции, возвращаемой MinMaxScaler, составляет от 0 до 1.\n",
    "df[numerical] = scaler.fit_transform(df[numerical]) #Применяем функцию к набору данных с помощью функции fit_transform().\n",
    "df.head() #вывод таблицы"
   ]
  },
  {
   "cell_type": "code",
   "execution_count": 38,
   "id": "important-mathematics",
   "metadata": {},
   "outputs": [
    {
     "data": {
      "image/png": "[encoded data removed]",
      "text/plain": [
       "<Figure size 1080x576 with 1 Axes>"
      ]
     },
     "metadata": {
      "needs_background": "light"
     },
     "output_type": "display_data"
    }
   ],
   "source": [
    "plt.figure(figsize=(15,8)) #вывод таблицы после маштабирования\n",
    "sns.boxplot(data=df[numerical])\n",
    "plt.show() "
   ]
  },
  {
   "cell_type": "markdown",
   "id": "julian-robert",
   "metadata": {},
   "source": [
    "### 4.Выполните замену категориальных признаков;выберите и обоснуйте способ замены"
   ]
  },
  {
   "cell_type": "code",
   "execution_count": 39,
   "id": "sized-three",
   "metadata": {},
   "outputs": [
    {
     "data": {
      "text/html": [
       "<div>\n",
       "<style scoped>\n",
       "    .dataframe tbody tr th:only-of-type {\n",
       "        vertical-align: middle;\n",
       "    }\n",
       "\n",
       "    .dataframe tbody tr th {\n",
       "        vertical-align: top;\n",
       "    }\n",
       "\n",
       "    .dataframe thead th {\n",
       "        text-align: right;\n",
       "    }\n",
       "</style>\n",
       "<table border=\"1\" class=\"dataframe\">\n",
       "  <thead>\n",
       "    <tr style=\"text-align: right;\">\n",
       "      <th></th>\n",
       "      <th>Date</th>\n",
       "      <th>Time</th>\n",
       "      <th>CO(GT)</th>\n",
       "      <th>PT08.S1(CO)</th>\n",
       "      <th>NMHC(GT)</th>\n",
       "      <th>C6H6(GT)</th>\n",
       "      <th>PT08.S2(NMHC)</th>\n",
       "      <th>NOx(GT)</th>\n",
       "      <th>PT08.S3(NOx)</th>\n",
       "      <th>NO2(GT)</th>\n",
       "      <th>PT08.S4(NO2)</th>\n",
       "      <th>PT08.S5(O3)</th>\n",
       "      <th>T</th>\n",
       "      <th>RH</th>\n",
       "      <th>AH</th>\n",
       "      <th>Unnamed: 15</th>\n",
       "      <th>Unnamed: 16</th>\n",
       "    </tr>\n",
       "  </thead>\n",
       "  <tbody>\n",
       "    <tr>\n",
       "      <th>0</th>\n",
       "      <td>114</td>\n",
       "      <td>18</td>\n",
       "      <td>33</td>\n",
       "      <td>0.696429</td>\n",
       "      <td>0.251980</td>\n",
       "      <td>39</td>\n",
       "      <td>0.516156</td>\n",
       "      <td>0.217987</td>\n",
       "      <td>0.435657</td>\n",
       "      <td>0.579630</td>\n",
       "      <td>0.635966</td>\n",
       "      <td>0.539111</td>\n",
       "      <td>66</td>\n",
       "      <td>375</td>\n",
       "      <td>1896</td>\n",
       "      <td>NaN</td>\n",
       "      <td>NaN</td>\n",
       "    </tr>\n",
       "    <tr>\n",
       "      <th>1</th>\n",
       "      <td>114</td>\n",
       "      <td>19</td>\n",
       "      <td>26</td>\n",
       "      <td>0.666071</td>\n",
       "      <td>0.224622</td>\n",
       "      <td>402</td>\n",
       "      <td>0.478459</td>\n",
       "      <td>0.180465</td>\n",
       "      <td>0.476587</td>\n",
       "      <td>0.540741</td>\n",
       "      <td>0.591261</td>\n",
       "      <td>0.430408</td>\n",
       "      <td>63</td>\n",
       "      <td>363</td>\n",
       "      <td>1727</td>\n",
       "      <td>NaN</td>\n",
       "      <td>NaN</td>\n",
       "    </tr>\n",
       "    <tr>\n",
       "      <th>2</th>\n",
       "      <td>114</td>\n",
       "      <td>20</td>\n",
       "      <td>29</td>\n",
       "      <td>0.715179</td>\n",
       "      <td>0.207343</td>\n",
       "      <td>398</td>\n",
       "      <td>0.471831</td>\n",
       "      <td>0.197141</td>\n",
       "      <td>0.464794</td>\n",
       "      <td>0.581481</td>\n",
       "      <td>0.589916</td>\n",
       "      <td>0.467866</td>\n",
       "      <td>49</td>\n",
       "      <td>426</td>\n",
       "      <td>1853</td>\n",
       "      <td>NaN</td>\n",
       "      <td>NaN</td>\n",
       "    </tr>\n",
       "    <tr>\n",
       "      <th>3</th>\n",
       "      <td>114</td>\n",
       "      <td>21</td>\n",
       "      <td>29</td>\n",
       "      <td>0.703571</td>\n",
       "      <td>0.201584</td>\n",
       "      <td>400</td>\n",
       "      <td>0.475559</td>\n",
       "      <td>0.221560</td>\n",
       "      <td>0.448144</td>\n",
       "      <td>0.596296</td>\n",
       "      <td>0.599664</td>\n",
       "      <td>0.515241</td>\n",
       "      <td>40</td>\n",
       "      <td>486</td>\n",
       "      <td>2056</td>\n",
       "      <td>NaN</td>\n",
       "      <td>NaN</td>\n",
       "    </tr>\n",
       "    <tr>\n",
       "      <th>4</th>\n",
       "      <td>114</td>\n",
       "      <td>22</td>\n",
       "      <td>18</td>\n",
       "      <td>0.657143</td>\n",
       "      <td>0.180706</td>\n",
       "      <td>372</td>\n",
       "      <td>0.429163</td>\n",
       "      <td>0.197141</td>\n",
       "      <td>0.487340</td>\n",
       "      <td>0.585185</td>\n",
       "      <td>0.568067</td>\n",
       "      <td>0.481087</td>\n",
       "      <td>42</td>\n",
       "      <td>482</td>\n",
       "      <td>2066</td>\n",
       "      <td>NaN</td>\n",
       "      <td>NaN</td>\n",
       "    </tr>\n",
       "    <tr>\n",
       "      <th>...</th>\n",
       "      <td>...</td>\n",
       "      <td>...</td>\n",
       "      <td>...</td>\n",
       "      <td>...</td>\n",
       "      <td>...</td>\n",
       "      <td>...</td>\n",
       "      <td>...</td>\n",
       "      <td>...</td>\n",
       "      <td>...</td>\n",
       "      <td>...</td>\n",
       "      <td>...</td>\n",
       "      <td>...</td>\n",
       "      <td>...</td>\n",
       "      <td>...</td>\n",
       "      <td>...</td>\n",
       "      <td>...</td>\n",
       "      <td>...</td>\n",
       "    </tr>\n",
       "    <tr>\n",
       "      <th>9466</th>\n",
       "      <td>391</td>\n",
       "      <td>24</td>\n",
       "      <td>104</td>\n",
       "      <td>NaN</td>\n",
       "      <td>NaN</td>\n",
       "      <td>408</td>\n",
       "      <td>NaN</td>\n",
       "      <td>NaN</td>\n",
       "      <td>NaN</td>\n",
       "      <td>NaN</td>\n",
       "      <td>NaN</td>\n",
       "      <td>NaN</td>\n",
       "      <td>437</td>\n",
       "      <td>754</td>\n",
       "      <td>6684</td>\n",
       "      <td>NaN</td>\n",
       "      <td>NaN</td>\n",
       "    </tr>\n",
       "    <tr>\n",
       "      <th>9467</th>\n",
       "      <td>391</td>\n",
       "      <td>24</td>\n",
       "      <td>104</td>\n",
       "      <td>NaN</td>\n",
       "      <td>NaN</td>\n",
       "      <td>408</td>\n",
       "      <td>NaN</td>\n",
       "      <td>NaN</td>\n",
       "      <td>NaN</td>\n",
       "      <td>NaN</td>\n",
       "      <td>NaN</td>\n",
       "      <td>NaN</td>\n",
       "      <td>437</td>\n",
       "      <td>754</td>\n",
       "      <td>6684</td>\n",
       "      <td>NaN</td>\n",
       "      <td>NaN</td>\n",
       "    </tr>\n",
       "    <tr>\n",
       "      <th>9468</th>\n",
       "      <td>391</td>\n",
       "      <td>24</td>\n",
       "      <td>104</td>\n",
       "      <td>NaN</td>\n",
       "      <td>NaN</td>\n",
       "      <td>408</td>\n",
       "      <td>NaN</td>\n",
       "      <td>NaN</td>\n",
       "      <td>NaN</td>\n",
       "      <td>NaN</td>\n",
       "      <td>NaN</td>\n",
       "      <td>NaN</td>\n",
       "      <td>437</td>\n",
       "      <td>754</td>\n",
       "      <td>6684</td>\n",
       "      <td>NaN</td>\n",
       "      <td>NaN</td>\n",
       "    </tr>\n",
       "    <tr>\n",
       "      <th>9469</th>\n",
       "      <td>391</td>\n",
       "      <td>24</td>\n",
       "      <td>104</td>\n",
       "      <td>NaN</td>\n",
       "      <td>NaN</td>\n",
       "      <td>408</td>\n",
       "      <td>NaN</td>\n",
       "      <td>NaN</td>\n",
       "      <td>NaN</td>\n",
       "      <td>NaN</td>\n",
       "      <td>NaN</td>\n",
       "      <td>NaN</td>\n",
       "      <td>437</td>\n",
       "      <td>754</td>\n",
       "      <td>6684</td>\n",
       "      <td>NaN</td>\n",
       "      <td>NaN</td>\n",
       "    </tr>\n",
       "    <tr>\n",
       "      <th>9470</th>\n",
       "      <td>391</td>\n",
       "      <td>24</td>\n",
       "      <td>104</td>\n",
       "      <td>NaN</td>\n",
       "      <td>NaN</td>\n",
       "      <td>408</td>\n",
       "      <td>NaN</td>\n",
       "      <td>NaN</td>\n",
       "      <td>NaN</td>\n",
       "      <td>NaN</td>\n",
       "      <td>NaN</td>\n",
       "      <td>NaN</td>\n",
       "      <td>437</td>\n",
       "      <td>754</td>\n",
       "      <td>6684</td>\n",
       "      <td>NaN</td>\n",
       "      <td>NaN</td>\n",
       "    </tr>\n",
       "  </tbody>\n",
       "</table>\n",
       "<p>9471 rows × 17 columns</p>\n",
       "</div>"
      ],
      "text/plain": [
       "      Date  Time  CO(GT)  PT08.S1(CO)  NMHC(GT)  C6H6(GT)  PT08.S2(NMHC)  \\\n",
       "0      114    18      33     0.696429  0.251980        39       0.516156   \n",
       "1      114    19      26     0.666071  0.224622       402       0.478459   \n",
       "2      114    20      29     0.715179  0.207343       398       0.471831   \n",
       "3      114    21      29     0.703571  0.201584       400       0.475559   \n",
       "4      114    22      18     0.657143  0.180706       372       0.429163   \n",
       "...    ...   ...     ...          ...       ...       ...            ...   \n",
       "9466   391    24     104          NaN       NaN       408            NaN   \n",
       "9467   391    24     104          NaN       NaN       408            NaN   \n",
       "9468   391    24     104          NaN       NaN       408            NaN   \n",
       "9469   391    24     104          NaN       NaN       408            NaN   \n",
       "9470   391    24     104          NaN       NaN       408            NaN   \n",
       "\n",
       "       NOx(GT)  PT08.S3(NOx)   NO2(GT)  PT08.S4(NO2)  PT08.S5(O3)    T   RH  \\\n",
       "0     0.217987      0.435657  0.579630      0.635966     0.539111   66  375   \n",
       "1     0.180465      0.476587  0.540741      0.591261     0.430408   63  363   \n",
       "2     0.197141      0.464794  0.581481      0.589916     0.467866   49  426   \n",
       "3     0.221560      0.448144  0.596296      0.599664     0.515241   40  486   \n",
       "4     0.197141      0.487340  0.585185      0.568067     0.481087   42  482   \n",
       "...        ...           ...       ...           ...          ...  ...  ...   \n",
       "9466       NaN           NaN       NaN           NaN          NaN  437  754   \n",
       "9467       NaN           NaN       NaN           NaN          NaN  437  754   \n",
       "9468       NaN           NaN       NaN           NaN          NaN  437  754   \n",
       "9469       NaN           NaN       NaN           NaN          NaN  437  754   \n",
       "9470       NaN           NaN       NaN           NaN          NaN  437  754   \n",
       "\n",
       "        AH  Unnamed: 15  Unnamed: 16  \n",
       "0     1896          NaN          NaN  \n",
       "1     1727          NaN          NaN  \n",
       "2     1853          NaN          NaN  \n",
       "3     2056          NaN          NaN  \n",
       "4     2066          NaN          NaN  \n",
       "...    ...          ...          ...  \n",
       "9466  6684          NaN          NaN  \n",
       "9467  6684          NaN          NaN  \n",
       "9468  6684          NaN          NaN  \n",
       "9469  6684          NaN          NaN  \n",
       "9470  6684          NaN          NaN  \n",
       "\n",
       "[9471 rows x 17 columns]"
      ]
     },
     "execution_count": 39,
     "metadata": {},
     "output_type": "execute_result"
    }
   ],
   "source": [
    "labelEncoder = LabelEncoder() #Создание экземпляра объекта LabelEncoder\n",
    "df['Date'] = labelEncoder.fit_transform(df['Date']) \n",
    "df['Time'] = labelEncoder.fit_transform(df['Time']) \n",
    "df['CO(GT)'] = labelEncoder.fit_transform(df['CO(GT)']) \n",
    "df['C6H6(GT)'] = labelEncoder.fit_transform(df['C6H6(GT)']) \n",
    "df['T'] = labelEncoder.fit_transform(df['T']) \n",
    "df['RH'] = labelEncoder.fit_transform(df['RH']) \n",
    "df['AH'] = labelEncoder.fit_transform(df['AH']) \n",
    "df #Вывод таблицы"
   ]
  },
  {
   "cell_type": "markdown",
   "id": "judicial-designer",
   "metadata": {},
   "source": [
    "### 5. Оцените корреляцию между признаков и удалите те признаки, которые коррелируют с наибольшим числом других (удалять признаки нужно только для линейных методов классификации);"
   ]
  },
  {
   "cell_type": "code",
   "execution_count": 40,
   "id": "polyphonic-dealing",
   "metadata": {},
   "outputs": [
    {
     "data": {
      "text/plain": [
       "<AxesSubplot:>"
      ]
     },
     "execution_count": 40,
     "metadata": {},
     "output_type": "execute_result"
    },
    {
     "data": {
      "image/png": "[encoded data removed]",
      "text/plain": [
       "<Figure size 432x288 with 2 Axes>"
      ]
     },
     "metadata": {
      "needs_background": "light"
     },
     "output_type": "display_data"
    }
   ],
   "source": [
    "corr_df = df.corr() #создание нового фрейма по корреляции\n",
    "sns.heatmap(corr_df, annot=True, fmt='.1f')\n",
    "#Метод .corr() - будет добавлен к данным в качестве первого аргумента\n",
    "#annot=True, который помогает отобразить коэффициент корреляции.\n",
    "# fmt = '.1g' - отображение одной цифры, после запятой "
   ]
  },
  {
   "cell_type": "markdown",
   "id": "removed-slide",
   "metadata": {},
   "source": [
    "### 6.Заполните пропущенные значения в данных;"
   ]
  },
  {
   "cell_type": "code",
   "execution_count": 41,
   "id": "premium-catholic",
   "metadata": {},
   "outputs": [
    {
     "data": {
      "text/plain": [
       "Date             9471\n",
       "Time             9471\n",
       "CO(GT)           9471\n",
       "PT08.S1(CO)      9471\n",
       "NMHC(GT)         9471\n",
       "C6H6(GT)         9471\n",
       "PT08.S2(NMHC)    9471\n",
       "NOx(GT)          9471\n",
       "PT08.S3(NOx)     9471\n",
       "NO2(GT)          9471\n",
       "PT08.S4(NO2)     9471\n",
       "PT08.S5(O3)      9471\n",
       "T                9471\n",
       "RH               9471\n",
       "AH               9471\n",
       "Unnamed: 15      9471\n",
       "Unnamed: 16      9471\n",
       "dtype: int64"
      ]
     },
     "execution_count": 41,
     "metadata": {},
     "output_type": "execute_result"
    }
   ],
   "source": [
    "df.notnull().count() #вывод ненулевых значений и их подсчет"
   ]
  },
  {
   "cell_type": "markdown",
   "id": "veterinary-cinema",
   "metadata": {},
   "source": [
    "### 7.Решите поставленную задачу регрессии в соответствии с заданием. При подборе параметров метода принятия решения (метода регрессии) используйтеперекрёстную проверку (изучите возможные для изменения параметры метода регрессии). Вычислите точность решения задачи, вычислив разницу между реальным значением и предсказанным. Вычислите коэффициент корреляции (Пирсона, Спирмена) между реальным значением и предсказаннымс учётом p-value."
   ]
  },
  {
   "cell_type": "code",
   "execution_count": 42,
   "id": "seeing-collectible",
   "metadata": {},
   "outputs": [],
   "source": [
    "df.fillna(0, inplace=True)"
   ]
  },
  {
   "cell_type": "markdown",
   "id": "typical-diagnosis",
   "metadata": {},
   "source": [
    "#### линейная регрессия, LASSO регуляризатор"
   ]
  },
  {
   "cell_type": "code",
   "execution_count": 43,
   "id": "flying-carrier",
   "metadata": {},
   "outputs": [
    {
     "data": {
      "text/plain": [
       "Lasso(alpha=0.1)"
      ]
     },
     "execution_count": 43,
     "metadata": {},
     "output_type": "execute_result"
    }
   ],
   "source": [
    "from  sklearn import linear_model\n",
    "#разделяем данных на “атрибуты” и “метки”. Атрибуты являются независимыми переменными, а метки-зависимыми переменными, значения которых должны быть предсказаны.\n",
    "X, y = df.drop(['NMHC(GT)'], axis=1), df['NMHC(GT)']\n",
    "#разделяем эти данные на обучающие и тестовые наборы. Мы сделаем это с помощью встроенного метода Scikit-Learn train_test_split()\n",
    "X_train, X_test, y_train, y_test = train_test_split(X, y, test_size = 0.3, random_state = 123) #разбивает 70% данных на обучающий набор, а 30% – на тестовый. Переменная test_size – это то место, где мы фактически указываем долю тестового набора.\n",
    "#обучение алгоритма\n",
    "reg = linear_model.Lasso (alpha = 0.1)\n",
    "reg.fit (X_train, y_train)"
   ]
  },
  {
   "cell_type": "code",
   "execution_count": 44,
   "id": "little-wichita",
   "metadata": {},
   "outputs": [
    {
     "name": "stdout",
     "output_type": "stream",
     "text": [
      "[ 0.04771095  0.07753458  0.00212299  0.05598622  0.04320068  0.01056354\n",
      "  0.025511   -0.00413781  0.01049732 -0.02184445]\n"
     ]
    }
   ],
   "source": [
    "#выводим реальные значения\n",
    "xt = reg.predict(X_test)\n",
    "print(xt[:10])"
   ]
  },
  {
   "cell_type": "code",
   "execution_count": 45,
   "id": "disabled-pavilion",
   "metadata": {},
   "outputs": [
    {
     "name": "stdout",
     "output_type": "stream",
     "text": [
      "1102    0.190065\n",
      "8763    0.000000\n",
      "2091    0.000000\n",
      "439     0.163427\n",
      "8734    0.000000\n",
      "2652    0.000000\n",
      "8466    0.000000\n",
      "3855    0.000000\n",
      "5071    0.000000\n",
      "3548    0.000000\n",
      "Name: NMHC(GT), dtype: float64\n"
     ]
    }
   ],
   "source": [
    "#выводим предсказанные значения\n",
    "print(y_test[:10])"
   ]
  },
  {
   "cell_type": "code",
   "execution_count": 46,
   "id": "vanilla-insider",
   "metadata": {},
   "outputs": [
    {
     "name": "stdout",
     "output_type": "stream",
     "text": [
      "1102   -0.142354\n",
      "8763    0.077535\n",
      "2091    0.002123\n",
      "439    -0.107441\n",
      "8734    0.043201\n",
      "2652    0.010564\n",
      "8466    0.025511\n",
      "3855   -0.004138\n",
      "5071    0.010497\n",
      "3548   -0.021844\n",
      "Name: NMHC(GT), dtype: float64\n"
     ]
    }
   ],
   "source": [
    "#Вычислияем точность решения задачи, вычислив разницу между реальным значением и предсказанным.\n",
    "print(xt[:10]-y_test[:10])"
   ]
  },
  {
   "cell_type": "code",
   "execution_count": 47,
   "id": "empirical-genealogy",
   "metadata": {},
   "outputs": [
    {
     "data": {
      "text/plain": [
       "array([ 4.12932911e-05,  0.00000000e+00,  6.90714262e-04,  0.00000000e+00,\n",
       "       -0.00000000e+00,  0.00000000e+00, -0.00000000e+00,  0.00000000e+00,\n",
       "        0.00000000e+00,  0.00000000e+00,  0.00000000e+00, -1.17650067e-04,\n",
       "       -0.00000000e+00, -6.25703649e-06,  0.00000000e+00,  0.00000000e+00])"
      ]
     },
     "execution_count": 47,
     "metadata": {},
     "output_type": "execute_result"
    }
   ],
   "source": [
    "#выводим значение для перехвата,вычисленное алгоритмом линейной регрессии для нашего набора данных\n",
    "reg.coef_"
   ]
  },
  {
   "cell_type": "code",
   "execution_count": 48,
   "id": "civilian-ordinance",
   "metadata": {},
   "outputs": [
    {
     "data": {
      "text/plain": [
       "0.047828023153999005"
      ]
     },
     "execution_count": 48,
     "metadata": {},
     "output_type": "execute_result"
    }
   ],
   "source": [
    "#выводи значения для наклона,вычисленное алгоритмом линейной регрессии для нашего набора данных\n",
    "reg.intercept_"
   ]
  },
  {
   "cell_type": "markdown",
   "id": "signal-video",
   "metadata": {},
   "source": [
    "#### линейная регрессия без использования регуляризаторов"
   ]
  },
  {
   "cell_type": "code",
   "execution_count": 49,
   "id": "behind-amsterdam",
   "metadata": {},
   "outputs": [
    {
     "data": {
      "text/plain": [
       "LinearRegression()"
      ]
     },
     "execution_count": 49,
     "metadata": {},
     "output_type": "execute_result"
    }
   ],
   "source": [
    "#разделяем данных на “атрибуты” и “метки”. Атрибуты являются независимыми переменными, а метки-зависимыми переменными, значения которых должны быть предсказаны.\n",
    "X, y = df.drop(['NMHC(GT)'], axis=1), df['NMHC(GT)']\n",
    "#разделяем эти данные на обучающие и тестовые наборы. Мы сделаем это с помощью встроенного метода Scikit-Learn train_test_split()\n",
    "X_train, X_test, y_train, y_test = train_test_split(X, y, test_size = 0.3, random_state = 123) ##разбивает 70% данных на обучающий набор, а 30% – на тестовый. Переменная test_size – это то место, где мы фактически указываем долю тестового набора.\n",
    "#обучение алгоритма\n",
    "reg = linear_model.LinearRegression()\n",
    "reg.fit(X_train,y_train)"
   ]
  },
  {
   "cell_type": "code",
   "execution_count": 50,
   "id": "removable-auditor",
   "metadata": {},
   "outputs": [
    {
     "data": {
      "text/plain": [
       "array([ 4.56923153e-05,  1.52240215e-04,  2.81531508e-03,  4.32300419e-01,\n",
       "        9.84273154e-07, -1.03499278e+00, -3.62236815e-01, -1.59441433e-01,\n",
       "        8.68393565e-02,  8.44134600e-01, -1.82966816e-02, -1.01718428e-04,\n",
       "       -2.62805622e-06, -3.67194382e-05,  0.00000000e+00,  0.00000000e+00])"
      ]
     },
     "execution_count": 50,
     "metadata": {},
     "output_type": "execute_result"
    }
   ],
   "source": [
    "##выводим значение для перехвата,вычисленное алгоритмом линейной регрессии для нашего набора данны\n",
    "reg.coef_"
   ]
  },
  {
   "cell_type": "code",
   "execution_count": 51,
   "id": "resistant-advocate",
   "metadata": {},
   "outputs": [
    {
     "data": {
      "text/plain": [
       "-0.027625797309421104"
      ]
     },
     "execution_count": 51,
     "metadata": {},
     "output_type": "execute_result"
    }
   ],
   "source": [
    "#выводи значения для наклона,вычисленное алгоритмом линейной регрессии для нашего набора данных\n",
    "reg.intercept_"
   ]
  },
  {
   "cell_type": "code",
   "execution_count": 52,
   "id": "functional-thursday",
   "metadata": {},
   "outputs": [
    {
     "name": "stdout",
     "output_type": "stream",
     "text": [
      "Pearson’s correlation coefficient:  0.4569777876403772\n",
      "p-value:  0.18425869092838315\n",
      "Spearman’s correlation coefficient:  0.5103493078392206\n",
      "p-value:  0.1317596196544768\n"
     ]
    }
   ],
   "source": [
    "r, p = stats.pearsonr(xt[:10], y_test[:10])\n",
    "k, l = stats.spearmanr(xt[:10], y_test[:10])\n",
    "print('Pearson’s correlation coefficient: ', r)\n",
    "print('p-value: ', p)\n",
    "print('Spearman’s correlation coefficient: ', k)\n",
    "print('p-value: ', l)"
   ]
  }
 ],
 "metadata": {
  "kernelspec": {
   "display_name": "Python 3",
   "language": "python",
   "name": "python3"
  },
  "language_info": {
   "codemirror_mode": {
    "name": "ipython",
    "version": 3
   },
   "file_extension": ".py",
   "mimetype": "text/x-python",
   "name": "python",
   "nbconvert_exporter": "python",
   "pygments_lexer": "ipython3",
   "version": "3.8.8"
  }
 },
 "nbformat": 4,
 "nbformat_minor": 5
}
