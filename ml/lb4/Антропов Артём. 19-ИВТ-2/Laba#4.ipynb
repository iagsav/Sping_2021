{
 "cells": [
  {
   "cell_type": "markdown",
   "id": "prospective-sandwich",
   "metadata": {},
   "source": [
    "### Лабораторная работа № 3. \n",
    "\n",
    "### Антропов Артем Эдуардович 19-ИВТ-2\n",
    "### Вариант 2\n"
   ]
  },
  {
   "cell_type": "markdown",
   "id": "expensive-carroll",
   "metadata": {},
   "source": [
    "#### 1. Изучить набор данных. Создать описание набора данных на русском языке. Описать признаки, используемые в наборе данных"
   ]
  },
  {
   "cell_type": "markdown",
   "id": "blind-standard",
   "metadata": {},
   "source": [
    "dateCrawled: дата создания объявления.\n",
    "\n",
    "name: Название автомобиля.\n",
    "\n",
    "seller: Тип продавца: либо частный продавец, либо дилер.\n",
    "\n",
    "offerType: Тип предложения.\n",
    "\n",
    "price: Цена продажи автомобиля по объявлению.\n",
    "\n",
    "abtest: Тест пройден.\n",
    "\n",
    "vehicleType: Тип транспортного средства.\n",
    "\n",
    "yearOfRegistration: Год, когда автомобиль был впервые зарегистрирован.\n",
    "\n",
    "powerPS: Мощность автомобиля в PS.\n",
    "\n",
    "model: Модель автомобиля.\n",
    "\n",
    "kilometer: расстояние, пройденное автомобилем в километрах.\n",
    "\n",
    "monthOfRegistration: Месяц, когда автомобиль был впервые зарегистрирован.\n",
    "\n",
    "fuelType: тип топлива, который требуется автомобилю.\n",
    "\n",
    "brand: Марка автомобиля.\n",
    "\n",
    "notRepairedDamage: индикатор того, поврежден автомобиль или нет.\n",
    "\n",
    "dateCreated: дата создания объявления.\n",
    "\n",
    "nrOfPictures: Количество картинок в объявлении.\n",
    "\n",
    "postalCode: почтовый индекс, по которому находится автомобиль.\n",
    "\n",
    "lastSeenOnline: дата последнего просмотра объявления.\n"
   ]
  },
  {
   "cell_type": "code",
   "execution_count": 130,
   "id": "serial-healing",
   "metadata": {},
   "outputs": [],
   "source": [
    "import numpy as np\n",
    "import pandas as pd\n",
    "import sklearn as sk\n",
    "import seaborn as sns\n",
    "import matplotlib.pyplot as plt\n",
    "\n",
    "from sklearn import linear_model\n",
    "from sklearn.preprocessing import MinMaxScaler\n",
    "from sklearn.model_selection import GridSearchCV\n",
    "from sklearn.preprocessing import PolynomialFeatures\n",
    "from sklearn.model_selection import (cross_val_score, StratifiedKFold,\n",
    "                                     train_test_split)\n",
    "from sklearn.linear_model import LogisticRegression, LogisticRegressionCV\n",
    "\n",
    "from scipy.stats import pearsonr, spearmanr\n",
    "%matplotlib inline"
   ]
  },
  {
   "cell_type": "code",
   "execution_count": 131,
   "id": "numerical-texas",
   "metadata": {},
   "outputs": [],
   "source": [
    "df = pd.read_csv('autos.csv', encoding = 'latin1')  #  Создание объекта набора данных"
   ]
  },
  {
   "cell_type": "code",
   "execution_count": 132,
   "id": "minute-sleep",
   "metadata": {},
   "outputs": [
    {
     "data": {
      "text/html": [
       "<div>\n",
       "<style scoped>\n",
       "    .dataframe tbody tr th:only-of-type {\n",
       "        vertical-align: middle;\n",
       "    }\n",
       "\n",
       "    .dataframe tbody tr th {\n",
       "        vertical-align: top;\n",
       "    }\n",
       "\n",
       "    .dataframe thead th {\n",
       "        text-align: right;\n",
       "    }\n",
       "</style>\n",
       "<table border=\"1\" class=\"dataframe\">\n",
       "  <thead>\n",
       "    <tr style=\"text-align: right;\">\n",
       "      <th></th>\n",
       "      <th>dateCrawled</th>\n",
       "      <th>name</th>\n",
       "      <th>seller</th>\n",
       "      <th>offerType</th>\n",
       "      <th>price</th>\n",
       "      <th>abtest</th>\n",
       "      <th>vehicleType</th>\n",
       "      <th>yearOfRegistration</th>\n",
       "      <th>gearbox</th>\n",
       "      <th>powerPS</th>\n",
       "      <th>model</th>\n",
       "      <th>kilometer</th>\n",
       "      <th>monthOfRegistration</th>\n",
       "      <th>fuelType</th>\n",
       "      <th>brand</th>\n",
       "      <th>notRepairedDamage</th>\n",
       "      <th>dateCreated</th>\n",
       "      <th>nrOfPictures</th>\n",
       "      <th>postalCode</th>\n",
       "      <th>lastSeen</th>\n",
       "    </tr>\n",
       "  </thead>\n",
       "  <tbody>\n",
       "    <tr>\n",
       "      <th>0</th>\n",
       "      <td>2016-03-24 11:52:17</td>\n",
       "      <td>Golf_3_1.6</td>\n",
       "      <td>privat</td>\n",
       "      <td>Angebot</td>\n",
       "      <td>480</td>\n",
       "      <td>test</td>\n",
       "      <td>NaN</td>\n",
       "      <td>1993</td>\n",
       "      <td>manuell</td>\n",
       "      <td>0</td>\n",
       "      <td>golf</td>\n",
       "      <td>150000</td>\n",
       "      <td>0</td>\n",
       "      <td>benzin</td>\n",
       "      <td>volkswagen</td>\n",
       "      <td>NaN</td>\n",
       "      <td>2016-03-24 00:00:00</td>\n",
       "      <td>0</td>\n",
       "      <td>70435</td>\n",
       "      <td>2016-04-07 03:16:57</td>\n",
       "    </tr>\n",
       "    <tr>\n",
       "      <th>1</th>\n",
       "      <td>2016-03-24 10:58:45</td>\n",
       "      <td>A5_Sportback_2.7_Tdi</td>\n",
       "      <td>privat</td>\n",
       "      <td>Angebot</td>\n",
       "      <td>18300</td>\n",
       "      <td>test</td>\n",
       "      <td>coupe</td>\n",
       "      <td>2011</td>\n",
       "      <td>manuell</td>\n",
       "      <td>190</td>\n",
       "      <td>NaN</td>\n",
       "      <td>125000</td>\n",
       "      <td>5</td>\n",
       "      <td>diesel</td>\n",
       "      <td>audi</td>\n",
       "      <td>ja</td>\n",
       "      <td>2016-03-24 00:00:00</td>\n",
       "      <td>0</td>\n",
       "      <td>66954</td>\n",
       "      <td>2016-04-07 01:46:50</td>\n",
       "    </tr>\n",
       "    <tr>\n",
       "      <th>2</th>\n",
       "      <td>2016-03-14 12:52:21</td>\n",
       "      <td>Jeep_Grand_Cherokee_\"Overland\"</td>\n",
       "      <td>privat</td>\n",
       "      <td>Angebot</td>\n",
       "      <td>9800</td>\n",
       "      <td>test</td>\n",
       "      <td>suv</td>\n",
       "      <td>2004</td>\n",
       "      <td>automatik</td>\n",
       "      <td>163</td>\n",
       "      <td>grand</td>\n",
       "      <td>125000</td>\n",
       "      <td>8</td>\n",
       "      <td>diesel</td>\n",
       "      <td>jeep</td>\n",
       "      <td>NaN</td>\n",
       "      <td>2016-03-14 00:00:00</td>\n",
       "      <td>0</td>\n",
       "      <td>90480</td>\n",
       "      <td>2016-04-05 12:47:46</td>\n",
       "    </tr>\n",
       "    <tr>\n",
       "      <th>3</th>\n",
       "      <td>2016-03-17 16:54:04</td>\n",
       "      <td>GOLF_4_1_4__3TÜRER</td>\n",
       "      <td>privat</td>\n",
       "      <td>Angebot</td>\n",
       "      <td>1500</td>\n",
       "      <td>test</td>\n",
       "      <td>kleinwagen</td>\n",
       "      <td>2001</td>\n",
       "      <td>manuell</td>\n",
       "      <td>75</td>\n",
       "      <td>golf</td>\n",
       "      <td>150000</td>\n",
       "      <td>6</td>\n",
       "      <td>benzin</td>\n",
       "      <td>volkswagen</td>\n",
       "      <td>nein</td>\n",
       "      <td>2016-03-17 00:00:00</td>\n",
       "      <td>0</td>\n",
       "      <td>91074</td>\n",
       "      <td>2016-03-17 17:40:17</td>\n",
       "    </tr>\n",
       "    <tr>\n",
       "      <th>4</th>\n",
       "      <td>2016-03-31 17:25:20</td>\n",
       "      <td>Skoda_Fabia_1.4_TDI_PD_Classic</td>\n",
       "      <td>privat</td>\n",
       "      <td>Angebot</td>\n",
       "      <td>3600</td>\n",
       "      <td>test</td>\n",
       "      <td>kleinwagen</td>\n",
       "      <td>2008</td>\n",
       "      <td>manuell</td>\n",
       "      <td>69</td>\n",
       "      <td>fabia</td>\n",
       "      <td>90000</td>\n",
       "      <td>7</td>\n",
       "      <td>diesel</td>\n",
       "      <td>skoda</td>\n",
       "      <td>nein</td>\n",
       "      <td>2016-03-31 00:00:00</td>\n",
       "      <td>0</td>\n",
       "      <td>60437</td>\n",
       "      <td>2016-04-06 10:17:21</td>\n",
       "    </tr>\n",
       "  </tbody>\n",
       "</table>\n",
       "</div>"
      ],
      "text/plain": [
       "           dateCrawled                            name  seller offerType  \\\n",
       "0  2016-03-24 11:52:17                      Golf_3_1.6  privat   Angebot   \n",
       "1  2016-03-24 10:58:45            A5_Sportback_2.7_Tdi  privat   Angebot   \n",
       "2  2016-03-14 12:52:21  Jeep_Grand_Cherokee_\"Overland\"  privat   Angebot   \n",
       "3  2016-03-17 16:54:04              GOLF_4_1_4__3TÜRER  privat   Angebot   \n",
       "4  2016-03-31 17:25:20  Skoda_Fabia_1.4_TDI_PD_Classic  privat   Angebot   \n",
       "\n",
       "   price abtest vehicleType  yearOfRegistration    gearbox  powerPS  model  \\\n",
       "0    480   test         NaN                1993    manuell        0   golf   \n",
       "1  18300   test       coupe                2011    manuell      190    NaN   \n",
       "2   9800   test         suv                2004  automatik      163  grand   \n",
       "3   1500   test  kleinwagen                2001    manuell       75   golf   \n",
       "4   3600   test  kleinwagen                2008    manuell       69  fabia   \n",
       "\n",
       "   kilometer  monthOfRegistration fuelType       brand notRepairedDamage  \\\n",
       "0     150000                    0   benzin  volkswagen               NaN   \n",
       "1     125000                    5   diesel        audi                ja   \n",
       "2     125000                    8   diesel        jeep               NaN   \n",
       "3     150000                    6   benzin  volkswagen              nein   \n",
       "4      90000                    7   diesel       skoda              nein   \n",
       "\n",
       "           dateCreated  nrOfPictures  postalCode             lastSeen  \n",
       "0  2016-03-24 00:00:00             0       70435  2016-04-07 03:16:57  \n",
       "1  2016-03-24 00:00:00             0       66954  2016-04-07 01:46:50  \n",
       "2  2016-03-14 00:00:00             0       90480  2016-04-05 12:47:46  \n",
       "3  2016-03-17 00:00:00             0       91074  2016-03-17 17:40:17  \n",
       "4  2016-03-31 00:00:00             0       60437  2016-04-06 10:17:21  "
      ]
     },
     "execution_count": 132,
     "metadata": {},
     "output_type": "execute_result"
    }
   ],
   "source": [
    "df.head(5)"
   ]
  },
  {
   "cell_type": "markdown",
   "id": "gorgeous-jungle",
   "metadata": {},
   "source": [
    "#### 2) Удалите дубликаты строк в наборе данных; приведите размер набора данных до и после данной операции;¶"
   ]
  },
  {
   "cell_type": "code",
   "execution_count": 133,
   "id": "million-producer",
   "metadata": {},
   "outputs": [
    {
     "data": {
      "text/plain": [
       "(371528, 20)"
      ]
     },
     "execution_count": 133,
     "metadata": {},
     "output_type": "execute_result"
    }
   ],
   "source": [
    "df.shape"
   ]
  },
  {
   "cell_type": "code",
   "execution_count": 134,
   "id": "rational-hunger",
   "metadata": {},
   "outputs": [
    {
     "data": {
      "text/plain": [
       "Index(['dateCrawled', 'name', 'seller', 'offerType', 'price', 'abtest',\n",
       "       'vehicleType', 'yearOfRegistration', 'gearbox', 'powerPS', 'model',\n",
       "       'kilometer', 'monthOfRegistration', 'fuelType', 'brand',\n",
       "       'notRepairedDamage', 'dateCreated', 'nrOfPictures', 'postalCode',\n",
       "       'lastSeen'],\n",
       "      dtype='object')"
      ]
     },
     "execution_count": 134,
     "metadata": {},
     "output_type": "execute_result"
    }
   ],
   "source": [
    "df.columns"
   ]
  },
  {
   "cell_type": "code",
   "execution_count": 135,
   "id": "roman-friday",
   "metadata": {},
   "outputs": [
    {
     "data": {
      "text/plain": [
       "(260952, 13)"
      ]
     },
     "execution_count": 135,
     "metadata": {},
     "output_type": "execute_result"
    }
   ],
   "source": [
    "df = df.drop_duplicates()\n",
    "df = df.dropna()\n",
    "df = df.drop(['dateCrawled','offerType','dateCreated','postalCode','lastSeen','name','model'], axis = 1)\n",
    "df.shape"
   ]
  },
  {
   "cell_type": "code",
   "execution_count": 136,
   "id": "bacterial-manor",
   "metadata": {},
   "outputs": [
    {
     "data": {
      "text/plain": [
       "Index(['seller', 'price', 'abtest', 'vehicleType', 'yearOfRegistration',\n",
       "       'gearbox', 'powerPS', 'kilometer', 'monthOfRegistration', 'fuelType',\n",
       "       'brand', 'notRepairedDamage', 'nrOfPictures'],\n",
       "      dtype='object')"
      ]
     },
     "execution_count": 136,
     "metadata": {},
     "output_type": "execute_result"
    }
   ],
   "source": [
    "df.columns"
   ]
  },
  {
   "cell_type": "code",
   "execution_count": 137,
   "id": "fallen-thumb",
   "metadata": {},
   "outputs": [
    {
     "name": "stdout",
     "output_type": "stream",
     "text": [
      "<class 'pandas.core.frame.DataFrame'>\n",
      "Int64Index: 260952 entries, 3 to 371527\n",
      "Data columns (total 13 columns):\n",
      " #   Column               Non-Null Count   Dtype \n",
      "---  ------               --------------   ----- \n",
      " 0   seller               260952 non-null  object\n",
      " 1   price                260952 non-null  int64 \n",
      " 2   abtest               260952 non-null  object\n",
      " 3   vehicleType          260952 non-null  object\n",
      " 4   yearOfRegistration   260952 non-null  int64 \n",
      " 5   gearbox              260952 non-null  object\n",
      " 6   powerPS              260952 non-null  int64 \n",
      " 7   kilometer            260952 non-null  int64 \n",
      " 8   monthOfRegistration  260952 non-null  int64 \n",
      " 9   fuelType             260952 non-null  object\n",
      " 10  brand                260952 non-null  object\n",
      " 11  notRepairedDamage    260952 non-null  object\n",
      " 12  nrOfPictures         260952 non-null  int64 \n",
      "dtypes: int64(6), object(7)\n",
      "memory usage: 27.9+ MB\n"
     ]
    }
   ],
   "source": [
    "df.info()"
   ]
  },
  {
   "cell_type": "markdown",
   "id": "micro-hopkins",
   "metadata": {},
   "source": [
    "#### 3) Выполните масштабирование количественных признаков; Постройте диаграммы BoxPlot для признаков до и после масштабирования. Выберите способ масштабирования (например, нормализацию или стандартизацию);"
   ]
  },
  {
   "cell_type": "code",
   "execution_count": 138,
   "id": "fuzzy-hepatitis",
   "metadata": {},
   "outputs": [
    {
     "name": "stdout",
     "output_type": "stream",
     "text": [
      "Numerical: ['price', 'yearOfRegistration', 'powerPS', 'kilometer', 'monthOfRegistration', 'nrOfPictures']\n",
      "Categorial: ['seller', 'abtest', 'vehicleType', 'gearbox', 'fuelType', 'brand', 'notRepairedDamage']\n"
     ]
    }
   ],
   "source": [
    "numerical_columns = [i for i in df.columns if df[i].dtype.name != 'object']\n",
    "categorial_columns = [i for i in df.columns if df[i].dtype.name == 'object']\n",
    "print(f\"Numerical: {numerical_columns}\\nCategorial: {categorial_columns}\")"
   ]
  },
  {
   "cell_type": "code",
   "execution_count": 143,
   "id": "controlled-learning",
   "metadata": {},
   "outputs": [
    {
     "data": {
      "image/png": "[encoded data removed]",
      "text/plain": [
       "<Figure size 1080x504 with 1 Axes>"
      ]
     },
     "metadata": {
      "needs_background": "light"
     },
     "output_type": "display_data"
    }
   ],
   "source": [
    "plt.figure(figsize=(15,7))\n",
    "sns.boxplot(data=df[numerical_columns])\n",
    "plt.show()"
   ]
  },
  {
   "cell_type": "code",
   "execution_count": 144,
   "id": "divine-separation",
   "metadata": {},
   "outputs": [
    {
     "data": {
      "text/html": [
       "<div>\n",
       "<style scoped>\n",
       "    .dataframe tbody tr th:only-of-type {\n",
       "        vertical-align: middle;\n",
       "    }\n",
       "\n",
       "    .dataframe tbody tr th {\n",
       "        vertical-align: top;\n",
       "    }\n",
       "\n",
       "    .dataframe thead th {\n",
       "        text-align: right;\n",
       "    }\n",
       "</style>\n",
       "<table border=\"1\" class=\"dataframe\">\n",
       "  <thead>\n",
       "    <tr style=\"text-align: right;\">\n",
       "      <th></th>\n",
       "      <th>price</th>\n",
       "      <th>yearOfRegistration</th>\n",
       "      <th>powerPS</th>\n",
       "      <th>kilometer</th>\n",
       "      <th>monthOfRegistration</th>\n",
       "      <th>nrOfPictures</th>\n",
       "    </tr>\n",
       "  </thead>\n",
       "  <tbody>\n",
       "    <tr>\n",
       "      <th>count</th>\n",
       "      <td>260952.000000</td>\n",
       "      <td>260952.000000</td>\n",
       "      <td>260952.000000</td>\n",
       "      <td>260952.000000</td>\n",
       "      <td>260952.000000</td>\n",
       "      <td>260952.0</td>\n",
       "    </tr>\n",
       "    <tr>\n",
       "      <th>mean</th>\n",
       "      <td>0.000082</td>\n",
       "      <td>0.863977</td>\n",
       "      <td>0.006317</td>\n",
       "      <td>0.821096</td>\n",
       "      <td>0.515214</td>\n",
       "      <td>0.0</td>\n",
       "    </tr>\n",
       "    <tr>\n",
       "      <th>std</th>\n",
       "      <td>0.003433</td>\n",
       "      <td>0.060298</td>\n",
       "      <td>0.007264</td>\n",
       "      <td>0.274813</td>\n",
       "      <td>0.289281</td>\n",
       "      <td>0.0</td>\n",
       "    </tr>\n",
       "    <tr>\n",
       "      <th>min</th>\n",
       "      <td>0.000000</td>\n",
       "      <td>0.000000</td>\n",
       "      <td>0.000000</td>\n",
       "      <td>0.000000</td>\n",
       "      <td>0.000000</td>\n",
       "      <td>0.0</td>\n",
       "    </tr>\n",
       "    <tr>\n",
       "      <th>25%</th>\n",
       "      <td>0.000015</td>\n",
       "      <td>0.824074</td>\n",
       "      <td>0.003900</td>\n",
       "      <td>0.655172</td>\n",
       "      <td>0.250000</td>\n",
       "      <td>0.0</td>\n",
       "    </tr>\n",
       "    <tr>\n",
       "      <th>50%</th>\n",
       "      <td>0.000039</td>\n",
       "      <td>0.870370</td>\n",
       "      <td>0.005800</td>\n",
       "      <td>1.000000</td>\n",
       "      <td>0.500000</td>\n",
       "      <td>0.0</td>\n",
       "    </tr>\n",
       "    <tr>\n",
       "      <th>75%</th>\n",
       "      <td>0.000086</td>\n",
       "      <td>0.907407</td>\n",
       "      <td>0.007500</td>\n",
       "      <td>1.000000</td>\n",
       "      <td>0.750000</td>\n",
       "      <td>0.0</td>\n",
       "    </tr>\n",
       "    <tr>\n",
       "      <th>max</th>\n",
       "      <td>1.000000</td>\n",
       "      <td>1.000000</td>\n",
       "      <td>1.000000</td>\n",
       "      <td>1.000000</td>\n",
       "      <td>1.000000</td>\n",
       "      <td>0.0</td>\n",
       "    </tr>\n",
       "  </tbody>\n",
       "</table>\n",
       "</div>"
      ],
      "text/plain": [
       "               price  yearOfRegistration        powerPS      kilometer  \\\n",
       "count  260952.000000       260952.000000  260952.000000  260952.000000   \n",
       "mean        0.000082            0.863977       0.006317       0.821096   \n",
       "std         0.003433            0.060298       0.007264       0.274813   \n",
       "min         0.000000            0.000000       0.000000       0.000000   \n",
       "25%         0.000015            0.824074       0.003900       0.655172   \n",
       "50%         0.000039            0.870370       0.005800       1.000000   \n",
       "75%         0.000086            0.907407       0.007500       1.000000   \n",
       "max         1.000000            1.000000       1.000000       1.000000   \n",
       "\n",
       "       monthOfRegistration  nrOfPictures  \n",
       "count        260952.000000      260952.0  \n",
       "mean              0.515214           0.0  \n",
       "std               0.289281           0.0  \n",
       "min               0.000000           0.0  \n",
       "25%               0.250000           0.0  \n",
       "50%               0.500000           0.0  \n",
       "75%               0.750000           0.0  \n",
       "max               1.000000           0.0  "
      ]
     },
     "execution_count": 144,
     "metadata": {},
     "output_type": "execute_result"
    }
   ],
   "source": [
    "# Функция sklearn для нормализации данных\n",
    "scaler = MinMaxScaler()\n",
    "# Нормализируем\n",
    "df[numerical_columns] = scaler.fit_transform(df[numerical_columns])\n",
    "df.describe()"
   ]
  },
  {
   "cell_type": "code",
   "execution_count": 145,
   "id": "sexual-finance",
   "metadata": {},
   "outputs": [
    {
     "data": {
      "image/png": "[encoded data removed]",
      "text/plain": [
       "<Figure size 1080x504 with 1 Axes>"
      ]
     },
     "metadata": {
      "needs_background": "light"
     },
     "output_type": "display_data"
    }
   ],
   "source": [
    "plt.figure(figsize=(15,7))\n",
    "sns.boxplot(data=df[numerical_columns])\n",
    "plt.show()"
   ]
  },
  {
   "cell_type": "markdown",
   "id": "headed-headline",
   "metadata": {},
   "source": [
    "#### 4) Выполните замену категориальных признаков; выберите и обоснуйте способ замены;¶"
   ]
  },
  {
   "cell_type": "code",
   "execution_count": 146,
   "id": "alive-dinner",
   "metadata": {},
   "outputs": [
    {
     "name": "stdout",
     "output_type": "stream",
     "text": [
      "seller :  ['privat' 'gewerblich']\n",
      "abtest :  ['test' 'control']\n",
      "vehicleType :  ['kleinwagen' 'limousine' 'cabrio' 'kombi' 'suv' 'bus' 'coupe' 'andere']\n",
      "gearbox :  ['manuell' 'automatik']\n",
      "fuelType :  ['benzin' 'diesel' 'lpg' 'andere' 'hybrid' 'cng' 'elektro']\n",
      "brand :  ['volkswagen' 'skoda' 'bmw' 'peugeot' 'mazda' 'nissan' 'renault' 'ford'\n",
      " 'mercedes_benz' 'seat' 'honda' 'fiat' 'mini' 'opel' 'smart' 'audi'\n",
      " 'alfa_romeo' 'subaru' 'mitsubishi' 'hyundai' 'volvo' 'lancia' 'porsche'\n",
      " 'citroen' 'toyota' 'kia' 'chevrolet' 'dacia' 'suzuki' 'daihatsu'\n",
      " 'chrysler' 'jaguar' 'rover' 'jeep' 'saab' 'daewoo' 'land_rover' 'trabant'\n",
      " 'lada']\n",
      "notRepairedDamage :  ['nein' 'ja']\n"
     ]
    }
   ],
   "source": [
    "for i in categorial_columns:\n",
    "    print(i,': ', df[i].unique())"
   ]
  },
  {
   "cell_type": "code",
   "execution_count": 147,
   "id": "demanding-assessment",
   "metadata": {},
   "outputs": [
    {
     "name": "stdout",
     "output_type": "stream",
     "text": [
      "(260952, 64)\n"
     ]
    },
    {
     "data": {
      "text/html": [
       "<div>\n",
       "<style scoped>\n",
       "    .dataframe tbody tr th:only-of-type {\n",
       "        vertical-align: middle;\n",
       "    }\n",
       "\n",
       "    .dataframe tbody tr th {\n",
       "        vertical-align: top;\n",
       "    }\n",
       "\n",
       "    .dataframe thead th {\n",
       "        text-align: right;\n",
       "    }\n",
       "</style>\n",
       "<table border=\"1\" class=\"dataframe\">\n",
       "  <thead>\n",
       "    <tr style=\"text-align: right;\">\n",
       "      <th></th>\n",
       "      <th>vehicleType_andere</th>\n",
       "      <th>vehicleType_bus</th>\n",
       "      <th>vehicleType_cabrio</th>\n",
       "      <th>vehicleType_coupe</th>\n",
       "      <th>vehicleType_kleinwagen</th>\n",
       "      <th>vehicleType_kombi</th>\n",
       "      <th>vehicleType_limousine</th>\n",
       "      <th>vehicleType_suv</th>\n",
       "      <th>fuelType_andere</th>\n",
       "      <th>fuelType_benzin</th>\n",
       "      <th>...</th>\n",
       "      <th>seller</th>\n",
       "      <th>price</th>\n",
       "      <th>abtest</th>\n",
       "      <th>yearOfRegistration</th>\n",
       "      <th>gearbox</th>\n",
       "      <th>powerPS</th>\n",
       "      <th>kilometer</th>\n",
       "      <th>monthOfRegistration</th>\n",
       "      <th>notRepairedDamage</th>\n",
       "      <th>nrOfPictures</th>\n",
       "    </tr>\n",
       "  </thead>\n",
       "  <tbody>\n",
       "    <tr>\n",
       "      <th>3</th>\n",
       "      <td>0</td>\n",
       "      <td>0</td>\n",
       "      <td>0</td>\n",
       "      <td>0</td>\n",
       "      <td>1</td>\n",
       "      <td>0</td>\n",
       "      <td>0</td>\n",
       "      <td>0</td>\n",
       "      <td>0</td>\n",
       "      <td>1</td>\n",
       "      <td>...</td>\n",
       "      <td>0</td>\n",
       "      <td>0.000015</td>\n",
       "      <td>0</td>\n",
       "      <td>0.842593</td>\n",
       "      <td>0</td>\n",
       "      <td>0.00375</td>\n",
       "      <td>1.000000</td>\n",
       "      <td>0.500000</td>\n",
       "      <td>0</td>\n",
       "      <td>0.0</td>\n",
       "    </tr>\n",
       "    <tr>\n",
       "      <th>4</th>\n",
       "      <td>0</td>\n",
       "      <td>0</td>\n",
       "      <td>0</td>\n",
       "      <td>0</td>\n",
       "      <td>1</td>\n",
       "      <td>0</td>\n",
       "      <td>0</td>\n",
       "      <td>0</td>\n",
       "      <td>0</td>\n",
       "      <td>0</td>\n",
       "      <td>...</td>\n",
       "      <td>0</td>\n",
       "      <td>0.000036</td>\n",
       "      <td>0</td>\n",
       "      <td>0.907407</td>\n",
       "      <td>0</td>\n",
       "      <td>0.00345</td>\n",
       "      <td>0.586207</td>\n",
       "      <td>0.583333</td>\n",
       "      <td>0</td>\n",
       "      <td>0.0</td>\n",
       "    </tr>\n",
       "    <tr>\n",
       "      <th>5</th>\n",
       "      <td>0</td>\n",
       "      <td>0</td>\n",
       "      <td>0</td>\n",
       "      <td>0</td>\n",
       "      <td>0</td>\n",
       "      <td>0</td>\n",
       "      <td>1</td>\n",
       "      <td>0</td>\n",
       "      <td>0</td>\n",
       "      <td>1</td>\n",
       "      <td>...</td>\n",
       "      <td>0</td>\n",
       "      <td>0.000007</td>\n",
       "      <td>0</td>\n",
       "      <td>0.787037</td>\n",
       "      <td>0</td>\n",
       "      <td>0.00510</td>\n",
       "      <td>1.000000</td>\n",
       "      <td>0.833333</td>\n",
       "      <td>1</td>\n",
       "      <td>0.0</td>\n",
       "    </tr>\n",
       "    <tr>\n",
       "      <th>6</th>\n",
       "      <td>0</td>\n",
       "      <td>0</td>\n",
       "      <td>1</td>\n",
       "      <td>0</td>\n",
       "      <td>0</td>\n",
       "      <td>0</td>\n",
       "      <td>0</td>\n",
       "      <td>0</td>\n",
       "      <td>0</td>\n",
       "      <td>1</td>\n",
       "      <td>...</td>\n",
       "      <td>0</td>\n",
       "      <td>0.000022</td>\n",
       "      <td>0</td>\n",
       "      <td>0.870370</td>\n",
       "      <td>0</td>\n",
       "      <td>0.00545</td>\n",
       "      <td>1.000000</td>\n",
       "      <td>0.666667</td>\n",
       "      <td>0</td>\n",
       "      <td>0.0</td>\n",
       "    </tr>\n",
       "    <tr>\n",
       "      <th>7</th>\n",
       "      <td>0</td>\n",
       "      <td>0</td>\n",
       "      <td>0</td>\n",
       "      <td>0</td>\n",
       "      <td>0</td>\n",
       "      <td>0</td>\n",
       "      <td>1</td>\n",
       "      <td>0</td>\n",
       "      <td>0</td>\n",
       "      <td>1</td>\n",
       "      <td>...</td>\n",
       "      <td>0</td>\n",
       "      <td>0.000000</td>\n",
       "      <td>0</td>\n",
       "      <td>0.648148</td>\n",
       "      <td>0</td>\n",
       "      <td>0.00250</td>\n",
       "      <td>0.241379</td>\n",
       "      <td>0.583333</td>\n",
       "      <td>0</td>\n",
       "      <td>0.0</td>\n",
       "    </tr>\n",
       "  </tbody>\n",
       "</table>\n",
       "<p>5 rows × 64 columns</p>\n",
       "</div>"
      ],
      "text/plain": [
       "   vehicleType_andere  vehicleType_bus  vehicleType_cabrio  vehicleType_coupe  \\\n",
       "3                   0                0                   0                  0   \n",
       "4                   0                0                   0                  0   \n",
       "5                   0                0                   0                  0   \n",
       "6                   0                0                   1                  0   \n",
       "7                   0                0                   0                  0   \n",
       "\n",
       "   vehicleType_kleinwagen  vehicleType_kombi  vehicleType_limousine  \\\n",
       "3                       1                  0                      0   \n",
       "4                       1                  0                      0   \n",
       "5                       0                  0                      1   \n",
       "6                       0                  0                      0   \n",
       "7                       0                  0                      1   \n",
       "\n",
       "   vehicleType_suv  fuelType_andere  fuelType_benzin  ...  seller     price  \\\n",
       "3                0                0                1  ...       0  0.000015   \n",
       "4                0                0                0  ...       0  0.000036   \n",
       "5                0                0                1  ...       0  0.000007   \n",
       "6                0                0                1  ...       0  0.000022   \n",
       "7                0                0                1  ...       0  0.000000   \n",
       "\n",
       "   abtest  yearOfRegistration  gearbox  powerPS  kilometer  \\\n",
       "3       0            0.842593        0  0.00375   1.000000   \n",
       "4       0            0.907407        0  0.00345   0.586207   \n",
       "5       0            0.787037        0  0.00510   1.000000   \n",
       "6       0            0.870370        0  0.00545   1.000000   \n",
       "7       0            0.648148        0  0.00250   0.241379   \n",
       "\n",
       "   monthOfRegistration  notRepairedDamage  nrOfPictures  \n",
       "3             0.500000                  0           0.0  \n",
       "4             0.583333                  0           0.0  \n",
       "5             0.833333                  1           0.0  \n",
       "6             0.666667                  0           0.0  \n",
       "7             0.583333                  0           0.0  \n",
       "\n",
       "[5 rows x 64 columns]"
      ]
     },
     "execution_count": 147,
     "metadata": {},
     "output_type": "execute_result"
    }
   ],
   "source": [
    "#  Бинарные признаки\n",
    "binary_columns = [i for i in categorial_columns if len(df[i].unique()) == 2] \n",
    "#  Не бинарные признаки\n",
    "nonbinary_columns = [i for i in categorial_columns if len(df[i].unique()) > 2] \n",
    "\n",
    "# Бинарные признаки заменяются на 0 и 1\n",
    "for col in binary_columns:\n",
    "    for i, unic_item in enumerate(df[col].unique()):\n",
    "        df[col] = df[col].replace(to_replace=[unic_item], value=[i])\n",
    "        \n",
    "# Для не бинарных признаков применяется dummy-кодирование\n",
    "df_nonbinary = pd.get_dummies(df[nonbinary_columns])\n",
    "df.drop(nonbinary_columns, axis=1, inplace=True)\n",
    "df = pd.concat([df_nonbinary, df] , axis=1) # Соединение таблиц\n",
    "\n",
    "print(df.shape)\n",
    "df.head()"
   ]
  },
  {
   "cell_type": "markdown",
   "id": "geological-franklin",
   "metadata": {},
   "source": [
    "#### 5. Оцените корреляцию между признаками и удалите те признаки, которые коррелируют с наибольшим числом других"
   ]
  },
  {
   "cell_type": "code",
   "execution_count": 149,
   "id": "modular-mount",
   "metadata": {},
   "outputs": [
    {
     "data": {
      "text/plain": [
       "<AxesSubplot:>"
      ]
     },
     "execution_count": 149,
     "metadata": {},
     "output_type": "execute_result"
    },
    {
     "data": {
      "image/png": "[encoded data removed]",
      "text/plain": [
       "<Figure size 432x288 with 2 Axes>"
      ]
     },
     "metadata": {
      "needs_background": "light"
     },
     "output_type": "display_data"
    }
   ],
   "source": [
    "corr_matrix = df.drop(['nrOfPictures'], axis=1).corr()\n",
    "sns.heatmap(corr_matrix)"
   ]
  },
  {
   "cell_type": "markdown",
   "id": "descending-directory",
   "metadata": {},
   "source": [
    "#### 6. Заполните пропущенные значения в данных"
   ]
  },
  {
   "cell_type": "code",
   "execution_count": 56,
   "id": "advisory-mining",
   "metadata": {},
   "outputs": [
    {
     "name": "stdout",
     "output_type": "stream",
     "text": [
      "<class 'pandas.core.frame.DataFrame'>\n",
      "Int64Index: 260952 entries, 3 to 371527\n",
      "Data columns (total 64 columns):\n",
      " #   Column                  Non-Null Count   Dtype  \n",
      "---  ------                  --------------   -----  \n",
      " 0   vehicleType_andere      260952 non-null  uint8  \n",
      " 1   vehicleType_bus         260952 non-null  uint8  \n",
      " 2   vehicleType_cabrio      260952 non-null  uint8  \n",
      " 3   vehicleType_coupe       260952 non-null  uint8  \n",
      " 4   vehicleType_kleinwagen  260952 non-null  uint8  \n",
      " 5   vehicleType_kombi       260952 non-null  uint8  \n",
      " 6   vehicleType_limousine   260952 non-null  uint8  \n",
      " 7   vehicleType_suv         260952 non-null  uint8  \n",
      " 8   fuelType_andere         260952 non-null  uint8  \n",
      " 9   fuelType_benzin         260952 non-null  uint8  \n",
      " 10  fuelType_cng            260952 non-null  uint8  \n",
      " 11  fuelType_diesel         260952 non-null  uint8  \n",
      " 12  fuelType_elektro        260952 non-null  uint8  \n",
      " 13  fuelType_hybrid         260952 non-null  uint8  \n",
      " 14  fuelType_lpg            260952 non-null  uint8  \n",
      " 15  brand_alfa_romeo        260952 non-null  uint8  \n",
      " 16  brand_audi              260952 non-null  uint8  \n",
      " 17  brand_bmw               260952 non-null  uint8  \n",
      " 18  brand_chevrolet         260952 non-null  uint8  \n",
      " 19  brand_chrysler          260952 non-null  uint8  \n",
      " 20  brand_citroen           260952 non-null  uint8  \n",
      " 21  brand_dacia             260952 non-null  uint8  \n",
      " 22  brand_daewoo            260952 non-null  uint8  \n",
      " 23  brand_daihatsu          260952 non-null  uint8  \n",
      " 24  brand_fiat              260952 non-null  uint8  \n",
      " 25  brand_ford              260952 non-null  uint8  \n",
      " 26  brand_honda             260952 non-null  uint8  \n",
      " 27  brand_hyundai           260952 non-null  uint8  \n",
      " 28  brand_jaguar            260952 non-null  uint8  \n",
      " 29  brand_jeep              260952 non-null  uint8  \n",
      " 30  brand_kia               260952 non-null  uint8  \n",
      " 31  brand_lada              260952 non-null  uint8  \n",
      " 32  brand_lancia            260952 non-null  uint8  \n",
      " 33  brand_land_rover        260952 non-null  uint8  \n",
      " 34  brand_mazda             260952 non-null  uint8  \n",
      " 35  brand_mercedes_benz     260952 non-null  uint8  \n",
      " 36  brand_mini              260952 non-null  uint8  \n",
      " 37  brand_mitsubishi        260952 non-null  uint8  \n",
      " 38  brand_nissan            260952 non-null  uint8  \n",
      " 39  brand_opel              260952 non-null  uint8  \n",
      " 40  brand_peugeot           260952 non-null  uint8  \n",
      " 41  brand_porsche           260952 non-null  uint8  \n",
      " 42  brand_renault           260952 non-null  uint8  \n",
      " 43  brand_rover             260952 non-null  uint8  \n",
      " 44  brand_saab              260952 non-null  uint8  \n",
      " 45  brand_seat              260952 non-null  uint8  \n",
      " 46  brand_skoda             260952 non-null  uint8  \n",
      " 47  brand_smart             260952 non-null  uint8  \n",
      " 48  brand_subaru            260952 non-null  uint8  \n",
      " 49  brand_suzuki            260952 non-null  uint8  \n",
      " 50  brand_toyota            260952 non-null  uint8  \n",
      " 51  brand_trabant           260952 non-null  uint8  \n",
      " 52  brand_volkswagen        260952 non-null  uint8  \n",
      " 53  brand_volvo             260952 non-null  uint8  \n",
      " 54  seller                  260952 non-null  int64  \n",
      " 55  price                   260952 non-null  float64\n",
      " 56  abtest                  260952 non-null  int64  \n",
      " 57  yearOfRegistration      260952 non-null  float64\n",
      " 58  gearbox                 260952 non-null  int64  \n",
      " 59  powerPS                 260952 non-null  float64\n",
      " 60  kilometer               260952 non-null  float64\n",
      " 61  monthOfRegistration     260952 non-null  float64\n",
      " 62  notRepairedDamage       260952 non-null  int64  \n",
      " 63  nrOfPictures            260952 non-null  float64\n",
      "dtypes: float64(6), int64(4), uint8(54)\n",
      "memory usage: 35.3 MB\n"
     ]
    }
   ],
   "source": [
    "df.info()"
   ]
  },
  {
   "cell_type": "markdown",
   "id": "fitting-citizenship",
   "metadata": {},
   "source": [
    "#### 7. Решите поставленную задачу регрессии в соответствии с заданием. При подборе параметров метода принятия решения (метода регрессии) используйте перекрёстную проверку (изучите возможные для изменения параметры метода регрессии). Вычислите точность решения задачи, вычислив разницу между реальным значением и предсказанным. Вычислите коэффициент корреляции (Пирсона, Спирмена) между реальным значением и предсказанным с учётом p-value."
   ]
  },
  {
   "cell_type": "code",
   "execution_count": 66,
   "id": "considerable-fraud",
   "metadata": {},
   "outputs": [],
   "source": [
    "from  sklearn import linear_model"
   ]
  },
  {
   "cell_type": "code",
   "execution_count": 72,
   "id": "unique-missile",
   "metadata": {},
   "outputs": [
    {
     "name": "stdout",
     "output_type": "stream",
     "text": [
      "173420   -0.000007\n",
      "182741   -0.000100\n",
      "271616   -0.000042\n",
      "218173    0.000011\n",
      "361460   -0.000031\n",
      "45771    -0.000034\n",
      "297004    0.000044\n",
      "58119    -0.000009\n",
      "304305    0.000055\n",
      "183986   -0.000010\n",
      "274833    0.000051\n",
      "346765   -0.000058\n",
      "237316   -0.000016\n",
      "107975   -0.000007\n",
      "241922   -0.000035\n",
      "Name: price, dtype: float64\n"
     ]
    }
   ],
   "source": [
    "# Линейная регрессия - без регуляризаторов\n",
    "X, y = df.drop(['price'], axis=1), df['price']\n",
    "# Разделяем данные на тренировочную и тестовую выборки\n",
    "X_train, X_test, y_train, y_test = train_test_split(X, y, test_size = 0.3, random_state = 123)\n",
    "reg = linear_model.LinearRegression()\n",
    "# Выполняем обучение модели\n",
    "reg.fit(X_train,y_train)\n",
    "pred_reg = reg.predict(X_test)\n",
    "# Выводим разницу между реальным значением и предсказанным\n",
    "print(pred_reg[:15] - y_test[:15])"
   ]
  },
  {
   "cell_type": "code",
   "execution_count": 73,
   "id": "superb-harassment",
   "metadata": {},
   "outputs": [
    {
     "name": "stdout",
     "output_type": "stream",
     "text": [
      "Pearson correlation: 0.014861803399002234 p_value: 3.204260517573875e-05\n",
      "Spearmen correlation: 0.6746882249078172 p_value: 0.0\n"
     ]
    }
   ],
   "source": [
    "# Коэфф-ты корреляции\n",
    "P, p_value_P = pearsonr(pred_reg, y_test)\n",
    "S, p_value_S = spearmanr(pred_reg, y_test)\n",
    "print(f\"Pearson correlation: {P} p_value: {p_value_P}\\nSpearmen correlation: {S} p_value: {p_value_S}\")"
   ]
  },
  {
   "cell_type": "code",
   "execution_count": 74,
   "id": "appreciated-invention",
   "metadata": {},
   "outputs": [
    {
     "name": "stdout",
     "output_type": "stream",
     "text": [
      "best alpha: 0.95\n"
     ]
    }
   ],
   "source": [
    "# Линейная регрессия - RIDGE\n",
    "import warnings\n",
    "warnings.filterwarnings(\"ignore\")\n",
    "reg = linear_model.Ridge()\n",
    "params = {'alpha': np.arange(0, 1, 0.05)}\n",
    "reg_grid = GridSearchCV(reg, params)\n",
    "# Выполняем обучение модели\n",
    "reg_grid.fit(X_train, y_train)\n",
    "best_alpha = reg_grid.best_estimator_.alpha\n",
    "print('best alpha: ', end = '')\n",
    "print('%.2f' % best_alpha)"
   ]
  },
  {
   "cell_type": "code",
   "execution_count": 75,
   "id": "proved-sheet",
   "metadata": {},
   "outputs": [
    {
     "name": "stdout",
     "output_type": "stream",
     "text": [
      "173420   -0.000008\n",
      "182741   -0.000100\n",
      "271616   -0.000042\n",
      "218173    0.000011\n",
      "361460   -0.000031\n",
      "45771    -0.000034\n",
      "297004    0.000044\n",
      "58119    -0.000009\n",
      "304305    0.000055\n",
      "183986   -0.000009\n",
      "274833    0.000051\n",
      "346765   -0.000058\n",
      "237316   -0.000016\n",
      "107975   -0.000007\n",
      "241922   -0.000034\n",
      "Name: price, dtype: float64\n"
     ]
    }
   ],
   "source": [
    "reg = linear_model.Ridge(alpha=best_alpha)\n",
    "reg.fit(X_train,y_train)\n",
    "pred_reg = reg.predict(X_test)\n",
    "# Выводим разницу между реальным значением и предсказанным.\n",
    "print(pred_reg[:15] - y_test[:15])"
   ]
  },
  {
   "cell_type": "code",
   "execution_count": 76,
   "id": "banned-correction",
   "metadata": {},
   "outputs": [
    {
     "name": "stdout",
     "output_type": "stream",
     "text": [
      "Pearson correlation: 0.014869367493920514 p_value: 3.174704534043214e-05\n",
      "Spearmen correlation: 0.6737630989773014 p_value: 0.0\n"
     ]
    }
   ],
   "source": [
    "# Коэфф-ты корреляции\n",
    "P, p_value_P = pearsonr(pred_reg, y_test)\n",
    "S, p_value_S = spearmanr(pred_reg, y_test)\n",
    "print(f\"Pearson correlation: {P} p_value: {p_value_P}\\nSpearmen correlation: {S} p_value: {p_value_S}\")"
   ]
  },
  {
   "cell_type": "code",
   "execution_count": null,
   "id": "proud-language",
   "metadata": {},
   "outputs": [],
   "source": []
  }
 ],
 "metadata": {
  "kernelspec": {
   "display_name": "Python 3",
   "language": "python",
   "name": "python3"
  },
  "language_info": {
   "codemirror_mode": {
    "name": "ipython",
    "version": 3
   },
   "file_extension": ".py",
   "mimetype": "text/x-python",
   "name": "python",
   "nbconvert_exporter": "python",
   "pygments_lexer": "ipython3",
   "version": "3.9.2"
  }
 },
 "nbformat": 4,
 "nbformat_minor": 5
}
