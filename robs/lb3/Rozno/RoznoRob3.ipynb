{
  "nbformat": 4,
  "nbformat_minor": 0,
  "metadata": {
    "colab": {
      "name": "RoznoRob3.ipynb",
      "provenance": []
    },
    "kernelspec": {
      "name": "python3",
      "display_name": "Python 3"
    },
    "language_info": {
      "name": "python"
    },
    "accelerator": "GPU"
  },
  "cells": [
    {
      "cell_type": "code",
      "metadata": {
        "id": "u_DIdz6Oxgw3"
      },
      "source": [
        "# Подключение модулей\n",
        "from keras.models import Sequential, Model\n",
        "from keras.layers import Lambda, Input\n",
        "from keras.backend import tf as ktf\n",
        "from keras.layers.core import Activation, Flatten, Dense, Dropout\n",
        "from keras.layers.convolutional import Convolution2D, MaxPooling2D, ZeroPadding2D\n",
        "from keras.optimizers import SGD, Adam\n",
        "from tensorflow.python.keras.preprocessing.image import ImageDataGenerator\n",
        "from keras.applications.vgg16 import VGG16, preprocess_input\n",
        "from keras.datasets import fashion_mnist \n",
        "from keras.utils import np_utils\n",
        "from keras.preprocessing.image import ImageDataGenerator\n",
        "import cv2, numpy as np\n",
        "import keras\n",
        "import matplotlib.pyplot as plt\n",
        "%matplotlib inline"
      ],
      "execution_count": 66,
      "outputs": []
    },
    {
      "cell_type": "code",
      "metadata": {
        "id": "Hy7JDoSNytEi"
      },
      "source": [
        "#загрузили данные\n",
        "(x_train, y_train), (x_test, y_test) = fashion_mnist.load_data()\n"
      ],
      "execution_count": 56,
      "outputs": []
    },
    {
      "cell_type": "code",
      "metadata": {
        "id": "4RSN2E_Ey2Rx"
      },
      "source": [
        "# Размер изображений\n",
        "img_width, img_height = 28, 28\n",
        "# Размер мини-выборки\n",
        "batch_size = 100\n",
        "# Кол-во изображений для обучения\n",
        "nb_train_samples = 60000\n",
        "# Кол-во изображений для теста\n",
        "nb_test_samples = 10000"
      ],
      "execution_count": 57,
      "outputs": []
    },
    {
      "cell_type": "code",
      "metadata": {
        "id": "5Wz-nqlDziN3"
      },
      "source": [
        "# Нормализируем значения из 0-255 к 0.0-1.0\n",
        "x_train = x_train.astype('float32')\n",
        "x_test = x_test.astype('float32')\n",
        "x_train = x_train / 255.0\n",
        "x_test = x_test / 255.0\n",
        "x_train = np.stack((x_train,)*3, axis=-1)\n",
        "x_test = np.stack((x_test,)*3, axis=-1)\n",
        "\n",
        "# one hot encode outputs\n",
        "y_train = np_utils.to_categorical(y_train)\n",
        "y_test = np_utils.to_categorical(y_test)\n",
        "num_classes = y_test.shape[1]"
      ],
      "execution_count": 58,
      "outputs": []
    },
    {
      "cell_type": "code",
      "metadata": {
        "colab": {
          "base_uri": "https://localhost:8080/"
        },
        "id": "0MFicwJ9znK_",
        "outputId": "1743f4de-26e8-41b7-b73f-75e3db010e66"
      },
      "source": [
        "# Создание экземпляра модели сети VGG16\n",
        "vgg16_net = VGG16(weights='imagenet', include_top=False, input_shape=(128, 128, 3))\n",
        "# weights - веса предварительно обученной сети\n",
        "# include_top = false означает, что мы загружаем только сверточную часть сети, без квалификационной\n",
        "# input_shape - размер тензора\n",
        "\n",
        "# Сверточную часть сети обучать не надо\n",
        "vgg16_net.trainable = True\n",
        "trainable = False\n",
        "for layer in vgg16_net.layers:\n",
        "  if layer.name == 'block1_conv1':\n",
        "    trainable = True\n",
        "  layer.trainable = trainable\n",
        "\n",
        "vgg16_net.summary()"
      ],
      "execution_count": 59,
      "outputs": [
        {
          "output_type": "stream",
          "text": [
            "Model: \"vgg16\"\n",
            "_________________________________________________________________\n",
            "Layer (type)                 Output Shape              Param #   \n",
            "=================================================================\n",
            "input_6 (InputLayer)         [(None, 128, 128, 3)]     0         \n",
            "_________________________________________________________________\n",
            "block1_conv1 (Conv2D)        (None, 128, 128, 64)      1792      \n",
            "_________________________________________________________________\n",
            "block1_conv2 (Conv2D)        (None, 128, 128, 64)      36928     \n",
            "_________________________________________________________________\n",
            "block1_pool (MaxPooling2D)   (None, 64, 64, 64)        0         \n",
            "_________________________________________________________________\n",
            "block2_conv1 (Conv2D)        (None, 64, 64, 128)       73856     \n",
            "_________________________________________________________________\n",
            "block2_conv2 (Conv2D)        (None, 64, 64, 128)       147584    \n",
            "_________________________________________________________________\n",
            "block2_pool (MaxPooling2D)   (None, 32, 32, 128)       0         \n",
            "_________________________________________________________________\n",
            "block3_conv1 (Conv2D)        (None, 32, 32, 256)       295168    \n",
            "_________________________________________________________________\n",
            "block3_conv2 (Conv2D)        (None, 32, 32, 256)       590080    \n",
            "_________________________________________________________________\n",
            "block3_conv3 (Conv2D)        (None, 32, 32, 256)       590080    \n",
            "_________________________________________________________________\n",
            "block3_pool (MaxPooling2D)   (None, 16, 16, 256)       0         \n",
            "_________________________________________________________________\n",
            "block4_conv1 (Conv2D)        (None, 16, 16, 512)       1180160   \n",
            "_________________________________________________________________\n",
            "block4_conv2 (Conv2D)        (None, 16, 16, 512)       2359808   \n",
            "_________________________________________________________________\n",
            "block4_conv3 (Conv2D)        (None, 16, 16, 512)       2359808   \n",
            "_________________________________________________________________\n",
            "block4_pool (MaxPooling2D)   (None, 8, 8, 512)         0         \n",
            "_________________________________________________________________\n",
            "block5_conv1 (Conv2D)        (None, 8, 8, 512)         2359808   \n",
            "_________________________________________________________________\n",
            "block5_conv2 (Conv2D)        (None, 8, 8, 512)         2359808   \n",
            "_________________________________________________________________\n",
            "block5_conv3 (Conv2D)        (None, 8, 8, 512)         2359808   \n",
            "_________________________________________________________________\n",
            "block5_pool (MaxPooling2D)   (None, 4, 4, 512)         0         \n",
            "=================================================================\n",
            "Total params: 14,714,688\n",
            "Trainable params: 14,714,688\n",
            "Non-trainable params: 0\n",
            "_________________________________________________________________\n"
          ],
          "name": "stdout"
        }
      ]
    },
    {
      "cell_type": "code",
      "metadata": {
        "colab": {
          "base_uri": "https://localhost:8080/"
        },
        "id": "5Dw_vRxz_EHT",
        "outputId": "b0596a3d-946e-4e62-b116-ec28cec11d95"
      },
      "source": [
        "# 3 channel images of arbitrary shape\n",
        "inp = Input(shape=(None, None, 3))\n",
        "out = Lambda(lambda image: ktf.image.resize(image, (128, 128)))(inp)\n",
        "\n",
        "inputLayer = Model(inputs=inp, outputs=out, name=\"resizer\")\n",
        "inputLayer.summary()"
      ],
      "execution_count": 60,
      "outputs": [
        {
          "output_type": "stream",
          "text": [
            "Model: \"resizer\"\n",
            "_________________________________________________________________\n",
            "Layer (type)                 Output Shape              Param #   \n",
            "=================================================================\n",
            "input_7 (InputLayer)         [(None, None, None, 3)]   0         \n",
            "_________________________________________________________________\n",
            "lambda_1 (Lambda)            (None, 128, 128, 3)       0         \n",
            "=================================================================\n",
            "Total params: 0\n",
            "Trainable params: 0\n",
            "Non-trainable params: 0\n",
            "_________________________________________________________________\n"
          ],
          "name": "stdout"
        }
      ]
    },
    {
      "cell_type": "code",
      "metadata": {
        "colab": {
          "base_uri": "https://localhost:8080/"
        },
        "id": "omgVbeoiC_g0",
        "outputId": "a092ddf7-65ad-4958-f80c-4d945f7cefd7"
      },
      "source": [
        "# Создание модели составной сети\n",
        "model = Sequential()\n",
        "# Добавляем слой для преобразования размера изображения\n",
        "model.add(inputLayer)\n",
        "# Добавляем сверточные слои\n",
        "model.add(vgg16_net)\n",
        "# Преобразуем двумерный массив MobileNet в одномерный\n",
        "model.add(Flatten())\n",
        "# Полносвязный слой\n",
        "model.add(Dense(256, activation='relu'))\n",
        "# Слой регуляризации (для предотвращения переобучения)\n",
        "model.add(Dropout(0.5))\n",
        "# Кол-во классов\n",
        "model.add(Dense(num_classes, activation='softmax'))\n",
        "model.summary()"
      ],
      "execution_count": 61,
      "outputs": [
        {
          "output_type": "stream",
          "text": [
            "Model: \"sequential_4\"\n",
            "_________________________________________________________________\n",
            "Layer (type)                 Output Shape              Param #   \n",
            "=================================================================\n",
            "resizer (Functional)         (None, 128, 128, 3)       0         \n",
            "_________________________________________________________________\n",
            "vgg16 (Functional)           (None, 4, 4, 512)         14714688  \n",
            "_________________________________________________________________\n",
            "flatten_3 (Flatten)          (None, 8192)              0         \n",
            "_________________________________________________________________\n",
            "dense_6 (Dense)              (None, 256)               2097408   \n",
            "_________________________________________________________________\n",
            "dropout_3 (Dropout)          (None, 256)               0         \n",
            "_________________________________________________________________\n",
            "dense_7 (Dense)              (None, 10)                2570      \n",
            "=================================================================\n",
            "Total params: 16,814,666\n",
            "Trainable params: 16,814,666\n",
            "Non-trainable params: 0\n",
            "_________________________________________________________________\n"
          ],
          "name": "stdout"
        }
      ]
    },
    {
      "cell_type": "code",
      "metadata": {
        "colab": {
          "base_uri": "https://localhost:8080/"
        },
        "id": "OCHc9CF_DDWs",
        "outputId": "b7ef57f5-9022-4da1-a019-449c5eed11e9"
      },
      "source": [
        "# Компилируем составную сеть\n",
        "epochs = 5\n",
        "model.compile(loss='categorical_crossentropy',\n",
        "              optimizer=Adam(lr=1e-5), \n",
        "              metrics=['accuracy'])"
      ],
      "execution_count": 62,
      "outputs": [
        {
          "output_type": "stream",
          "text": [
            "/usr/local/lib/python3.7/dist-packages/tensorflow/python/keras/optimizer_v2/optimizer_v2.py:375: UserWarning: The `lr` argument is deprecated, use `learning_rate` instead.\n",
            "  \"The `lr` argument is deprecated, use `learning_rate` instead.\")\n"
          ],
          "name": "stderr"
        }
      ]
    },
    {
      "cell_type": "code",
      "metadata": {
        "colab": {
          "base_uri": "https://localhost:8080/"
        },
        "id": "TkjNgUeANzTX",
        "outputId": "e5a27696-39da-4d71-fb14-40cd7c32fb10"
      },
      "source": [
        "history = model.fit(x_train, y_train, validation_data=(x_test, y_test), epochs = epochs, batch_size=300)\n"
      ],
      "execution_count": 75,
      "outputs": [
        {
          "output_type": "stream",
          "text": [
            "Epoch 1/5\n",
            "200/200 [==============================] - 272s 1s/step - loss: 0.2872 - accuracy: 0.8989 - val_loss: 0.2265 - val_accuracy: 0.9187\n",
            "Epoch 2/5\n",
            "200/200 [==============================] - 258s 1s/step - loss: 0.2039 - accuracy: 0.9280 - val_loss: 0.1997 - val_accuracy: 0.9293\n",
            "Epoch 3/5\n",
            "200/200 [==============================] - 260s 1s/step - loss: 0.1754 - accuracy: 0.9376 - val_loss: 0.1863 - val_accuracy: 0.9317\n",
            "Epoch 4/5\n",
            "200/200 [==============================] - 260s 1s/step - loss: 0.1569 - accuracy: 0.9450 - val_loss: 0.1804 - val_accuracy: 0.9354\n",
            "Epoch 5/5\n",
            "200/200 [==============================] - 260s 1s/step - loss: 0.1479 - accuracy: 0.9473 - val_loss: 0.1817 - val_accuracy: 0.9343\n"
          ],
          "name": "stdout"
        }
      ]
    },
    {
      "cell_type": "code",
      "metadata": {
        "colab": {
          "base_uri": "https://localhost:8080/",
          "height": 278
        },
        "id": "OvO7uBEuQMna",
        "outputId": "c1c37994-7f02-48ac-c366-6019bd52a934"
      },
      "source": [
        "plt.plot(history.history['accuracy'], label='Аккуратность на обучающем наборе')\n",
        "plt.plot(history.history['val_accuracy'], label='Аккуратность на проверочном наборе')\n",
        "plt.xlabel('Эпоха обучения')\n",
        "plt.ylabel('Аккуратность')\n",
        "plt.legend()\n",
        "plt.show()"
      ],
      "execution_count": 78,
      "outputs": [
        {
          "output_type": "display_data",
          "data": {
            "image/png": "[encoded data removed]",
            "text/plain": [
              "<Figure size 432x288 with 1 Axes>"
            ]
          },
          "metadata": {
            "tags": [],
            "needs_background": "light"
          }
        }
      ]
    },
    {
      "cell_type": "code",
      "metadata": {
        "colab": {
          "base_uri": "https://localhost:8080/",
          "height": 278
        },
        "id": "1F1AKUQQQOQy",
        "outputId": "4cef687b-96c0-4181-fb9b-d8b6afda8c4c"
      },
      "source": [
        "plt.plot(history.history['loss'], label='Ошибка на обучающем наборе')\n",
        "plt.plot(history.history['val_loss'], label='Ошибка на проверочном наборе')\n",
        "plt.xlabel('Эпоха обучения')\n",
        "plt.ylabel('Ошибка')\n",
        "plt.legend()\n",
        "plt.show()"
      ],
      "execution_count": 77,
      "outputs": [
        {
          "output_type": "display_data",
          "data": {
            "image/png": "[encoded data removed]",
            "text/plain": [
              "<Figure size 432x288 with 1 Axes>"
            ]
          },
          "metadata": {
            "tags": [],
            "needs_background": "light"
          }
        }
      ]
    },
    {
      "cell_type": "code",
      "metadata": {
        "colab": {
          "base_uri": "https://localhost:8080/"
        },
        "id": "ojcVtaqwVYY5",
        "outputId": "ce83e3c7-1266-4f39-d80e-629af9986b85"
      },
      "source": [
        "# Final evaluation of the model\n",
        "scores = model.evaluate(x_test, y_test, verbose=0)\n",
        "print(\"Accuracy: %.2f%%\" % (scores[1]*100))\n"
      ],
      "execution_count": 79,
      "outputs": [
        {
          "output_type": "stream",
          "text": [
            "Accuracy: 93.43%\n"
          ],
          "name": "stdout"
        }
      ]
    }
  ]
}